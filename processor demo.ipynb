{
    "cells": [
     {
      "cell_type": "markdown",
      "metadata": {},
      "source": [
       "# Processing"
      ]
     },
     {
      "cell_type": "markdown",
      "metadata": {},
      "source": [
       "## Imports"
      ]
     },
     {
      "cell_type": "code",
      "execution_count": 2,
      "metadata": {},
      "outputs": [
       {
        "name": "stdout",
        "output_type": "stream",
        "text": [
         "Requirement already satisfied: scipy in /home/jpaul4/.conda/envs/processing/lib/python3.10/site-packages (1.14.1)\n",
         "Requirement already satisfied: numpy<2.3,>=1.23.5 in /home/jpaul4/.conda/envs/processing/lib/python3.10/site-packages (from scipy) (2.1.3)\n",
         "Note: you may need to restart the kernel to use updated packages.\n"
        ]
       },
       {
        "data": {
         "text/plain": [
          "<module 'CU_POLARIS_Postprocessor.power_bi_processing.prep_utils' from '/home/jpaul4/processing/CU_POLARIS_Postprocessor/CU_POLARIS_Postprocessor/power_bi_processing/prep_utils.py'>"
         ]
        },
        "execution_count": 2,
        "metadata": {},
        "output_type": "execute_result"
       }
      ],
      "source": [
       "%pip install scipy\n",
       "import importlib as IL\n",
       "import CU_POLARIS_Postprocessor\n",
       "from CU_POLARIS_Postprocessor.config import PostProcessingConfig\n",
       "from CU_POLARIS_Postprocessor import prerun, parallel\n",
       "from CU_POLARIS_Postprocessor.power_bi_processing import prep_utils\n",
       "from pathlib import Path\n",
       "import importlib as IL\n",
       "import CU_POLARIS_Postprocessor\n",
       "import CU_POLARIS_Postprocessor.power_bi_processing\n",
       "import CU_POLARIS_Postprocessor.power_bi_processing.prep_utils\n",
       "IL.reload(CU_POLARIS_Postprocessor.power_bi_processing.prep_utils)\n",
       "\n",
       "\n"
      ]
     },
     {
      "cell_type": "markdown",
      "metadata": {},
      "source": [
       "## Config"
      ]
     },
     {
      "cell_type": "code",
      "execution_count": 5,
      "metadata": {},
      "outputs": [],
      "source": [
       "config_wtp=PostProcessingConfig(base_dir=Path(\"/scratch/jpaul4/mode_choice_cases/\"),\n",
       "                                output_h5=True,fresh_start=True,reset_csvs=True,reset_sql=True,reset_stops=False, db_names=['Austin'])"
      ]
     },
     {
      "cell_type": "markdown",
      "metadata": {},
      "source": [
       "## Preprocessing"
      ]
     },
     {
      "cell_type": "code",
      "execution_count": 6,
      "metadata": {},
      "outputs": [
       {
        "name": "stdout",
        "output_type": "stream",
        "text": [
         "Cleaning: /scratch/jpaul4/mode_choice_cases/atx_27500/Austin_iteration_7\n",
         "Cleaning: /scratch/jpaul4/mode_choice_cases/atx_27500_heur/Austin_iteration_7\n",
         "Cleaning: /scratch/jpaul4/mode_choice_cases/atx_35000/Austin_iteration_7\n",
         "Cleaning: /scratch/jpaul4/mode_choice_cases/atx_35000_heur/Austin_iteration_7\n",
         "Cleaning: /scratch/jpaul4/mode_choice_cases/atx_45000/Austin_iteration_7\n",
         "Cleaning: /scratch/jpaul4/mode_choice_cases/atx_45000_heur/Austin_iteration_7\n",
         "Cleaning: /scratch/jpaul4/mode_choice_cases/atx_55000/Austin_iteration_7\n",
         "Cleaning: /scratch/jpaul4/mode_choice_cases/atx_55000_heur/Austin_iteration_7\n",
         "Cleaning: /scratch/jpaul4/mode_choice_cases/atx_65000/Austin_iteration_7\n",
         "Cleaning: /scratch/jpaul4/mode_choice_cases/atx_65000_heur/Austin_iteration_7\n",
         "Cleaning: /scratch/jpaul4/mode_choice_cases/atx_75000/Austin_iteration_7\n",
         "Cleaning: /scratch/jpaul4/mode_choice_cases/atx_75000_heur/Austin_iteration_7\n",
         "Cleaning: /scratch/jpaul4/mode_choice_cases/atx_85000/Austin_iteration_7\n",
         "Cleaning: /scratch/jpaul4/mode_choice_cases/atx_85000_heur/Austin_iteration_7\n",
         "Cleaning: /scratch/jpaul4/mode_choice_cases/atx_95000/Austin_iteration_7\n",
         "Cleaning: /scratch/jpaul4/mode_choice_cases/atx_95000_heur/Austin_iteration_7\n",
         "File /scratch/jpaul4/mode_choice_cases/transit_trip_max_load_helper.csv has been deleted successfully.\n",
         "File /scratch/jpaul4/mode_choice_cases/transit_trip_max_load.csv has been deleted successfully.\n",
         "File /scratch/jpaul4/mode_choice_cases/mode_Distribution_ADULT_Counts.csv has been deleted successfully.\n",
         "File /scratch/jpaul4/mode_choice_cases/mode_Distribution_ADULT_Distance.csv has been deleted successfully.\n",
         "File /scratch/jpaul4/mode_choice_cases/bus_avo.csv has been deleted successfully.\n",
         "File /scratch/jpaul4/mode_choice_cases/pr_avo.csv has been deleted successfully.\n",
         "File /scratch/jpaul4/mode_choice_cases/fare_sensitivity_results.csv has been deleted successfully.\n",
         "File /scratch/jpaul4/mode_choice_cases/mode_Distribution_ADULT.csv has been deleted successfully.\n",
         "File /scratch/jpaul4/mode_choice_cases/distance_tnc_dist.csv has been deleted successfully.\n",
         "File /scratch/jpaul4/mode_choice_cases/fare_sensitivity_results_zonal.csv has been deleted successfully.\n",
         "File /scratch/jpaul4/mode_choice_cases/fare_sensitivity_demograpic_tnc_stats.csv has been deleted successfully.\n",
         "File /scratch/jpaul4/mode_choice_cases/fare_sensitivity_results_vo.csv has been deleted successfully.\n",
         "File /scratch/jpaul4/mode_choice_cases/tnc_results_discount.csv has been deleted successfully.\n",
         "File /scratch/jpaul4/mode_choice_cases/elder_demo.csv has been deleted successfully.\n",
         "File /scratch/jpaul4/mode_choice_cases/activity_times.csv has been deleted successfully.\n",
         "File /scratch/jpaul4/mode_choice_cases/requests_sum.csv has been deleted successfully.\n",
         "File /scratch/jpaul4/mode_choice_cases/closest_stops.csv has been deleted successfully.\n",
         "File /scratch/jpaul4/mode_choice_cases/tnc_stat_summary.csv has been deleted successfully.\n",
         "File /scratch/jpaul4/mode_choice_cases/tnc_skim_demo.csv has been deleted successfully.\n",
         "File /scratch/jpaul4/mode_choice_cases/atx_27500/Austin_iteration_7/requests.csv has been deleted successfully.\n",
         "File /scratch/jpaul4/mode_choice_cases/atx_27500_heur/Austin_iteration_7/requests.csv has been deleted successfully.\n",
         "File /scratch/jpaul4/mode_choice_cases/atx_35000/Austin_iteration_7/requests.csv has been deleted successfully.\n",
         "File /scratch/jpaul4/mode_choice_cases/atx_35000_heur/Austin_iteration_7/requests.csv has been deleted successfully.\n",
         "File /scratch/jpaul4/mode_choice_cases/atx_45000/Austin_iteration_7/requests.csv has been deleted successfully.\n",
         "File /scratch/jpaul4/mode_choice_cases/atx_45000_heur/Austin_iteration_7/requests.csv has been deleted successfully.\n",
         "File /scratch/jpaul4/mode_choice_cases/atx_55000/Austin_iteration_7/requests.csv has been deleted successfully.\n",
         "File /scratch/jpaul4/mode_choice_cases/atx_55000_heur/Austin_iteration_7/requests.csv has been deleted successfully.\n",
         "File /scratch/jpaul4/mode_choice_cases/atx_65000/Austin_iteration_7/requests.csv has been deleted successfully.\n",
         "File /scratch/jpaul4/mode_choice_cases/atx_65000_heur/Austin_iteration_7/requests.csv has been deleted successfully.\n",
         "File /scratch/jpaul4/mode_choice_cases/atx_75000/Austin_iteration_7/requests.csv has been deleted successfully.\n",
         "File /scratch/jpaul4/mode_choice_cases/atx_75000_heur/Austin_iteration_7/requests.csv has been deleted successfully.\n",
         "File /scratch/jpaul4/mode_choice_cases/atx_85000/Austin_iteration_7/requests.csv has been deleted successfully.\n",
         "File /scratch/jpaul4/mode_choice_cases/atx_85000_heur/Austin_iteration_7/requests.csv has been deleted successfully.\n",
         "File /scratch/jpaul4/mode_choice_cases/atx_95000/Austin_iteration_7/requests.csv has been deleted successfully.\n",
         "File /scratch/jpaul4/mode_choice_cases/atx_95000_heur/Austin_iteration_7/requests.csv has been deleted successfully.\n",
         "File /scratch/jpaul4/mode_choice_cases/atx_27500/Austin_iteration_7/requests_sum_helper.csv has been deleted successfully.\n",
         "File /scratch/jpaul4/mode_choice_cases/atx_27500_heur/Austin_iteration_7/requests_sum_helper.csv has been deleted successfully.\n",
         "File /scratch/jpaul4/mode_choice_cases/atx_35000/Austin_iteration_7/requests_sum_helper.csv has been deleted successfully.\n",
         "File /scratch/jpaul4/mode_choice_cases/atx_35000_heur/Austin_iteration_7/requests_sum_helper.csv has been deleted successfully.\n",
         "File /scratch/jpaul4/mode_choice_cases/atx_45000/Austin_iteration_7/requests_sum_helper.csv has been deleted successfully.\n",
         "File /scratch/jpaul4/mode_choice_cases/atx_45000_heur/Austin_iteration_7/requests_sum_helper.csv has been deleted successfully.\n",
         "File /scratch/jpaul4/mode_choice_cases/atx_55000/Austin_iteration_7/requests_sum_helper.csv has been deleted successfully.\n",
         "File /scratch/jpaul4/mode_choice_cases/atx_55000_heur/Austin_iteration_7/requests_sum_helper.csv has been deleted successfully.\n",
         "File /scratch/jpaul4/mode_choice_cases/atx_65000/Austin_iteration_7/requests_sum_helper.csv has been deleted successfully.\n",
         "File /scratch/jpaul4/mode_choice_cases/atx_65000_heur/Austin_iteration_7/requests_sum_helper.csv has been deleted successfully.\n",
         "File /scratch/jpaul4/mode_choice_cases/atx_75000/Austin_iteration_7/requests_sum_helper.csv has been deleted successfully.\n",
         "File /scratch/jpaul4/mode_choice_cases/atx_75000_heur/Austin_iteration_7/requests_sum_helper.csv has been deleted successfully.\n",
         "File /scratch/jpaul4/mode_choice_cases/atx_85000/Austin_iteration_7/requests_sum_helper.csv has been deleted successfully.\n",
         "File /scratch/jpaul4/mode_choice_cases/atx_85000_heur/Austin_iteration_7/requests_sum_helper.csv has been deleted successfully.\n",
         "File /scratch/jpaul4/mode_choice_cases/atx_95000/Austin_iteration_7/requests_sum_helper.csv has been deleted successfully.\n",
         "File /scratch/jpaul4/mode_choice_cases/atx_95000_heur/Austin_iteration_7/requests_sum_helper.csv has been deleted successfully.\n",
         "File /scratch/jpaul4/mode_choice_cases/atx_27500/Austin_iteration_7/closest_stops_helper.csv has been deleted successfully.\n",
         "File /scratch/jpaul4/mode_choice_cases/atx_27500_heur/Austin_iteration_7/closest_stops_helper.csv has been deleted successfully.\n",
         "File /scratch/jpaul4/mode_choice_cases/atx_35000/Austin_iteration_7/closest_stops_helper.csv has been deleted successfully.\n",
         "File /scratch/jpaul4/mode_choice_cases/atx_35000_heur/Austin_iteration_7/closest_stops_helper.csv has been deleted successfully.\n",
         "File /scratch/jpaul4/mode_choice_cases/atx_45000/Austin_iteration_7/closest_stops_helper.csv has been deleted successfully.\n",
         "File /scratch/jpaul4/mode_choice_cases/atx_45000_heur/Austin_iteration_7/closest_stops_helper.csv has been deleted successfully.\n",
         "File /scratch/jpaul4/mode_choice_cases/atx_55000/Austin_iteration_7/closest_stops_helper.csv has been deleted successfully.\n",
         "File /scratch/jpaul4/mode_choice_cases/atx_55000_heur/Austin_iteration_7/closest_stops_helper.csv has been deleted successfully.\n",
         "File /scratch/jpaul4/mode_choice_cases/atx_65000/Austin_iteration_7/closest_stops_helper.csv has been deleted successfully.\n",
         "File /scratch/jpaul4/mode_choice_cases/atx_65000_heur/Austin_iteration_7/closest_stops_helper.csv has been deleted successfully.\n",
         "File /scratch/jpaul4/mode_choice_cases/atx_75000/Austin_iteration_7/closest_stops_helper.csv has been deleted successfully.\n",
         "File /scratch/jpaul4/mode_choice_cases/atx_75000_heur/Austin_iteration_7/closest_stops_helper.csv has been deleted successfully.\n",
         "File /scratch/jpaul4/mode_choice_cases/atx_85000/Austin_iteration_7/closest_stops_helper.csv has been deleted successfully.\n",
         "File /scratch/jpaul4/mode_choice_cases/atx_85000_heur/Austin_iteration_7/closest_stops_helper.csv has been deleted successfully.\n",
         "File /scratch/jpaul4/mode_choice_cases/atx_95000/Austin_iteration_7/closest_stops_helper.csv has been deleted successfully.\n",
         "File /scratch/jpaul4/mode_choice_cases/atx_95000_heur/Austin_iteration_7/closest_stops_helper.csv has been deleted successfully.\n"
        ]
       },
       {
        "data": {
         "text/plain": [
          "True"
         ]
        },
        "execution_count": 6,
        "metadata": {},
        "output_type": "execute_result"
       }
      ],
      "source": [
       "prerun.pre_run_checks(config_wtp)\n"
      ]
     },
     {
      "cell_type": "code",
      "execution_count": null,
      "metadata": {},
      "outputs": [],
      "source": []
     },
     {
      "cell_type": "markdown",
      "metadata": {},
      "source": [
       "### Show output of prerun"
      ]
     },
     {
      "cell_type": "code",
      "execution_count": 7,
      "metadata": {},
      "outputs": [
       {
        "data": {
         "text/html": [
          "<div>\n",
          "<style scoped>\n",
          "    .dataframe tbody tr th:only-of-type {\n",
          "        vertical-align: middle;\n",
          "    }\n",
          "\n",
          "    .dataframe tbody tr th {\n",
          "        vertical-align: top;\n",
          "    }\n",
          "\n",
          "    .dataframe thead th {\n",
          "        text-align: right;\n",
          "    }\n",
          "</style>\n",
          "<table border=\"1\" class=\"dataframe\">\n",
          "  <thead>\n",
          "    <tr style=\"text-align: right;\">\n",
          "      <th></th>\n",
          "      <th>Key</th>\n",
          "      <th>Type</th>\n",
          "      <th>Exists</th>\n",
          "      <th>Location</th>\n",
          "    </tr>\n",
          "  </thead>\n",
          "  <tbody>\n",
          "    <tr>\n",
          "      <th>0</th>\n",
          "      <td>transit_trip_max_load_helper</td>\n",
          "      <td>sql</td>\n",
          "      <td>False</td>\n",
          "      <td>/scratch/jpaul4/mode_choice_cases/transit_trip...</td>\n",
          "    </tr>\n",
          "    <tr>\n",
          "      <th>1</th>\n",
          "      <td>transit_trip_max_load</td>\n",
          "      <td>sql</td>\n",
          "      <td>False</td>\n",
          "      <td>/scratch/jpaul4/mode_choice_cases/transit_trip...</td>\n",
          "    </tr>\n",
          "    <tr>\n",
          "      <th>2</th>\n",
          "      <td>mode_Distribution_ADULT_Counts</td>\n",
          "      <td>sql</td>\n",
          "      <td>False</td>\n",
          "      <td>/scratch/jpaul4/mode_choice_cases/mode_Distrib...</td>\n",
          "    </tr>\n",
          "    <tr>\n",
          "      <th>3</th>\n",
          "      <td>mode_Distribution_ADULT_Distance</td>\n",
          "      <td>sql</td>\n",
          "      <td>False</td>\n",
          "      <td>/scratch/jpaul4/mode_choice_cases/mode_Distrib...</td>\n",
          "    </tr>\n",
          "    <tr>\n",
          "      <th>4</th>\n",
          "      <td>bus_avo</td>\n",
          "      <td>sql</td>\n",
          "      <td>False</td>\n",
          "      <td>/scratch/jpaul4/mode_choice_cases/bus_avo.csv</td>\n",
          "    </tr>\n",
          "    <tr>\n",
          "      <th>...</th>\n",
          "      <td>...</td>\n",
          "      <td>...</td>\n",
          "      <td>...</td>\n",
          "      <td>...</td>\n",
          "    </tr>\n",
          "    <tr>\n",
          "      <th>62</th>\n",
          "      <td>closest_stops_helper_atx_75000_heur</td>\n",
          "      <td>postprocessing_helper</td>\n",
          "      <td>False</td>\n",
          "      <td>/scratch/jpaul4/mode_choice_cases/atx_75000_he...</td>\n",
          "    </tr>\n",
          "    <tr>\n",
          "      <th>63</th>\n",
          "      <td>closest_stops_helper_atx_85000</td>\n",
          "      <td>postprocessing_helper</td>\n",
          "      <td>False</td>\n",
          "      <td>/scratch/jpaul4/mode_choice_cases/atx_85000/Au...</td>\n",
          "    </tr>\n",
          "    <tr>\n",
          "      <th>64</th>\n",
          "      <td>closest_stops_helper_atx_85000_heur</td>\n",
          "      <td>postprocessing_helper</td>\n",
          "      <td>False</td>\n",
          "      <td>/scratch/jpaul4/mode_choice_cases/atx_85000_he...</td>\n",
          "    </tr>\n",
          "    <tr>\n",
          "      <th>65</th>\n",
          "      <td>closest_stops_helper_atx_95000</td>\n",
          "      <td>postprocessing_helper</td>\n",
          "      <td>False</td>\n",
          "      <td>/scratch/jpaul4/mode_choice_cases/atx_95000/Au...</td>\n",
          "    </tr>\n",
          "    <tr>\n",
          "      <th>66</th>\n",
          "      <td>closest_stops_helper_atx_95000_heur</td>\n",
          "      <td>postprocessing_helper</td>\n",
          "      <td>False</td>\n",
          "      <td>/scratch/jpaul4/mode_choice_cases/atx_95000_he...</td>\n",
          "    </tr>\n",
          "  </tbody>\n",
          "</table>\n",
          "<p>67 rows × 4 columns</p>\n",
          "</div>"
         ],
         "text/plain": [
          "                                    Key                   Type  Exists  \\\n",
          "0          transit_trip_max_load_helper                    sql   False   \n",
          "1                 transit_trip_max_load                    sql   False   \n",
          "2        mode_Distribution_ADULT_Counts                    sql   False   \n",
          "3      mode_Distribution_ADULT_Distance                    sql   False   \n",
          "4                               bus_avo                    sql   False   \n",
          "..                                  ...                    ...     ...   \n",
          "62  closest_stops_helper_atx_75000_heur  postprocessing_helper   False   \n",
          "63       closest_stops_helper_atx_85000  postprocessing_helper   False   \n",
          "64  closest_stops_helper_atx_85000_heur  postprocessing_helper   False   \n",
          "65       closest_stops_helper_atx_95000  postprocessing_helper   False   \n",
          "66  closest_stops_helper_atx_95000_heur  postprocessing_helper   False   \n",
          "\n",
          "                                             Location  \n",
          "0   /scratch/jpaul4/mode_choice_cases/transit_trip...  \n",
          "1   /scratch/jpaul4/mode_choice_cases/transit_trip...  \n",
          "2   /scratch/jpaul4/mode_choice_cases/mode_Distrib...  \n",
          "3   /scratch/jpaul4/mode_choice_cases/mode_Distrib...  \n",
          "4       /scratch/jpaul4/mode_choice_cases/bus_avo.csv  \n",
          "..                                                ...  \n",
          "62  /scratch/jpaul4/mode_choice_cases/atx_75000_he...  \n",
          "63  /scratch/jpaul4/mode_choice_cases/atx_85000/Au...  \n",
          "64  /scratch/jpaul4/mode_choice_cases/atx_85000_he...  \n",
          "65  /scratch/jpaul4/mode_choice_cases/atx_95000/Au...  \n",
          "66  /scratch/jpaul4/mode_choice_cases/atx_95000_he...  \n",
          "\n",
          "[67 rows x 4 columns]"
         ]
        },
        "execution_count": 7,
        "metadata": {},
        "output_type": "execute_result"
       }
      ],
      "source": [
       "import pandas as pd\n",
       "csvs = config_wtp.csvs\n",
       "demo = []\n",
       "for key, value in csvs.items():\n",
       "        # Extract the values for each column\n",
       "        type_val = value.get('type', None)\n",
       "        exists_val = value.get('exists', None)\n",
       "        location_val = value.get('path', None)\n",
       "        \n",
       "        # Append the row as a tuple\n",
       "        demo.append((key, type_val, exists_val, location_val))\n",
       "\n",
       "    # Create a DataFrame from the rows\n",
       "df = pd.DataFrame(demo, columns=['Key', 'Type', 'Exists', 'Location'])\n",
       "df"
      ]
     },
     {
      "cell_type": "markdown",
      "metadata": {},
      "source": [
       "## Process"
      ]
     },
     {
      "cell_type": "markdown",
      "metadata": {},
      "source": [
       "This takes about 10 minutes for these output folders from scratch, but it builds on existing incomplete processing or pulls results as needed."
      ]
     },
     {
      "cell_type": "code",
      "execution_count": 8,
      "metadata": {},
      "outputs": [
       {
        "name": "stdout",
        "output_type": "stream",
        "text": [
         "starting on directory /scratch/jpaul4/mode_choice_cases/atx_27500starting on directory /scratch/jpaul4/mode_choice_cases/atx_27500_heur\n",
         "\n",
         "starting on directory /scratch/jpaul4/mode_choice_cases/atx_35000\n",
         "starting on directory /scratch/jpaul4/mode_choice_cases/atx_35000_heur\n",
         "starting on directory /scratch/jpaul4/mode_choice_cases/atx_45000\n",
         "starting on directory /scratch/jpaul4/mode_choice_cases/atx_45000_heur\n",
         "starting on directory /scratch/jpaul4/mode_choice_cases/atx_55000\n",
         "starting on directory /scratch/jpaul4/mode_choice_cases/atx_55000_heur\n",
         "starting on directory /scratch/jpaul4/mode_choice_cases/atx_65000\n",
         "starting on directory /scratch/jpaul4/mode_choice_cases/atx_65000_heur\n",
         "starting on directory /scratch/jpaul4/mode_choice_cases/atx_75000\n",
         "starting on directory /scratch/jpaul4/mode_choice_cases/atx_75000_heur\n",
         "starting on directory /scratch/jpaul4/mode_choice_cases/atx_85000\n",
         "starting on directory /scratch/jpaul4/mode_choice_cases/atx_85000_heur\n",
         "starting on directory /scratch/jpaul4/mode_choice_cases/atx_95000\n",
         "starting on directory /scratch/jpaul4/mode_choice_cases/atx_95000_heur\n",
         "Processing requests_sum with process_solo_equiv_fare for atx_45000_heur_7.\n",
         "Processing requests_sum with process_solo_equiv_fare for atx_27500_7.\n",
         "Processing requests_sum with process_solo_equiv_fare for atx_27500_heur_7.\n",
         "Processing requests_sum with process_solo_equiv_fare for atx_55000_heur_7.\n",
         "Processing requests_sum with process_solo_equiv_fare for atx_35000_7.\n",
         "Processing requests_sum with process_solo_equiv_fare for atx_55000_7.\n",
         "Processing requests_sum with process_solo_equiv_fare for atx_95000_7.\n",
         "Processing requests_sum with process_solo_equiv_fare for atx_95000_heur_7.\n",
         "Processing requests_sum with process_solo_equiv_fare for atx_75000_7.\n",
         "Processing requests_sum with process_solo_equiv_fare for atx_65000_7.\n",
         "Processing requests_sum with process_solo_equiv_fare for atx_75000_heur_7.\n",
         "Processing requests_sum with process_solo_equiv_fare for atx_85000_7.\n",
         "Processing requests_sum with process_solo_equiv_fare for atx_35000_heur_7.\n",
         "Processing requests_sum with process_solo_equiv_fare for atx_85000_heur_7.\n",
         "Processing requests_sum with process_solo_equiv_fare for atx_65000_heur_7.\n",
         "Processing requests_sum with process_solo_equiv_fare for atx_45000_7.\n",
         "Generating skim request info for /scratch/jpaul4/mode_choice_cases/atx_45000_heur/Austin_iteration_7\n",
         "Finished skims for /scratch/jpaul4/mode_choice_cases/atx_45000_heur/Austin_iteration_7.\n",
         "Processing closest_stops with process_nearest_stops for atx_45000_heur_7.\n",
         "Starting stop processing for /scratch/jpaul4/mode_choice_cases/atx_45000_heur/Austin_iteration_7.\n",
         "Generating skim request info for /scratch/jpaul4/mode_choice_cases/atx_27500/Austin_iteration_7\n",
         "Generating skim request info for /scratch/jpaul4/mode_choice_cases/atx_55000_heur/Austin_iteration_7\n",
         "Generating skim request info for /scratch/jpaul4/mode_choice_cases/atx_27500_heur/Austin_iteration_7\n",
         "Generating skim request info for /scratch/jpaul4/mode_choice_cases/atx_55000/Austin_iteration_7\n",
         "Generating skim request info for /scratch/jpaul4/mode_choice_cases/atx_95000/Austin_iteration_7\n",
         "Generating skim request info for /scratch/jpaul4/mode_choice_cases/atx_95000_heur/Austin_iteration_7\n",
         "Generating skim request info for /scratch/jpaul4/mode_choice_cases/atx_35000_heur/Austin_iteration_7\n",
         "Generating skim request info for /scratch/jpaul4/mode_choice_cases/atx_65000/Austin_iteration_7\n",
         "Generating skim request info for /scratch/jpaul4/mode_choice_cases/atx_85000_heur/Austin_iteration_7\n",
         "Generating skim request info for /scratch/jpaul4/mode_choice_cases/atx_45000/Austin_iteration_7\n",
         "Generating skim request info for /scratch/jpaul4/mode_choice_cases/atx_85000/Austin_iteration_7\n",
         "Finished skims for /scratch/jpaul4/mode_choice_cases/atx_27500/Austin_iteration_7.\n",
         "Processing closest_stops with process_nearest_stops for atx_27500_7.\n",
         "Starting stop processing for /scratch/jpaul4/mode_choice_cases/atx_27500/Austin_iteration_7.\n",
         "Generating skim request info for /scratch/jpaul4/mode_choice_cases/atx_75000_heur/Austin_iteration_7\n",
         "Generating skim request info for /scratch/jpaul4/mode_choice_cases/atx_35000/Austin_iteration_7\n",
         "Generating skim request info for /scratch/jpaul4/mode_choice_cases/atx_75000/Austin_iteration_7\n",
         "Generating skim request info for /scratch/jpaul4/mode_choice_cases/atx_65000_heur/Austin_iteration_7\n",
         "Finished skims for /scratch/jpaul4/mode_choice_cases/atx_55000_heur/Austin_iteration_7.\n",
         "Processing closest_stops with process_nearest_stops for atx_55000_heur_7.\n",
         "Starting stop processing for /scratch/jpaul4/mode_choice_cases/atx_55000_heur/Austin_iteration_7.\n",
         "Finished skims for /scratch/jpaul4/mode_choice_cases/atx_27500_heur/Austin_iteration_7.\n",
         "Processing closest_stops with process_nearest_stops for atx_27500_heur_7.\n",
         "Starting stop processing for /scratch/jpaul4/mode_choice_cases/atx_27500_heur/Austin_iteration_7.\n",
         "Finished skims for /scratch/jpaul4/mode_choice_cases/atx_55000/Austin_iteration_7.\n",
         "Processing closest_stops with process_nearest_stops for atx_55000_7.\n",
         "Starting stop processing for /scratch/jpaul4/mode_choice_cases/atx_55000/Austin_iteration_7.\n",
         "Finished skims for /scratch/jpaul4/mode_choice_cases/atx_95000/Austin_iteration_7.\n",
         "Processing closest_stops with process_nearest_stops for atx_95000_7.\n",
         "Starting stop processing for /scratch/jpaul4/mode_choice_cases/atx_95000/Austin_iteration_7.\n",
         "Finished skims for /scratch/jpaul4/mode_choice_cases/atx_35000_heur/Austin_iteration_7.\n",
         "Processing closest_stops with process_nearest_stops for atx_35000_heur_7.\n",
         "Starting stop processing for /scratch/jpaul4/mode_choice_cases/atx_35000_heur/Austin_iteration_7.\n",
         "Finished skims for /scratch/jpaul4/mode_choice_cases/atx_65000/Austin_iteration_7.\n",
         "Processing closest_stops with process_nearest_stops for atx_65000_7.\n",
         "Starting stop processing for /scratch/jpaul4/mode_choice_cases/atx_65000/Austin_iteration_7.\n",
         "Finished skims for /scratch/jpaul4/mode_choice_cases/atx_95000_heur/Austin_iteration_7.\n",
         "Processing closest_stops with process_nearest_stops for atx_95000_heur_7.\n",
         "Starting stop processing for /scratch/jpaul4/mode_choice_cases/atx_95000_heur/Austin_iteration_7.\n",
         "Finished skims for /scratch/jpaul4/mode_choice_cases/atx_85000_heur/Austin_iteration_7.\n",
         "Finished skims for /scratch/jpaul4/mode_choice_cases/atx_45000/Austin_iteration_7.\n",
         "Processing closest_stops with process_nearest_stops for atx_85000_heur_7.\n",
         "Starting stop processing for /scratch/jpaul4/mode_choice_cases/atx_85000_heur/Austin_iteration_7.\n",
         "Processing closest_stops with process_nearest_stops for atx_45000_7.\n",
         "Starting stop processing for /scratch/jpaul4/mode_choice_cases/atx_45000/Austin_iteration_7.\n",
         "Finished skims for /scratch/jpaul4/mode_choice_cases/atx_85000/Austin_iteration_7.\n",
         "Processing closest_stops with process_nearest_stops for atx_85000_7.\n",
         "Starting stop processing for /scratch/jpaul4/mode_choice_cases/atx_85000/Austin_iteration_7.\n",
         "Finished skims for /scratch/jpaul4/mode_choice_cases/atx_75000_heur/Austin_iteration_7.\n",
         "Processing closest_stops with process_nearest_stops for atx_75000_heur_7.\n",
         "Starting stop processing for /scratch/jpaul4/mode_choice_cases/atx_75000_heur/Austin_iteration_7.\n",
         "Finished skims for /scratch/jpaul4/mode_choice_cases/atx_35000/Austin_iteration_7.\n",
         "Finished skims for /scratch/jpaul4/mode_choice_cases/atx_75000/Austin_iteration_7.\n",
         "Processing closest_stops with process_nearest_stops for atx_35000_7.\n",
         "Starting stop processing for /scratch/jpaul4/mode_choice_cases/atx_35000/Austin_iteration_7.\n",
         "Processing closest_stops with process_nearest_stops for atx_75000_7.\n",
         "Starting stop processing for /scratch/jpaul4/mode_choice_cases/atx_75000/Austin_iteration_7.\n",
         "Finished skims for /scratch/jpaul4/mode_choice_cases/atx_65000_heur/Austin_iteration_7.\n",
         "Processing closest_stops with process_nearest_stops for atx_65000_heur_7.\n",
         "Starting stop processing for /scratch/jpaul4/mode_choice_cases/atx_65000_heur/Austin_iteration_7.\n",
         "Finished stop processing for /scratch/jpaul4/mode_choice_cases/atx_45000_heur/Austin_iteration_7.\n",
         "Processing tnc_stat_summary with process_tnc_stat_summary for atx_45000_heur_7.\n",
         "Processing tnc_skim_demo with process_elder_request_agg for atx_45000_heur_7.\n",
         "Done: atx_45000_heur\n",
         "Finished stop processing for /scratch/jpaul4/mode_choice_cases/atx_55000_heur/Austin_iteration_7.\n",
         "Processing tnc_stat_summary with process_tnc_stat_summary for atx_55000_heur_7.\n",
         "Processing tnc_skim_demo with process_elder_request_agg for atx_55000_heur_7.\n",
         "Done: atx_55000_heur\n",
         "Finished stop processing for /scratch/jpaul4/mode_choice_cases/atx_27500_heur/Austin_iteration_7.\n",
         "Processing tnc_stat_summary with process_tnc_stat_summary for atx_27500_heur_7.\n",
         "Finished stop processing for /scratch/jpaul4/mode_choice_cases/atx_27500/Austin_iteration_7.\n",
         "Processing tnc_stat_summary with process_tnc_stat_summary for atx_27500_7.\n",
         "Processing tnc_skim_demo with process_elder_request_agg for atx_27500_heur_7.\n",
         "Done: atx_27500_heur\n",
         "Processing tnc_skim_demo with process_elder_request_agg for atx_27500_7.\n",
         "Done: atx_27500\n",
         "Finished stop processing for /scratch/jpaul4/mode_choice_cases/atx_85000_heur/Austin_iteration_7.\n",
         "Processing tnc_stat_summary with process_tnc_stat_summary for atx_85000_heur_7.\n",
         "Finished stop processing for /scratch/jpaul4/mode_choice_cases/atx_95000_heur/Austin_iteration_7.\n",
         "Processing tnc_stat_summary with process_tnc_stat_summary for atx_95000_heur_7.\n",
         "Finished stop processing for /scratch/jpaul4/mode_choice_cases/atx_95000/Austin_iteration_7.\n",
         "Processing tnc_stat_summary with process_tnc_stat_summary for atx_95000_7.\n",
         "Finished stop processing for /scratch/jpaul4/mode_choice_cases/atx_45000/Austin_iteration_7.\n",
         "Processing tnc_stat_summary with process_tnc_stat_summary for atx_45000_7.\n",
         "Finished stop processing for /scratch/jpaul4/mode_choice_cases/atx_65000/Austin_iteration_7.\n",
         "Processing tnc_stat_summary with process_tnc_stat_summary for atx_65000_7.\n",
         "Finished stop processing for /scratch/jpaul4/mode_choice_cases/atx_35000/Austin_iteration_7.\n",
         "Finished stop processing for /scratch/jpaul4/mode_choice_cases/atx_55000/Austin_iteration_7.\n",
         "Processing tnc_stat_summary with process_tnc_stat_summary for atx_35000_7.\n",
         "Processing tnc_stat_summary with process_tnc_stat_summary for atx_55000_7.\n",
         "Finished stop processing for /scratch/jpaul4/mode_choice_cases/atx_75000/Austin_iteration_7.\n",
         "Processing tnc_stat_summary with process_tnc_stat_summary for atx_75000_7.\n",
         "Finished stop processing for /scratch/jpaul4/mode_choice_cases/atx_75000_heur/Austin_iteration_7.\n",
         "Processing tnc_stat_summary with process_tnc_stat_summary for atx_75000_heur_7.\n",
         "Finished stop processing for /scratch/jpaul4/mode_choice_cases/atx_85000/Austin_iteration_7.\n",
         "Processing tnc_stat_summary with process_tnc_stat_summary for atx_85000_7.\n",
         "Finished stop processing for /scratch/jpaul4/mode_choice_cases/atx_35000_heur/Austin_iteration_7.\n",
         "Processing tnc_stat_summary with process_tnc_stat_summary for atx_35000_heur_7.\n",
         "Finished stop processing for /scratch/jpaul4/mode_choice_cases/atx_65000_heur/Austin_iteration_7.\n",
         "Processing tnc_stat_summary with process_tnc_stat_summary for atx_65000_heur_7.\n",
         "Processing tnc_skim_demo with process_elder_request_agg for atx_95000_7.\n",
         "Done: atx_95000\n",
         "Processing tnc_skim_demo with process_elder_request_agg for atx_85000_heur_7.\n",
         "Done: atx_85000_heur\n",
         "Processing tnc_skim_demo with process_elder_request_agg for atx_95000_heur_7.\n",
         "Done: atx_95000_heur\n",
         "Processing tnc_skim_demo with process_elder_request_agg for atx_45000_7.\n",
         "Done: atx_45000\n",
         "Processing tnc_skim_demo with process_elder_request_agg for atx_65000_7.\n",
         "Done: atx_65000\n",
         "Processing tnc_skim_demo with process_elder_request_agg for atx_55000_7.\n",
         "Done: atx_55000\n",
         "Processing tnc_skim_demo with process_elder_request_agg for atx_85000_7.\n",
         "Processing tnc_skim_demo with process_elder_request_agg for atx_75000_7.\n",
         "Done: atx_85000\n",
         "Processing tnc_skim_demo with process_elder_request_agg for atx_35000_heur_7.\n",
         "Done: atx_75000\n",
         "Done: atx_35000_heur\n",
         "Processing tnc_skim_demo with process_elder_request_agg for atx_75000_heur_7.\n",
         "Processing tnc_skim_demo with process_elder_request_agg for atx_35000_7.\n",
         "Processing tnc_skim_demo with process_elder_request_agg for atx_65000_heur_7.\n",
         "Done: atx_75000_heur\n",
         "Done: atx_35000\n",
         "Done: atx_65000_heur\n"
        ]
       },
       {
        "name": "stderr",
        "output_type": "stream",
        "text": [
         "/home/jpaul4/processing/CU_POLARIS_Postprocessor/CU_POLARIS_Postprocessor/parallel.py:32: FutureWarning: The behavior of DataFrame concatenation with empty or all-NA entries is deprecated. In a future version, this will no longer exclude empty or all-NA columns when determining the result dtypes. To retain the old behavior, exclude the relevant entries before the concat operation.\n",
         "  final_results = {key: pd.concat(df_list, ignore_index=True) for key, df_list in collected_results.items()}\n",
         "/home/jpaul4/processing/CU_POLARIS_Postprocessor/CU_POLARIS_Postprocessor/parallel.py:40: PerformanceWarning: \n",
         "your performance may suffer as PyTables will pickle object types that it cannot\n",
         "map directly to c-types [inferred_type->mixed,key->block2_values] [items->Index(['dist_solo', 'folder'], dtype='object')]\n",
         "\n",
         "  store[key] = df\n",
         "/home/jpaul4/processing/CU_POLARIS_Postprocessor/CU_POLARIS_Postprocessor/parallel.py:40: PerformanceWarning: \n",
         "your performance may suffer as PyTables will pickle object types that it cannot\n",
         "map directly to c-types [inferred_type->mixed,key->block2_values] [items->Index(['mode', 'type', 'folder'], dtype='object')]\n",
         "\n",
         "  store[key] = df\n"
        ]
       },
       {
        "data": {
         "text/plain": [
          "True"
         ]
        },
        "execution_count": 8,
        "metadata": {},
        "output_type": "execute_result"
       }
      ],
      "source": [
       "parallel.parallel_process_folders(config_wtp)\n"
      ]
     },
     {
      "cell_type": "markdown",
      "metadata": {},
      "source": [
       "### Show Output of processing"
      ]
     },
     {
      "cell_type": "code",
      "execution_count": 9,
      "metadata": {},
      "outputs": [
       {
        "name": "stdout",
        "output_type": "stream",
        "text": [
         "transit_trip_max_load_helper\n",
         "transit_trip_max_load\n",
         "mode_Distribution_ADULT_Counts\n",
         "mode_Distribution_ADULT_Distance\n",
         "bus_avo\n",
         "pr_avo\n",
         "fare_sensitivity_results\n",
         "mode_Distribution_ADULT\n",
         "distance_tnc_dist\n",
         "fare_sensitivity_results_zonal\n",
         "fare_sensitivity_demograpic_tnc_stats\n",
         "fare_sensitivity_results_vo\n",
         "tnc_results_discount\n",
         "elder_demo\n",
         "activity_times\n",
         "requests_sum\n",
         "closest_stops\n",
         "tnc_stat_summary\n",
         "tnc_skim_demo\n"
        ]
       }
      ],
      "source": [
       "for key, value in config_wtp.results.items():\n",
       "    print(key)"
      ]
     },
     {
      "cell_type": "markdown",
      "metadata": {},
      "source": [
       "### Power BI Post Processing"
      ]
     },
     {
      "cell_type": "code",
      "execution_count": 11,
      "metadata": {},
      "outputs": [
       {
        "name": "stdout",
        "output_type": "stream",
        "text": [
         "Creating case columns for transit_trip_max_load_helper.\n",
         "Creating case columns for transit_trip_max_load.\n",
         "Creating case columns for mode_Distribution_ADULT_Counts.\n",
         "Creating case columns for mode_Distribution_ADULT_Distance.\n",
         "Creating case columns for bus_avo.\n",
         "Creating case columns for pr_avo.\n",
         "Creating case columns for fare_sensitivity_results.\n",
         "Creating case columns for mode_Distribution_ADULT.\n",
         "Creating case columns for distance_tnc_dist.\n",
         "Creating case columns for fare_sensitivity_results_zonal.\n",
         "Creating case columns for fare_sensitivity_demograpic_tnc_stats.\n",
         "Creating case columns for fare_sensitivity_results_vo.\n",
         "Creating case columns for tnc_results_discount.\n",
         "Creating case columns for elder_demo.\n",
         "Creating case columns for activity_times.\n",
         "Creating case columns for requests_sum.\n",
         "Creating case columns for closest_stops.\n",
         "Creating case columns for tnc_stat_summary.\n",
         "Creating case columns for tnc_skim_demo.\n",
         "Creating case columns for tnc_ttests.\n"
        ]
       },
       {
        "name": "stderr",
        "output_type": "stream",
        "text": [
         "/home/jpaul4/processing/CU_POLARIS_Postprocessor/CU_POLARIS_Postprocessor/power_bi_processing/prep_utils.py:170: PerformanceWarning: \n",
         "your performance may suffer as PyTables will pickle object types that it cannot\n",
         "map directly to c-types [inferred_type->mixed,key->block2_values] [items->Index(['dist_solo', 'folder', 'City', 'Fleet Size', 'Strategy', 'Iteration'], dtype='object')]\n",
         "\n",
         "  store[key] = df\n",
         "/home/jpaul4/processing/CU_POLARIS_Postprocessor/CU_POLARIS_Postprocessor/power_bi_processing/prep_utils.py:170: PerformanceWarning: \n",
         "your performance may suffer as PyTables will pickle object types that it cannot\n",
         "map directly to c-types [inferred_type->mixed,key->block2_values] [items->Index(['mode', 'type', 'folder', 'City', 'Fleet Size', 'Strategy',\n",
         "       'Iteration'],\n",
         "      dtype='object')]\n",
         "\n",
         "  store[key] = df\n",
         "/home/jpaul4/processing/CU_POLARIS_Postprocessor/CU_POLARIS_Postprocessor/power_bi_processing/prep_utils.py:170: PerformanceWarning: \n",
         "your performance may suffer as PyTables will pickle object types that it cannot\n",
         "map directly to c-types [inferred_type->mixed,key->block0_values] [items->Index(['Case Aggregators', 'Folder to Columns', 'Demographic Aggregators'], dtype='object')]\n",
         "\n",
         "  store[key] = df\n"
        ]
       },
       {
        "data": {
         "text/plain": [
          "True"
         ]
        },
        "execution_count": 11,
        "metadata": {},
        "output_type": "execute_result"
       }
      ],
      "source": [
       "IL.reload(CU_POLARIS_Postprocessor.power_bi_processing.prep_utils)\n",
       "#use this for comparing all cases (within a city model) to a single base case\n",
       "base_case_folders = ['atx_du_7','gvl_du_7']\n",
       "#prep_utils.process_tnc_ttests(config=config_wtp,base_cases=base_case_folders)\n",
       "\n",
       "#Use this for comparing strategy to strategy\n",
       "prep_utils.process_tnc_ttests(config=config_wtp,base_suffix=\"_heur\")\n",
       "\n",
       "#Use this for folder names structured cit_fleet-size_strategy_iteration\n",
       "prep_utils.process_folder_names_cit_fleet_strat(config_wtp)\n",
       "\n",
       "#Use this for folder names structured cit_case_iteration\n",
       "#prep_utils.process_folder_names_wtp(config_wtp)\n",
       "\n",
       "case_aggregators =[\"City\",\"Strategy\"]\n",
       "demo_aggregators =[\"age_class\"]\n",
       "folder_to_columns = [\"City\",\"Strategy\",\"Iteration\",\"Fleet Size\"]\n",
       "prep_utils.generate_pbix_control_csv(config_wtp,case_aggregators,demo_aggregators,folder_to_columns)\n",
       "prep_utils.update_h5(config=config_wtp)"
      ]
     },
     {
      "cell_type": "markdown",
      "metadata": {},
      "source": [
       "### Load in final results"
      ]
     },
     {
      "cell_type": "code",
      "execution_count": 12,
      "metadata": {},
      "outputs": [],
      "source": [
       "import pandas as pd\n",
       "h5_path = config_wtp.base_dir.as_posix()+'/results.h5'\n",
       "\n",
       "mode_Distribution_ADULT_Distance=  pd.read_hdf(h5_path,key='mode_Distribution_ADULT_Distance')\n",
       "mode_Distribution_ADULT_Counts=  pd.read_hdf(h5_path,key='mode_Distribution_ADULT_Counts')\n",
       "bus_avo=  pd.read_hdf(h5_path,key='bus_avo')\n",
       "pr_avo=  pd.read_hdf(h5_path,key='pr_avo')\n",
       "fare_sensitivity_results=  pd.read_hdf(h5_path,key='fare_sensitivity_results')\n",
       "mode_Distribution_ADULT=  pd.read_hdf(h5_path,key='mode_Distribution_ADULT')\n",
       "distance_tnc_dist=  pd.read_hdf(h5_path,key='distance_tnc_dist')\n",
       "fare_sensitivity_results_zonal=  pd.read_hdf(h5_path,key='fare_sensitivity_results_zonal')\n",
       "fare_sensitivity_demograpic_tnc_stats=  pd.read_hdf(h5_path,key='fare_sensitivity_demograpic_tnc_stats')\n",
       "fare_sensitivity_results_vo=  pd.read_hdf(h5_path,key='fare_sensitivity_results_vo')\n",
       "tnc_results_discount=  pd.read_hdf(h5_path,key='tnc_results_discount')\n",
       "elder_demo=  pd.read_hdf(h5_path,key='elder_demo')\n",
       "requests_sum=  pd.read_hdf(h5_path,key='requests_sum')\n",
       "tnc_stat_summary=  pd.read_hdf(h5_path,key='tnc_stat_summary')\n",
       "tnc_skim_demo=  pd.read_hdf(h5_path,key='tnc_skim_demo')\n",
       "tnc_ttests=  pd.read_hdf(h5_path,key='tnc_ttests')\n",
       "transit_trip_max_load_helper=  pd.read_hdf(h5_path,key='transit_trip_max_load_helper')"
      ]
     },
     {
      "cell_type": "markdown",
      "metadata": {},
      "source": [
       "# Scenario Tools"
      ]
     },
     {
      "cell_type": "markdown",
      "metadata": {},
      "source": [
       "## Imports"
      ]
     },
     {
      "cell_type": "code",
      "execution_count": null,
      "metadata": {},
      "outputs": [],
      "source": [
       "from CU_POLARIS_Postprocessor.utils import select_file, bulk_update_scenario_files, copy_cases, CaseVariableData, BulkUpdateData, bulk_check_scenario_files\n",
       "from CU_POLARIS_Postprocessor.utils import create_jobscript, CityKey, PolarisRunConfig, MailType\n",
       "from pathlib import Path\n"
      ]
     },
     {
      "cell_type": "markdown",
      "metadata": {},
      "source": [
       "## Creating scenarios from a base case, copying files, or updating cases"
      ]
     },
     {
      "cell_type": "markdown",
      "metadata": {},
      "source": [
       "### Selecting Files"
      ]
     },
     {
      "cell_type": "code",
      "execution_count": 2,
      "metadata": {},
      "outputs": [],
      "source": [
       "#case_path = select_file()\n",
       "#new_case_path = select_file()\n",
       "case_path = r'C:\\Users\\jpaul4\\Box\\Research\\Papers\\5_Mode Choice Paper\\all_cases\\cases'\n",
       "new_case_path=r'C:\\Globus\\mode_choice_cases'\n"
      ]
     },
     {
      "cell_type": "code",
      "execution_count": 4,
      "metadata": {},
      "outputs": [
       {
        "name": "stdout",
        "output_type": "stream",
        "text": [
         "C:\\Users\\jpaul4\\Box\\Research\\Papers\\5_Mode Choice Paper\\all_cases\\cases\n",
         "C:\\Globus\\mode_choice_cases\n"
        ]
       }
      ],
      "source": [
       "print(case_path)\n",
       "print(new_case_path)"
      ]
     },
     {
      "cell_type": "markdown",
      "metadata": {},
      "source": [
       "### Creating Scenarios from a base scenario"
      ]
     },
     {
      "cell_type": "code",
      "execution_count": null,
      "metadata": {},
      "outputs": [],
      "source": [
       "fleet_sizes = [i for i in range(100,600,100)]\n",
       "strategies =[\"heur\",\"\"] #for folder names\n",
       "strat_key = {\"heur\":\"default\",\"\":\"DRS_Discount\"} #corresponding keys for folder names (optional)\n",
       "\n",
       "var_1 = CaseVariableData(\"fleet_size\",\"SAEVFleetModel_optimization.json\",[\"Operator_1\", \"Fleet_Base\", \"Operator_1_TNC_FLEET_SIZE\"],fleet_sizes)\n",
       "var_2 = CaseVariableData(\"strategy\",\"SAEVFleetModel_optimization.json\",[\"Operator_1\",\"Fleet Strategy\", \"Operator_1_strategy_name\"],strategies, strat_key)\n",
       "\n",
       "new_cases = [var_1,var_2]\n",
       "\n",
       "args = {\"new_case_path\":new_case_path,\n",
       "        \"case_path\":case_path,\n",
       "        \"new_cases\":new_cases,\n",
       "        \"parallel\":True}\n",
       "\n",
       "copy_cases(**args)"
      ]
     },
     {
      "cell_type": "markdown",
      "metadata": {},
      "source": [
       "### Copying Cases (very quickly)\n",
       "Copies a set of existing cases."
      ]
     },
     {
      "cell_type": "code",
      "execution_count": null,
      "metadata": {},
      "outputs": [
       {
        "name": "stderr",
        "output_type": "stream",
        "text": [
         "Moving/Copying Folders:   0%|          | 0/17 [00:00<?, ?it/s]\n",
         "\u001b[A\n",
         "\n",
         "\n",
         "\u001b[A\u001b[A\u001b[A\n",
         "\n",
         "\u001b[A\u001b[A\n",
         "\n",
         "\n",
         "\n",
         "\u001b[A\u001b[A\u001b[A\u001b[A\n",
         "\n",
         "\n",
         "\n",
         "\n",
         "\u001b[A\u001b[A\u001b[A\u001b[A\u001b[A\n",
         "\n",
         "\n",
         "\n",
         "\n",
         "\n",
         "\n",
         "\n",
         "\u001b[A\u001b[A\u001b[A\u001b[A\u001b[A\u001b[A\u001b[A\u001b[A\n",
         "\n",
         "\n",
         "\n",
         "\n",
         "\n",
         "\n",
         "\u001b[A\u001b[A\u001b[A\u001b[A\u001b[A\u001b[A\u001b[A\n",
         "\n",
         "\n",
         "\n",
         "\n",
         "\n",
         "\n",
         "\n",
         "\n",
         "\n",
         "\u001b[A\u001b[A\u001b[A\u001b[A\u001b[A\u001b[A\u001b[A\u001b[A\u001b[A\u001b[A\n",
         "\n",
         "\n",
         "\n",
         "\n",
         "\n",
         "\u001b[A\u001b[A\u001b[A\u001b[A\u001b[A\u001b[A\n",
         "\n",
         "\n",
         "\n",
         "\n",
         "\n",
         "\n",
         "\n",
         "\n",
         "\u001b[A\u001b[A\u001b[A\u001b[A\u001b[A\u001b[A\u001b[A\u001b[A\u001b[A\n",
         "\n",
         "\n",
         "\n",
         "\n",
         "\n",
         "\n",
         "\n",
         "\n",
         "\n",
         "\n",
         "\n",
         "\u001b[A\u001b[A\u001b[A\u001b[A\u001b[A\u001b[A\u001b[A\u001b[A\u001b[A\u001b[A\u001b[A\u001b[A\n",
         "\n",
         "\n",
         "\n",
         "\n",
         "\n",
         "\n",
         "\n",
         "\n",
         "\n",
         "\n",
         "\n",
         "\n",
         "\n",
         "\n",
         "\u001b[A\u001b[A\u001b[A\u001b[A\u001b[A\u001b[A\u001b[A\u001b[A\u001b[A\u001b[A\u001b[A\u001b[A\u001b[A\u001b[A\u001b[A\n",
         "\n",
         "\n",
         "\n",
         "\n",
         "\n",
         "\n",
         "\n",
         "\n",
         "\n",
         "\n",
         "\n",
         "\n",
         "\u001b[A\u001b[A\u001b[A\u001b[A\u001b[A\u001b[A\u001b[A\u001b[A\u001b[A\u001b[A\u001b[A\u001b[A\u001b[A\n",
         "\n",
         "\n",
         "\n",
         "\n",
         "\n",
         "\n",
         "\n",
         "\n",
         "\n",
         "\n",
         "\n",
         "\n",
         "\n",
         "\n",
         "\n",
         "\u001b[A\u001b[A\u001b[A\u001b[A\u001b[A\u001b[A\u001b[A\u001b[A\u001b[A\u001b[A\u001b[A\u001b[A\u001b[A\u001b[A\u001b[A\u001b[A\n",
         "\n",
         "\n",
         "\n",
         "\n",
         "\n",
         "\n",
         "\n",
         "\n",
         "\n",
         "\n",
         "\u001b[A\u001b[A\u001b[A\u001b[A\u001b[A\u001b[A\u001b[A\u001b[A\u001b[A\u001b[A\u001b[A\n",
         "\n",
         "\n",
         "\n",
         "\n",
         "\n",
         "\n",
         "\n",
         "\n",
         "\n",
         "\n",
         "\n",
         "\n",
         "\n",
         "\u001b[A\u001b[A\u001b[A\u001b[A\u001b[A\u001b[A\u001b[A\u001b[A\u001b[A\u001b[A\u001b[A\u001b[A\u001b[A\u001b[A\n",
         "\n",
         "\n",
         "\n",
         "\u001b[A\u001b[A\u001b[A\u001b[A\n",
         "\n",
         "\n",
         "\n",
         "\n",
         "\u001b[A\u001b[A\u001b[A\u001b[A\u001b[A\n",
         "\n",
         "\n",
         "\n",
         "\n",
         "\n",
         "\n",
         "\n",
         "\n",
         "\n",
         "\u001b[A\u001b[A\u001b[A\u001b[A\u001b[A\u001b[A\u001b[A\u001b[A\u001b[A\u001b[A\n",
         "\n",
         "\n",
         "\n",
         "\n",
         "\n",
         "\n",
         "\u001b[A\u001b[A\u001b[A\u001b[A\u001b[A\u001b[A\u001b[A\n",
         "\u001b[A\n",
         "\n",
         "\n",
         "\u001b[A\u001b[A\u001b[A\n",
         "\n",
         "\n",
         "\n",
         "\n",
         "\n",
         "\n",
         "\n",
         "\n",
         "\n",
         "\n",
         "\n",
         "\u001b[A\u001b[A\u001b[A\u001b[A\u001b[A\u001b[A\u001b[A\u001b[A\u001b[A\u001b[A\u001b[A\u001b[A\n",
         "\n",
         "\n",
         "\n",
         "\n",
         "\n",
         "\n",
         "\n",
         "\u001b[A\u001b[A\u001b[A\u001b[A\u001b[A\u001b[A\u001b[A\u001b[A\n",
         "\n",
         "\n",
         "\n",
         "\n",
         "\n",
         "\n",
         "\n",
         "\n",
         "\n",
         "\n",
         "\n",
         "\n",
         "\n",
         "\n",
         "\u001b[A\u001b[A\u001b[A\u001b[A\u001b[A\u001b[A\u001b[A\u001b[A\u001b[A\u001b[A\u001b[A\u001b[A\u001b[A\u001b[A\u001b[A\n",
         "\n",
         "\n",
         "\n",
         "\n",
         "\n",
         "\n",
         "\n",
         "\n",
         "\u001b[A\u001b[A\u001b[A\u001b[A\u001b[A\u001b[A\u001b[A\u001b[A\u001b[A\n",
         "\n",
         "\n",
         "\n",
         "\n",
         "\n",
         "\u001b[A\u001b[A\u001b[A\u001b[A\u001b[A\u001b[A\n",
         "\n",
         "\n",
         "\n",
         "\n",
         "\n",
         "\n",
         "\n",
         "\n",
         "\n",
         "\n",
         "\n",
         "\n",
         "\u001b[A\u001b[A\u001b[A\u001b[A\u001b[A\u001b[A\u001b[A\u001b[A\u001b[A\u001b[A\u001b[A\u001b[A\u001b[A\n",
         "\n",
         "\n",
         "\n",
         "\n",
         "\n",
         "\n",
         "\n",
         "\n",
         "\n",
         "\n",
         "\u001b[A\u001b[A\u001b[A\u001b[A\u001b[A\u001b[A\u001b[A\u001b[A\u001b[A\u001b[A\u001b[A\n",
         "\n",
         "\n",
         "\n",
         "\n",
         "\n",
         "\n",
         "\n",
         "\n",
         "\n",
         "\n",
         "\n",
         "\n",
         "\n",
         "\n",
         "\n",
         "\u001b[A\u001b[A\u001b[A\u001b[A\u001b[A\u001b[A\u001b[A\u001b[A\u001b[A\u001b[A\u001b[A\u001b[A\u001b[A\u001b[A\u001b[A\u001b[A\n",
         "\n",
         "\n",
         "\n",
         "\n",
         "\n",
         "\n",
         "\n",
         "\n",
         "\n",
         "\n",
         "\n",
         "\n",
         "\n",
         "\u001b[A\u001b[A\u001b[A\u001b[A\u001b[A\u001b[A\u001b[A\u001b[A\u001b[A\u001b[A\u001b[A\u001b[A\u001b[A\u001b[A"
        ]
       }
      ],
      "source": [
       "#files to leave alone in the target directory if they already exist in the target directories\n",
       "\n",
       "move_cases = True\n",
       "\n",
       "#keep_suffixes = ['reg'] #end of folder name to move (if you only want to move some cases)\n",
       "keep_suffixes = None #move all cases\n",
       "\n",
       "args = {\"new_case_path\":new_case_path,\n",
       "        \"case_path\":case_path,\n",
       "        \"move_cases\":move_cases,\n",
       "        \"keep_suffixes\":keep_suffixes,\n",
       "        \"parallel\":True} #use parallel processing (faster), not necessary for small number of cases or small models\n",
       "\n",
       "copy_cases(**args)\n"
      ]
     },
     {
      "cell_type": "markdown",
      "metadata": {},
      "source": [
       "### Updating Models\n",
       "Update all the files in each case from a single base folder (like a model base folder). Useful for \"resetting\" models when runs have partially completed and diverged from a base case.\n"
      ]
     },
     {
      "cell_type": "code",
      "execution_count": null,
      "metadata": {},
      "outputs": [
       {
        "name": "stderr",
        "output_type": "stream",
        "text": [
         "Deleting Items:  91%|█████████ | 456/500 [00:01<00:00, 406.05it/s]\n",
         "Moving/Copying Items: 100%|██████████| 500/500 [00:28<00:00, 17.78it/s]\n"
        ]
       }
      ],
      "source": [
       "\n",
       "keep_files =['SAEVFleetModel_optimization.json','scenario_abm.json']\n",
       "move_cases = False\n",
       "\n",
       "\n",
       "args = {\"new_case_path\":new_case_path,\n",
       "        \"case_path\":case_path,\n",
       "        \"move_cases\":move_cases,\n",
       "        \"keep_files\":keep_files,\n",
       "        \"parallel\":True}\n",
       "\n",
       "copy_cases(**args)"
      ]
     },
     {
      "cell_type": "markdown",
      "metadata": {},
      "source": [
       "## Updating scenario files universally"
      ]
     },
     {
      "cell_type": "code",
      "execution_count": null,
      "metadata": {},
      "outputs": [
       {
        "name": "stderr",
        "output_type": "stream",
        "text": [
         "Updating Scenario Files: 100%|██████████| 10/10 [00:00<00:00, 104.20it/s]\n"
        ]
       }
      ],
      "source": [
       "\n",
       "bulk=BulkUpdateData(possible_scenario_names=[\"SAEVFleetModel_optimization.json\"],value=10.0,target=['Operator_1','Fleet_Base','Operator_1_TNC_MAX_WAIT_TIME'])\n",
       "\n",
       "bulk1=BulkUpdateData(possible_scenario_names=[\"SAEVFleetModel_optimization.json\"],value=True,target=['Operator_1','Fleet_DRS','Operator_1_pool_choice_enabled'])\n",
       "bulk2=BulkUpdateData(possible_scenario_names=[\"scenario_abm.json\"],value=\"SAEVFleetModel_optimization.json\",target=[\"ABM Controls\",\"tnc_fleet_model_file\"])\n",
       "\n",
       "#updates = [bulk1,bulk2]\n",
       "updates = [bulk]\n",
       "\n",
       "for update in updates:\n",
       "    bulk_update_scenario_files(update.target,update.value,new_case_path,update.scenario_name)"
      ]
     },
     {
      "cell_type": "markdown",
      "metadata": {},
      "source": [
       "### Check Scenario Files"
      ]
     },
     {
      "cell_type": "code",
      "execution_count": null,
      "metadata": {},
      "outputs": [
       {
        "ename": "SyntaxError",
        "evalue": "invalid syntax (3952368906.py, line 16)",
        "output_type": "error",
        "traceback": [
         "\u001b[1;36m  Cell \u001b[1;32mIn[3], line 16\u001b[1;36m\u001b[0m\n\u001b[1;33m    bulk_check_scenario_files(target, folder_path:Path = os.getcwd(), [scenario_names])\u001b[0m\n\u001b[1;37m                                                 ^\u001b[0m\n\u001b[1;31mSyntaxError\u001b[0m\u001b[1;31m:\u001b[0m invalid syntax\n"
        ]
       }
      ],
      "source": [
       "\n",
       "'''\n",
       "checks ={\"SAEVFleetModel_optimization.json\":['Operator_1','Fleet_DRS','Operator_1_pool_choice_enabled'],\n",
       "\"scenario_abm.json\":[\"ABM Controls\",\"tnc_fleet_model_file\"],\n",
       "\"SAEVFleetModel_optimization.json\":[\"Operator_1\", \"Fleet_Base\", \"Operator_1_TNC_FLEET_SIZE\"],\n",
       "\"SAEVFleetModel_optimization.json\":[\"Operator_1\",\"Fleet Strategy\", \"Operator_1_strategy_name\"]}\n",
       "'''\n",
       "checks = {\"SAEVFleetModel_optimization.json\":['Operator_1','Fleet_Base','Operator_1_TNC_MAX_WAIT_TIME']}\n",
       "\n",
       "folder_paths = [Path(\"C:/Globus/trb_cases/gsc\"),Path(\"C:/Globus/trb_cases/atx\")]\n",
       "\n",
       "\n",
       "\n",
       "for folder_path in folder_paths:\n",
       "    for scenario_names, target in checks.items():\n",
       "        bulk_check_scenario_files(target, folder_path, [scenario_names])\n"
      ]
     },
     {
      "cell_type": "markdown",
      "metadata": {},
      "source": [
       "### Creating a jobscript"
      ]
     },
     {
      "cell_type": "code",
      "execution_count": null,
      "metadata": {},
      "outputs": [],
      "source": [
       "#Citykey(model_database_name(<model_name>-Suppy.sqlite),folder prefix, traffic scale factor, memory per run(gb), time per run(hours))\n",
       "case_dir = r\"/scratch/jpaul4/mode_choice_cases\"\n",
       "gsc = CityKey(\"greenville\",\"gsc\",1.0,16,1.5)\n",
       "atx = CityKey(\"Austin\",\"atx\",0.25,80,3.5)\n",
       "\n",
       "#PolarisRunConfig(container_path, run script (internal to container), threads, do abm init run, do skim run, number of abm runs, cities (CityKey objects))\n",
       "run_config = PolarisRunConfig(\"/home/jpaul4/container/polaris_old_working.sif\",\"run_old_polaris.py\",32,False,False,7,[gsc,atx])\n",
       "create_jobscript(job_name=\"polaris_trb_cases\",mail_user=\"jpaul4@clemson.edu\",mail_type=MailType.ALL,case_dir=case_dir,config=run_config) "
      ]
     }
    ],
    "metadata": {
     "kernelspec": {
      "display_name": "base",
      "language": "python",
      "name": "python3"
     },
     "language_info": {
      "codemirror_mode": {
       "name": "ipython",
       "version": 3
      },
      "file_extension": ".py",
      "mimetype": "text/x-python",
      "name": "python",
      "nbconvert_exporter": "python",
      "pygments_lexer": "ipython3",
      "version": "3.12.3"
     }
    },
    "nbformat": 4,
    "nbformat_minor": 2
   }
   