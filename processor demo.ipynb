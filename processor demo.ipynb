{
 "cells": [
  {
   "cell_type": "markdown",
   "metadata": {},
   "source": [
    "## Imports"
   ]
  },
  {
   "cell_type": "code",
   "execution_count": 1,
   "metadata": {},
   "outputs": [
    {
     "data": {
      "text/plain": [
       "<module 'CU_POLARIS_Postprocessor.power_bi_processing.prep_utils' from 'c:\\\\polaris\\\\CU_POLARIS_Postprocessor\\\\CU_POLARIS_Postprocessor\\\\power_bi_processing\\\\prep_utils.py'>"
      ]
     },
     "execution_count": 1,
     "metadata": {},
     "output_type": "execute_result"
    }
   ],
   "source": [
    "\n",
    "from CU_POLARIS_Postprocessor.config import PostProcessingConfig\n",
    "from CU_POLARIS_Postprocessor import prerun, parallel\n",
    "from CU_POLARIS_Postprocessor.power_bi_processing import prep_utils\n",
    "from pathlib import Path\n",
    "import importlib as IL\n",
    "import CU_POLARIS_Postprocessor\n",
    "import CU_POLARIS_Postprocessor.power_bi_processing\n",
    "import CU_POLARIS_Postprocessor.power_bi_processing.prep_utils\n",
    "IL.reload(CU_POLARIS_Postprocessor.power_bi_processing.prep_utils)\n",
    "\n",
    "\n"
   ]
  },
  {
   "cell_type": "markdown",
   "metadata": {},
   "source": [
    "## Config"
   ]
  },
  {
   "cell_type": "code",
   "execution_count": 2,
   "metadata": {},
   "outputs": [],
   "source": [
    "config_wtp=PostProcessingConfig(base_dir=Path(\"C://Globus//mode_choice_cases\"),\n",
    "                                output_h5=True,fresh_start=False,reset_csvs=False,reset_sql=False,reset_stops=False, db_names=['Austin'])"
   ]
  },
  {
   "cell_type": "markdown",
   "metadata": {},
   "source": [
    "## Preprocessing"
   ]
  },
  {
   "cell_type": "code",
   "execution_count": 3,
   "metadata": {},
   "outputs": [
    {
     "data": {
      "text/plain": [
       "True"
      ]
     },
     "execution_count": 3,
     "metadata": {},
     "output_type": "execute_result"
    }
   ],
   "source": [
    "prerun.pre_run_checks(config_wtp)\n"
   ]
  },
  {
   "cell_type": "markdown",
   "metadata": {},
   "source": [
    "### Show output of prerun"
   ]
  },
  {
   "cell_type": "code",
   "execution_count": 4,
   "metadata": {},
   "outputs": [
    {
     "data": {
      "text/html": [
       "<div>\n",
       "<style scoped>\n",
       "    .dataframe tbody tr th:only-of-type {\n",
       "        vertical-align: middle;\n",
       "    }\n",
       "\n",
       "    .dataframe tbody tr th {\n",
       "        vertical-align: top;\n",
       "    }\n",
       "\n",
       "    .dataframe thead th {\n",
       "        text-align: right;\n",
       "    }\n",
       "</style>\n",
       "<table border=\"1\" class=\"dataframe\">\n",
       "  <thead>\n",
       "    <tr style=\"text-align: right;\">\n",
       "      <th></th>\n",
       "      <th>Key</th>\n",
       "      <th>Type</th>\n",
       "      <th>Exists</th>\n",
       "      <th>Location</th>\n",
       "    </tr>\n",
       "  </thead>\n",
       "  <tbody>\n",
       "    <tr>\n",
       "      <th>0</th>\n",
       "      <td>transit_trip_max_load_helper</td>\n",
       "      <td>sql</td>\n",
       "      <td>True</td>\n",
       "      <td>C:\\Globus\\mode_choice_cases\\transit_trip_max_l...</td>\n",
       "    </tr>\n",
       "    <tr>\n",
       "      <th>1</th>\n",
       "      <td>transit_trip_max_load</td>\n",
       "      <td>sql</td>\n",
       "      <td>True</td>\n",
       "      <td>C:\\Globus\\mode_choice_cases\\transit_trip_max_l...</td>\n",
       "    </tr>\n",
       "    <tr>\n",
       "      <th>2</th>\n",
       "      <td>mode_Distribution_ADULT_Counts</td>\n",
       "      <td>sql</td>\n",
       "      <td>True</td>\n",
       "      <td>C:\\Globus\\mode_choice_cases\\mode_Distribution_...</td>\n",
       "    </tr>\n",
       "    <tr>\n",
       "      <th>3</th>\n",
       "      <td>mode_Distribution_ADULT_Distance</td>\n",
       "      <td>sql</td>\n",
       "      <td>True</td>\n",
       "      <td>C:\\Globus\\mode_choice_cases\\mode_Distribution_...</td>\n",
       "    </tr>\n",
       "    <tr>\n",
       "      <th>4</th>\n",
       "      <td>bus_avo</td>\n",
       "      <td>sql</td>\n",
       "      <td>True</td>\n",
       "      <td>C:\\Globus\\mode_choice_cases\\bus_avo.csv</td>\n",
       "    </tr>\n",
       "    <tr>\n",
       "      <th>...</th>\n",
       "      <td>...</td>\n",
       "      <td>...</td>\n",
       "      <td>...</td>\n",
       "      <td>...</td>\n",
       "    </tr>\n",
       "    <tr>\n",
       "      <th>62</th>\n",
       "      <td>closest_stops_helper_atx_75000_heur</td>\n",
       "      <td>postprocessing_helper</td>\n",
       "      <td>True</td>\n",
       "      <td>C:\\Globus\\mode_choice_cases\\atx_75000_heur\\Aus...</td>\n",
       "    </tr>\n",
       "    <tr>\n",
       "      <th>63</th>\n",
       "      <td>closest_stops_helper_atx_85000</td>\n",
       "      <td>postprocessing_helper</td>\n",
       "      <td>True</td>\n",
       "      <td>C:\\Globus\\mode_choice_cases\\atx_85000\\Austin_i...</td>\n",
       "    </tr>\n",
       "    <tr>\n",
       "      <th>64</th>\n",
       "      <td>closest_stops_helper_atx_85000_heur</td>\n",
       "      <td>postprocessing_helper</td>\n",
       "      <td>True</td>\n",
       "      <td>C:\\Globus\\mode_choice_cases\\atx_85000_heur\\Aus...</td>\n",
       "    </tr>\n",
       "    <tr>\n",
       "      <th>65</th>\n",
       "      <td>closest_stops_helper_atx_95000</td>\n",
       "      <td>postprocessing_helper</td>\n",
       "      <td>True</td>\n",
       "      <td>C:\\Globus\\mode_choice_cases\\atx_95000\\Austin_i...</td>\n",
       "    </tr>\n",
       "    <tr>\n",
       "      <th>66</th>\n",
       "      <td>closest_stops_helper_atx_95000_heur</td>\n",
       "      <td>postprocessing_helper</td>\n",
       "      <td>True</td>\n",
       "      <td>C:\\Globus\\mode_choice_cases\\atx_95000_heur\\Aus...</td>\n",
       "    </tr>\n",
       "  </tbody>\n",
       "</table>\n",
       "<p>67 rows × 4 columns</p>\n",
       "</div>"
      ],
      "text/plain": [
       "                                    Key                   Type  Exists  \\\n",
       "0          transit_trip_max_load_helper                    sql    True   \n",
       "1                 transit_trip_max_load                    sql    True   \n",
       "2        mode_Distribution_ADULT_Counts                    sql    True   \n",
       "3      mode_Distribution_ADULT_Distance                    sql    True   \n",
       "4                               bus_avo                    sql    True   \n",
       "..                                  ...                    ...     ...   \n",
       "62  closest_stops_helper_atx_75000_heur  postprocessing_helper    True   \n",
       "63       closest_stops_helper_atx_85000  postprocessing_helper    True   \n",
       "64  closest_stops_helper_atx_85000_heur  postprocessing_helper    True   \n",
       "65       closest_stops_helper_atx_95000  postprocessing_helper    True   \n",
       "66  closest_stops_helper_atx_95000_heur  postprocessing_helper    True   \n",
       "\n",
       "                                             Location  \n",
       "0   C:\\Globus\\mode_choice_cases\\transit_trip_max_l...  \n",
       "1   C:\\Globus\\mode_choice_cases\\transit_trip_max_l...  \n",
       "2   C:\\Globus\\mode_choice_cases\\mode_Distribution_...  \n",
       "3   C:\\Globus\\mode_choice_cases\\mode_Distribution_...  \n",
       "4             C:\\Globus\\mode_choice_cases\\bus_avo.csv  \n",
       "..                                                ...  \n",
       "62  C:\\Globus\\mode_choice_cases\\atx_75000_heur\\Aus...  \n",
       "63  C:\\Globus\\mode_choice_cases\\atx_85000\\Austin_i...  \n",
       "64  C:\\Globus\\mode_choice_cases\\atx_85000_heur\\Aus...  \n",
       "65  C:\\Globus\\mode_choice_cases\\atx_95000\\Austin_i...  \n",
       "66  C:\\Globus\\mode_choice_cases\\atx_95000_heur\\Aus...  \n",
       "\n",
       "[67 rows x 4 columns]"
      ]
     },
     "execution_count": 4,
     "metadata": {},
     "output_type": "execute_result"
    }
   ],
   "source": [
    "import pandas as pd\n",
    "csvs = config_wtp.csvs\n",
    "demo = []\n",
    "for key, value in csvs.items():\n",
    "        # Extract the values for each column\n",
    "        type_val = value.get('type', None)\n",
    "        exists_val = value.get('exists', None)\n",
    "        location_val = value.get('path', None)\n",
    "        \n",
    "        # Append the row as a tuple\n",
    "        demo.append((key, type_val, exists_val, location_val))\n",
    "\n",
    "    # Create a DataFrame from the rows\n",
    "df = pd.DataFrame(demo, columns=['Key', 'Type', 'Exists', 'Location'])\n",
    "df"
   ]
  },
  {
   "cell_type": "markdown",
   "metadata": {},
   "source": [
    "## Process"
   ]
  },
  {
   "cell_type": "markdown",
   "metadata": {},
   "source": [
    "This takes about 10 minutes for these output folders from scratch, but it builds on existing incomplete processing or pulls results as needed."
   ]
  },
  {
   "cell_type": "code",
   "execution_count": 5,
   "metadata": {},
   "outputs": [
    {
     "name": "stdout",
     "output_type": "stream",
     "text": [
      "starting on directory C:\\Globus\\mode_choice_cases\\atx_27500\n",
      "starting on directory C:\\Globus\\mode_choice_cases\\atx_27500_heur\n",
      "starting on directory C:\\Globus\\mode_choice_cases\\atx_35000\n",
      "starting on directory C:\\Globus\\mode_choice_cases\\atx_35000_heur\n",
      "starting on directory C:\\Globus\\mode_choice_cases\\atx_45000\n",
      "starting on directory C:\\Globus\\mode_choice_cases\\atx_45000_heur\n",
      "starting on directory C:\\Globus\\mode_choice_cases\\atx_55000\n",
      "starting on directory C:\\Globus\\mode_choice_cases\\atx_55000_heur\n",
      "starting on directory C:\\Globus\\mode_choice_cases\\atx_65000\n",
      "starting on directory C:\\Globus\\mode_choice_cases\\atx_65000_heur\n",
      "starting on directory C:\\Globus\\mode_choice_cases\\atx_75000\n",
      "starting on directory C:\\Globus\\mode_choice_cases\\atx_75000_heur\n",
      "starting on directory C:\\Globus\\mode_choice_cases\\atx_85000\n",
      "starting on directory C:\\Globus\\mode_choice_cases\\atx_85000_heur\n",
      "starting on directory C:\\Globus\\mode_choice_cases\\atx_95000\n",
      "starting on directory C:\\Globus\\mode_choice_cases\\atx_95000_heur\n",
      "Done: atx_35000\n",
      "Done: atx_27500_heur\n",
      "Done: atx_45000\n",
      "Done: atx_27500\n",
      "Done: atx_35000_heur\n",
      "Done: atx_65000\n",
      "Done: atx_55000_heur\n",
      "Done: atx_55000\n",
      "Done: atx_45000_heur\n",
      "Done: atx_65000_heur\n",
      "Done: atx_75000_heur\n",
      "Done: atx_85000\n",
      "Done: atx_95000\n",
      "Done: atx_75000\n",
      "Done: atx_95000_heur\n",
      "Done: atx_85000_heur\n"
     ]
    },
    {
     "name": "stderr",
     "output_type": "stream",
     "text": [
      "c:\\polaris\\CU_POLARIS_Postprocessor\\CU_POLARIS_Postprocessor\\parallel.py:40: PerformanceWarning: \n",
      "your performance may suffer as PyTables will pickle object types that it cannot\n",
      "map directly to c-types [inferred_type->mixed,key->block2_values] [items->Index(['mode', 'type', 'folder'], dtype='object')]\n",
      "\n",
      "  store[key] = df\n"
     ]
    },
    {
     "data": {
      "text/plain": [
       "True"
      ]
     },
     "execution_count": 5,
     "metadata": {},
     "output_type": "execute_result"
    }
   ],
   "source": [
    "parallel.parallel_process_folders(config_wtp)\n"
   ]
  },
  {
   "cell_type": "markdown",
   "metadata": {},
   "source": [
    "### Show Output of processing"
   ]
  },
  {
   "cell_type": "code",
   "execution_count": 6,
   "metadata": {},
   "outputs": [
    {
     "name": "stdout",
     "output_type": "stream",
     "text": [
      "transit_trip_max_load_helper\n",
      "transit_trip_max_load\n",
      "mode_Distribution_ADULT_Counts\n",
      "mode_Distribution_ADULT_Distance\n",
      "bus_avo\n",
      "pr_avo\n",
      "fare_sensitivity_results\n",
      "mode_Distribution_ADULT\n",
      "distance_tnc_dist\n",
      "fare_sensitivity_results_zonal\n",
      "fare_sensitivity_demograpic_tnc_stats\n",
      "fare_sensitivity_results_vo\n",
      "tnc_results_discount\n",
      "elder_demo\n",
      "activity_times\n",
      "requests_sum\n",
      "closest_stops\n",
      "tnc_stat_summary\n",
      "tnc_skim_demo\n"
     ]
    }
   ],
   "source": [
    "for key, value in config_wtp.results.items():\n",
    "    print(key)"
   ]
  },
  {
   "cell_type": "markdown",
   "metadata": {},
   "source": [
    "### Power BI Post Processing"
   ]
  },
  {
   "cell_type": "code",
   "execution_count": null,
   "metadata": {},
   "outputs": [
    {
     "name": "stdout",
     "output_type": "stream",
     "text": [
      "Creating case columns for transit_trip_max_load_helper.\n",
      "Creating case columns for transit_trip_max_load.\n",
      "Creating case columns for mode_Distribution_ADULT_Counts.\n",
      "Creating case columns for mode_Distribution_ADULT_Distance.\n",
      "Creating case columns for bus_avo.\n",
      "Creating case columns for pr_avo.\n",
      "Creating case columns for fare_sensitivity_results.\n",
      "Creating case columns for mode_Distribution_ADULT.\n",
      "Creating case columns for distance_tnc_dist.\n",
      "Creating case columns for fare_sensitivity_results_zonal.\n",
      "Creating case columns for fare_sensitivity_demograpic_tnc_stats.\n",
      "Creating case columns for fare_sensitivity_results_vo.\n",
      "Creating case columns for tnc_results_discount.\n",
      "Creating case columns for elder_demo.\n",
      "Creating case columns for activity_times.\n",
      "Creating case columns for requests_sum.\n",
      "Creating case columns for closest_stops.\n",
      "Creating case columns for tnc_stat_summary.\n",
      "Creating case columns for tnc_skim_demo.\n",
      "Creating case columns for tnc_ttests.\n"
     ]
    },
    {
     "ename": "TypeError",
     "evalue": "'set' object is not callable",
     "output_type": "error",
     "traceback": [
      "\u001b[1;31m---------------------------------------------------------------------------\u001b[0m",
      "\u001b[1;31mTypeError\u001b[0m                                 Traceback (most recent call last)",
      "Cell \u001b[1;32mIn[12], line 18\u001b[0m\n\u001b[0;32m     16\u001b[0m demo_aggregators \u001b[38;5;241m=\u001b[39m[\u001b[38;5;124m\"\u001b[39m\u001b[38;5;124mage_class\u001b[39m\u001b[38;5;124m\"\u001b[39m]\n\u001b[0;32m     17\u001b[0m folder_to_columns \u001b[38;5;241m=\u001b[39m [\u001b[38;5;124m\"\u001b[39m\u001b[38;5;124mCity\u001b[39m\u001b[38;5;124m\"\u001b[39m,\u001b[38;5;124m\"\u001b[39m\u001b[38;5;124mStrategy\u001b[39m\u001b[38;5;124m\"\u001b[39m,\u001b[38;5;124m\"\u001b[39m\u001b[38;5;124mIteration\u001b[39m\u001b[38;5;124m\"\u001b[39m,\u001b[38;5;124m\"\u001b[39m\u001b[38;5;124mFleet Size\u001b[39m\u001b[38;5;124m\"\u001b[39m]\n\u001b[1;32m---> 18\u001b[0m prep_utils\u001b[38;5;241m.\u001b[39mgenerate_pbix_control_csv(config_wtp,case_aggregators,demo_aggregators,folder_to_columns)\n\u001b[0;32m     19\u001b[0m prep_utils\u001b[38;5;241m.\u001b[39mupdate_h5(config_wtp)\n",
      "File \u001b[1;32mc:\\polaris\\CU_POLARIS_Postprocessor\\CU_POLARIS_Postprocessor\\power_bi_processing\\prep_utils.py:177\u001b[0m, in \u001b[0;36mgenerate_pbix_control_csv\u001b[1;34m(config, demo_aggregators, case_aggregators, folder_to_columns)\u001b[0m\n\u001b[0;32m    175\u001b[0m \u001b[38;5;28;01mdef\u001b[39;00m \u001b[38;5;21mgenerate_pbix_control_csv\u001b[39m(config:PostProcessingConfig,demo_aggregators:\u001b[38;5;28mlist\u001b[39m, case_aggregators:\u001b[38;5;28mlist\u001b[39m, folder_to_columns:\u001b[38;5;28mlist\u001b[39m):\n\u001b[0;32m    176\u001b[0m     df \u001b[38;5;241m=\u001b[39m pd\u001b[38;5;241m.\u001b[39mDataFrame(zip_longest(case_aggregators, folder_to_columns, demo_aggregators))\n\u001b[1;32m--> 177\u001b[0m     df \u001b[38;5;241m=\u001b[39mdf\u001b[38;5;241m.\u001b[39mrename(columns\u001b[38;5;241m=\u001b[39m{\u001b[38;5;124m\"\u001b[39m\u001b[38;5;124mTransit Aggregators\u001b[39m\u001b[38;5;124m\"\u001b[39m,\u001b[38;5;124m\"\u001b[39m\u001b[38;5;124mFolder to Columns\u001b[39m\u001b[38;5;124m\"\u001b[39m, \u001b[38;5;124m\"\u001b[39m\u001b[38;5;124mDemographic Aggregators\u001b[39m\u001b[38;5;124m\"\u001b[39m})\n\u001b[0;32m    178\u001b[0m     df\u001b[38;5;241m.\u001b[39mto_csv(config\u001b[38;5;241m.\u001b[39mbase_dir\u001b[38;5;241m.\u001b[39mas_posix() \u001b[38;5;241m+\u001b[39m \u001b[38;5;124m\"\u001b[39m\u001b[38;5;124m/pbix_aggregators.csv\u001b[39m\u001b[38;5;124m\"\u001b[39m)\n\u001b[0;32m    179\u001b[0m     result_hold \u001b[38;5;241m=\u001b[39m config\u001b[38;5;241m.\u001b[39mresults\n",
      "File \u001b[1;32m~\\AppData\\Roaming\\Python\\Python312\\site-packages\\pandas\\core\\frame.py:5767\u001b[0m, in \u001b[0;36mDataFrame.rename\u001b[1;34m(self, mapper, index, columns, axis, copy, inplace, level, errors)\u001b[0m\n\u001b[0;32m   5636\u001b[0m \u001b[38;5;28;01mdef\u001b[39;00m \u001b[38;5;21mrename\u001b[39m(\n\u001b[0;32m   5637\u001b[0m     \u001b[38;5;28mself\u001b[39m,\n\u001b[0;32m   5638\u001b[0m     mapper: Renamer \u001b[38;5;241m|\u001b[39m \u001b[38;5;28;01mNone\u001b[39;00m \u001b[38;5;241m=\u001b[39m \u001b[38;5;28;01mNone\u001b[39;00m,\n\u001b[1;32m   (...)\u001b[0m\n\u001b[0;32m   5646\u001b[0m     errors: IgnoreRaise \u001b[38;5;241m=\u001b[39m \u001b[38;5;124m\"\u001b[39m\u001b[38;5;124mignore\u001b[39m\u001b[38;5;124m\"\u001b[39m,\n\u001b[0;32m   5647\u001b[0m ) \u001b[38;5;241m-\u001b[39m\u001b[38;5;241m>\u001b[39m DataFrame \u001b[38;5;241m|\u001b[39m \u001b[38;5;28;01mNone\u001b[39;00m:\n\u001b[0;32m   5648\u001b[0m \u001b[38;5;250m    \u001b[39m\u001b[38;5;124;03m\"\"\"\u001b[39;00m\n\u001b[0;32m   5649\u001b[0m \u001b[38;5;124;03m    Rename columns or index labels.\u001b[39;00m\n\u001b[0;32m   5650\u001b[0m \n\u001b[1;32m   (...)\u001b[0m\n\u001b[0;32m   5765\u001b[0m \u001b[38;5;124;03m    4  3  6\u001b[39;00m\n\u001b[0;32m   5766\u001b[0m \u001b[38;5;124;03m    \"\"\"\u001b[39;00m\n\u001b[1;32m-> 5767\u001b[0m     \u001b[38;5;28;01mreturn\u001b[39;00m \u001b[38;5;28msuper\u001b[39m()\u001b[38;5;241m.\u001b[39m_rename(\n\u001b[0;32m   5768\u001b[0m         mapper\u001b[38;5;241m=\u001b[39mmapper,\n\u001b[0;32m   5769\u001b[0m         index\u001b[38;5;241m=\u001b[39mindex,\n\u001b[0;32m   5770\u001b[0m         columns\u001b[38;5;241m=\u001b[39mcolumns,\n\u001b[0;32m   5771\u001b[0m         axis\u001b[38;5;241m=\u001b[39maxis,\n\u001b[0;32m   5772\u001b[0m         copy\u001b[38;5;241m=\u001b[39mcopy,\n\u001b[0;32m   5773\u001b[0m         inplace\u001b[38;5;241m=\u001b[39minplace,\n\u001b[0;32m   5774\u001b[0m         level\u001b[38;5;241m=\u001b[39mlevel,\n\u001b[0;32m   5775\u001b[0m         errors\u001b[38;5;241m=\u001b[39merrors,\n\u001b[0;32m   5776\u001b[0m     )\n",
      "File \u001b[1;32m~\\AppData\\Roaming\\Python\\Python312\\site-packages\\pandas\\core\\generic.py:1132\u001b[0m, in \u001b[0;36mNDFrame._rename\u001b[1;34m(self, mapper, index, columns, axis, copy, inplace, level, errors)\u001b[0m\n\u001b[0;32m   1125\u001b[0m         missing_labels \u001b[38;5;241m=\u001b[39m [\n\u001b[0;32m   1126\u001b[0m             label\n\u001b[0;32m   1127\u001b[0m             \u001b[38;5;28;01mfor\u001b[39;00m index, label \u001b[38;5;129;01min\u001b[39;00m \u001b[38;5;28menumerate\u001b[39m(replacements)\n\u001b[0;32m   1128\u001b[0m             \u001b[38;5;28;01mif\u001b[39;00m indexer[index] \u001b[38;5;241m==\u001b[39m \u001b[38;5;241m-\u001b[39m\u001b[38;5;241m1\u001b[39m\n\u001b[0;32m   1129\u001b[0m         ]\n\u001b[0;32m   1130\u001b[0m         \u001b[38;5;28;01mraise\u001b[39;00m \u001b[38;5;167;01mKeyError\u001b[39;00m(\u001b[38;5;124mf\u001b[39m\u001b[38;5;124m\"\u001b[39m\u001b[38;5;132;01m{\u001b[39;00mmissing_labels\u001b[38;5;132;01m}\u001b[39;00m\u001b[38;5;124m not found in axis\u001b[39m\u001b[38;5;124m\"\u001b[39m)\n\u001b[1;32m-> 1132\u001b[0m new_index \u001b[38;5;241m=\u001b[39m ax\u001b[38;5;241m.\u001b[39m_transform_index(f, level\u001b[38;5;241m=\u001b[39mlevel)\n\u001b[0;32m   1133\u001b[0m result\u001b[38;5;241m.\u001b[39m_set_axis_nocheck(new_index, axis\u001b[38;5;241m=\u001b[39maxis_no, inplace\u001b[38;5;241m=\u001b[39m\u001b[38;5;28;01mTrue\u001b[39;00m, copy\u001b[38;5;241m=\u001b[39m\u001b[38;5;28;01mFalse\u001b[39;00m)\n\u001b[0;32m   1134\u001b[0m result\u001b[38;5;241m.\u001b[39m_clear_item_cache()\n",
      "File \u001b[1;32m~\\AppData\\Roaming\\Python\\Python312\\site-packages\\pandas\\core\\indexes\\base.py:6537\u001b[0m, in \u001b[0;36mIndex._transform_index\u001b[1;34m(self, func, level)\u001b[0m\n\u001b[0;32m   6535\u001b[0m     \u001b[38;5;28;01mreturn\u001b[39;00m \u001b[38;5;28mtype\u001b[39m(\u001b[38;5;28mself\u001b[39m)\u001b[38;5;241m.\u001b[39mfrom_arrays(values)\n\u001b[0;32m   6536\u001b[0m \u001b[38;5;28;01melse\u001b[39;00m:\n\u001b[1;32m-> 6537\u001b[0m     items \u001b[38;5;241m=\u001b[39m [func(x) \u001b[38;5;28;01mfor\u001b[39;00m x \u001b[38;5;129;01min\u001b[39;00m \u001b[38;5;28mself\u001b[39m]\n\u001b[0;32m   6538\u001b[0m     \u001b[38;5;28;01mreturn\u001b[39;00m Index(items, name\u001b[38;5;241m=\u001b[39m\u001b[38;5;28mself\u001b[39m\u001b[38;5;241m.\u001b[39mname, tupleize_cols\u001b[38;5;241m=\u001b[39m\u001b[38;5;28;01mFalse\u001b[39;00m)\n",
      "\u001b[1;31mTypeError\u001b[0m: 'set' object is not callable"
     ]
    }
   ],
   "source": [
    "IL.reload(CU_POLARIS_Postprocessor.power_bi_processing.prep_utils)\n",
    "#use this for comparing all cases (within a city model) to a single base case\n",
    "base_case_folders = ['atx_du_7','gvl_du_7']\n",
    "#prep_utils.process_tnc_ttests(config=config_wtp,base_cases=base_case_folders)\n",
    "\n",
    "#Use this for comparing strategy to strategy\n",
    "prep_utils.process_tnc_ttests(config=config_wtp,base_suffix=\"_heur\")\n",
    "\n",
    "#Use this for folder names structured cit_fleet-size_strategy_iteration\n",
    "prep_utils.process_folder_names_cit_fleet_strat(config_wtp)\n",
    "\n",
    "#Use this for folder names structured cit_case_iteration\n",
    "#prep_utils.process_folder_names_wtp(config_wtp)\n",
    "\n",
    "case_aggregators =[\"City\",\"Strategy\"]\n",
    "demo_aggregators =[\"age_class\"]\n",
    "folder_to_columns = [\"City\",\"Strategy\",\"Iteration\",\"Fleet Size\"]\n",
    "prep_utils.generate_pbix_control_csv(config_wtp,case_aggregators,demo_aggregators,folder_to_columns)\n",
    "prep_utils.update_h5(config=config_wtp)"
   ]
  },
  {
   "cell_type": "markdown",
   "metadata": {},
   "source": [
    "### Load in final results"
   ]
  },
  {
   "cell_type": "code",
   "execution_count": 5,
   "metadata": {},
   "outputs": [],
   "source": [
    "import pandas as pd\n",
    "h5_path = config_wtp.base_dir.as_posix()+'/results.h5'\n",
    "\n",
    "mode_Distribution_ADULT_Distance=  pd.read_hdf(h5_path,key='mode_Distribution_ADULT_Distance')\n",
    "mode_Distribution_ADULT_Counts=  pd.read_hdf(h5_path,key='mode_Distribution_ADULT_Counts')\n",
    "bus_avo=  pd.read_hdf(h5_path,key='bus_avo')\n",
    "pr_avo=  pd.read_hdf(h5_path,key='pr_avo')\n",
    "fare_sensitivity_results=  pd.read_hdf(h5_path,key='fare_sensitivity_results')\n",
    "mode_Distribution_ADULT=  pd.read_hdf(h5_path,key='mode_Distribution_ADULT')\n",
    "distance_tnc_dist=  pd.read_hdf(h5_path,key='distance_tnc_dist')\n",
    "fare_sensitivity_results_zonal=  pd.read_hdf(h5_path,key='fare_sensitivity_results_zonal')\n",
    "fare_sensitivity_demograpic_tnc_stats=  pd.read_hdf(h5_path,key='fare_sensitivity_demograpic_tnc_stats')\n",
    "fare_sensitivity_results_vo=  pd.read_hdf(h5_path,key='fare_sensitivity_results_vo')\n",
    "tnc_results_discount=  pd.read_hdf(h5_path,key='tnc_results_discount')\n",
    "elder_demo=  pd.read_hdf(h5_path,key='elder_demo')\n",
    "requests_sum=  pd.read_hdf(h5_path,key='requests_sum')\n",
    "tnc_stat_summary=  pd.read_hdf(h5_path,key='tnc_stat_summary')\n",
    "tnc_skim_demo=  pd.read_hdf(h5_path,key='tnc_skim_demo')\n",
    "tnc_ttests=  pd.read_hdf(h5_path,key='tnc_ttests')\n",
    "transit_trip_max_load_helper=  pd.read_hdf(h5_path,key='transit_trip_max_load_helper')"
   ]
  }
 ],
 "metadata": {
  "kernelspec": {
   "display_name": "base",
   "language": "python",
   "name": "python3"
  },
  "language_info": {
   "codemirror_mode": {
    "name": "ipython",
    "version": 3
   },
   "file_extension": ".py",
   "mimetype": "text/x-python",
   "name": "python",
   "nbconvert_exporter": "python",
   "pygments_lexer": "ipython3",
   "version": "3.12.3"
  }
 },
 "nbformat": 4,
 "nbformat_minor": 2
}
