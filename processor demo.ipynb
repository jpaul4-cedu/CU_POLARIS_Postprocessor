{
 "cells": [
  {
   "cell_type": "markdown",
   "metadata": {},
   "source": [
    "## Imports"
   ]
  },
  {
   "cell_type": "code",
   "execution_count": null,
   "metadata": {},
   "outputs": [],
   "source": [
    "from CU_POLARIS_Postprocessor.config import PostProcessingConfig\n",
    "from CU_POLARIS_Postprocessor import prerun, parallel\n",
    "from CU_POLARIS_Postprocessor.power_bi_processing import prep_utils\n",
    "from pathlib import Path\n",
    "\n",
    "\n"
   ]
  },
  {
   "cell_type": "markdown",
   "metadata": {},
   "source": [
    "## Config"
   ]
  },
  {
   "cell_type": "code",
   "execution_count": null,
   "metadata": {},
   "outputs": [],
   "source": [
    "config_wtp = PostProcessingConfig(\n",
    "    fresh_start = True,\n",
    "    reset_sql = True,\n",
    "    reset_csvs= True,\n",
    "    reset_stops = False,\n",
    "    force_skims = False,\n",
    "    base_dir = Path('CU_POLARIS_Postprocessor/demo_files/'),\n",
    "    scenario_file_names = ['scenario_abm.modified.json','scenario_abm_trajectories.modified.json'],\n",
    "    fleet_model_file_names = ['SAEVFleetModel_optimization.json'],\n",
    "    db_names = ['campo', 'greenville'],\n",
    "    pooling_model_file = ['PoolingModel.json'],\n",
    "    postprocessing_definitions = {\n",
    "            'requests_sum':(\"process_solo_equiv_fare\", {'force_skims': False}),\n",
    "            \"closest_stops\":(\"process_nearest_stops\", {}),\n",
    "            \"tnc_skim_demo\":(\"process_elder_request_agg\", {}),\n",
    "            \"tnc_stat_summary\":(\"process_tnc_stat_summary\",{})\n",
    "        },\n",
    "    desired_outputs = {\n",
    "         'transit_trip_max_load_helper':'sql',\n",
    "            'attach':'sql_helper',         \n",
    "            'transit_trip_max_load':'sql',\n",
    "            'mode_Distribution_ADULT_Counts':'sql',\n",
    "            'mode_Distribution_ADULT_Distance':'sql',\n",
    "            'bus_avo':'sql',\n",
    "            'pr_avo':'sql',\n",
    "            'fare_sensitivity_results':'sql',\n",
    "            'mode_Distribution_ADULT':'sql',\n",
    "            'distance_tnc_dist':'sql',\n",
    "            'fare_sensitivity_results_zonal':'sql',\n",
    "            'fare_sensitivity_demograpic_tnc_stats':'sql',\n",
    "            'fare_sensitivity_results_vo':'sql',\n",
    "            'tnc_results_discount':'sql',\n",
    "            'elder_demo':'sql',\n",
    "            'requests': 'postprocessing_helper',\n",
    "            'requests_sum_helper':'postprocessing_helper',\n",
    "            'requests_sum': 'postprocessing',\n",
    "            'closest_stops_helper':'postprocessing_helper',\n",
    "            'closest_stops':'postprocessing',\n",
    "            'tnc_stat_summary_helper':'postprocessing_helper',\n",
    "            'tnc_stat_summary':'postprocessing',\n",
    "            'tnc_skim_demo':'postprocessing',\n",
    "            'tnc_stat_summary_helper':'sql_helper'\n",
    "    },\n",
    "    output_h5=True\n",
    ")"
   ]
  },
  {
   "cell_type": "markdown",
   "metadata": {},
   "source": [
    "## Preprocessing"
   ]
  },
  {
   "cell_type": "code",
   "execution_count": null,
   "metadata": {},
   "outputs": [],
   "source": [
    "prerun.pre_run_checks(config_wtp)\n"
   ]
  },
  {
   "cell_type": "markdown",
   "metadata": {},
   "source": [
    "### Show output of prerun"
   ]
  },
  {
   "cell_type": "code",
   "execution_count": null,
   "metadata": {},
   "outputs": [],
   "source": [
    "import pandas as pd\n",
    "csvs = config_wtp.csvs\n",
    "demo = []\n",
    "for key, value in csvs.items():\n",
    "        # Extract the values for each column\n",
    "        type_val = value.get('type', None)\n",
    "        exists_val = value.get('exists', None)\n",
    "        location_val = value.get('path', None)\n",
    "        \n",
    "        # Append the row as a tuple\n",
    "        demo.append((key, type_val, exists_val, location_val))\n",
    "\n",
    "    # Create a DataFrame from the rows\n",
    "df = pd.DataFrame(demo, columns=['Key', 'Type', 'Exists', 'Location'])\n",
    "df"
   ]
  },
  {
   "cell_type": "markdown",
   "metadata": {},
   "source": [
    "## Process"
   ]
  },
  {
   "cell_type": "markdown",
   "metadata": {},
   "source": [
    "This takes about 10 minutes for these output folders from scratch, but it builds on existing incomplete processing or pulls results as needed."
   ]
  },
  {
   "cell_type": "code",
   "execution_count": null,
   "metadata": {},
   "outputs": [],
   "source": [
    "parallel.parallel_process_folders(config_wtp)\n"
   ]
  },
  {
   "cell_type": "markdown",
   "metadata": {},
   "source": [
    "### Show Output of processing"
   ]
  },
  {
   "cell_type": "code",
   "execution_count": null,
   "metadata": {},
   "outputs": [],
   "source": [
    "for key, value in config_wtp.results.items():\n",
    "    print(key)"
   ]
  },
  {
   "cell_type": "markdown",
   "metadata": {},
   "source": [
    "### Power BI Post Processing"
   ]
  },
  {
   "cell_type": "code",
   "execution_count": null,
   "metadata": {},
   "outputs": [],
   "source": [
    "\n",
    "#use this for comparing all cases (within a city model) to a single base case\n",
    "base_case_folders = ['atx_du_7','gvl_du_7']\n",
    "prep_utils.process_tnc_ttests(config=config_wtp,base_cases=base_case_folders)\n",
    "\n",
    "#Use this for comparing strategy to strategy\n",
    "#prep_utils.process_tnc_ttests(config=config_wtp,base_suffix=\"_heur\")\n",
    "\n",
    "#Use this for folder names structured cit_fleet-size_strategy_iteration\n",
    "#prep_utils.process_folder_names_cit_fleet_strat(config_wtp)\n",
    "\n",
    "#Use this for folder names structured cit_case_iteration\n",
    "prep_utils.process_folder_names_wtp(config_wtp)\n",
    "\n",
    "prep_utils.update_h5(config_wtp)"
   ]
  },
  {
   "cell_type": "markdown",
   "metadata": {},
   "source": [
    "### Load in final results"
   ]
  },
  {
   "cell_type": "code",
   "execution_count": null,
   "metadata": {},
   "outputs": [],
   "source": [
    "h5_path = config_wtp.base_dir.as_posix()+'/results.h5'\n",
    "\n",
    "mode_Distribution_ADULT_Distance=  pd.read_hdf(h5_path,key='mode_Distribution_ADULT_Distance')\n",
    "mode_Distribution_ADULT_Counts=  pd.read_hdf(h5_path,key='mode_Distribution_ADULT_Counts')\n",
    "bus_avo=  pd.read_hdf(h5_path,key='bus_avo')\n",
    "pr_avo=  pd.read_hdf(h5_path,key='pr_avo')\n",
    "fare_sensitivity_results=  pd.read_hdf(h5_path,key='fare_sensitivity_results')\n",
    "mode_Distribution_ADULT=  pd.read_hdf(h5_path,key='mode_Distribution_ADULT')\n",
    "distance_tnc_dist=  pd.read_hdf(h5_path,key='distance_tnc_dist')\n",
    "fare_sensitivity_results_zonal=  pd.read_hdf(h5_path,key='fare_sensitivity_results_zonal')\n",
    "fare_sensitivity_demograpic_tnc_stats=  pd.read_hdf(h5_path,key='fare_sensitivity_demograpic_tnc_stats')\n",
    "fare_sensitivity_results_vo=  pd.read_hdf(h5_path,key='fare_sensitivity_results_vo')\n",
    "tnc_results_discount=  pd.read_hdf(h5_path,key='tnc_results_discount')\n",
    "elder_demo=  pd.read_hdf(h5_path,key='elder_demo')\n",
    "requests_sum=  pd.read_hdf(h5_path,key='requests_sum')\n",
    "tnc_stat_summary=  pd.read_hdf(h5_path,key='tnc_stat_summary')\n",
    "tnc_skim_demo=  pd.read_hdf(h5_path,key='tnc_skim_demo')\n",
    "tnc_ttests=  pd.read_hdf(h5_path,key='tnc_ttests')\n",
    "transit_trip_max_load_helper=  pd.read_hdf(h5_path,key='transit_trip_max_load_helper')"
   ]
  }
 ],
 "metadata": {
  "kernelspec": {
   "display_name": "base",
   "language": "python",
   "name": "python3"
  },
  "language_info": {
   "codemirror_mode": {
    "name": "ipython",
    "version": 3
   },
   "file_extension": ".py",
   "mimetype": "text/x-python",
   "name": "python",
   "nbconvert_exporter": "python",
   "pygments_lexer": "ipython3",
   "version": "3.12.3"
  }
 },
 "nbformat": 4,
 "nbformat_minor": 2
}
