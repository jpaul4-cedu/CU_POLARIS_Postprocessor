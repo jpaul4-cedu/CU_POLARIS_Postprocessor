{
 "cells": [
  {
   "cell_type": "markdown",
   "metadata": {},
   "source": [
    "# Processing"
   ]
  },
  {
   "cell_type": "markdown",
   "metadata": {},
   "source": [
    "## Imports"
   ]
  },
  {
   "cell_type": "code",
   "execution_count": 6,
   "metadata": {},
   "outputs": [
    {
     "name": "stdout",
     "output_type": "stream",
     "text": [
      "Collecting scipy\n",
      "  Using cached scipy-1.14.1-cp310-cp310-manylinux_2_17_x86_64.manylinux2014_x86_64.whl.metadata (60 kB)\n",
      "Requirement already satisfied: numpy<2.3,>=1.23.5 in /home/jpaul4/.conda/envs/processing/lib/python3.10/site-packages (from scipy) (2.1.3)\n",
      "Using cached scipy-1.14.1-cp310-cp310-manylinux_2_17_x86_64.manylinux2014_x86_64.whl (41.2 MB)\n",
      "Installing collected packages: scipy\n",
      "Successfully installed scipy-1.14.1\n",
      "Note: you may need to restart the kernel to use updated packages.\n"
     ]
    },
    {
     "data": {
      "text/plain": [
       "<module 'CU_POLARIS_Postprocessor.power_bi_processing.prep_utils' from '/home/jpaul4/processing/CU_POLARIS_Postprocessor/CU_POLARIS_Postprocessor/power_bi_processing/prep_utils.py'>"
      ]
     },
     "execution_count": 6,
     "metadata": {},
     "output_type": "execute_result"
    }
   ],
   "source": [
    "%pip install scipy\n",
    "import importlib as IL\n",
    "import CU_POLARIS_Postprocessor\n",
    "IL.reload(CU_POLARIS_Postprocessor.config)\n",
    "from CU_POLARIS_Postprocessor.config import PostProcessingConfig\n",
    "from CU_POLARIS_Postprocessor import prerun, parallel\n",
    "from CU_POLARIS_Postprocessor.power_bi_processing import prep_utils\n",
    "from pathlib import Path\n",
    "import importlib as IL\n",
    "import CU_POLARIS_Postprocessor\n",
    "import CU_POLARIS_Postprocessor.power_bi_processing\n",
    "import CU_POLARIS_Postprocessor.power_bi_processing.prep_utils\n",
    "IL.reload(CU_POLARIS_Postprocessor.power_bi_processing.prep_utils)\n",
    "\n",
    "\n"
   ]
  },
  {
   "cell_type": "markdown",
   "metadata": {},
   "source": [
    "## Config"
   ]
  },
  {
   "cell_type": "code",
   "execution_count": 17,
   "metadata": {},
   "outputs": [],
   "source": [
    "config_wtp=PostProcessingConfig(base_dir=Path(\"/scratch/jpaul4/mode_choice_cases/\"),\n",
    "                                output_h5=True,fresh_start=False,reset_csvs=False,reset_sql=False,reset_stops=False, db_names=['Austin'])"
   ]
  },
  {
   "cell_type": "markdown",
   "metadata": {},
   "source": [
    "## Preprocessing"
   ]
  },
  {
   "cell_type": "code",
   "execution_count": 18,
   "metadata": {},
   "outputs": [
    {
     "ename": "AttributeError",
     "evalue": "'NoneType' object has no attribute 'as_posix'",
     "output_type": "error",
     "traceback": [
      "\u001b[0;31m---------------------------------------------------------------------------\u001b[0m",
      "\u001b[0;31mAttributeError\u001b[0m                            Traceback (most recent call last)",
      "Cell \u001b[0;32mIn[18], line 1\u001b[0m\n\u001b[0;32m----> 1\u001b[0m \u001b[43mprerun\u001b[49m\u001b[38;5;241;43m.\u001b[39;49m\u001b[43mpre_run_checks\u001b[49m\u001b[43m(\u001b[49m\u001b[43mconfig_wtp\u001b[49m\u001b[43m)\u001b[49m\n",
      "File \u001b[0;32m~/processing/CU_POLARIS_Postprocessor/CU_POLARIS_Postprocessor/prerun.py:62\u001b[0m, in \u001b[0;36mpre_run_checks\u001b[0;34m(config)\u001b[0m\n\u001b[1;32m     60\u001b[0m \u001b[38;5;28;01mfor\u001b[39;00m \u001b[38;5;28mdir\u001b[39m \u001b[38;5;129;01min\u001b[39;00m run_dirs:\n\u001b[1;32m     61\u001b[0m     iter_dir \u001b[38;5;241m=\u001b[39m get_highest_iteration_folder(\u001b[38;5;28mdir\u001b[39m)\n\u001b[0;32m---> 62\u001b[0m     csv_path \u001b[38;5;241m=\u001b[39m Path(\u001b[43miter_dir\u001b[49m\u001b[38;5;241;43m.\u001b[39;49m\u001b[43mas_posix\u001b[49m() \u001b[38;5;241m+\u001b[39m \u001b[38;5;124m'\u001b[39m\u001b[38;5;124m/\u001b[39m\u001b[38;5;124m'\u001b[39m \u001b[38;5;241m+\u001b[39m item \u001b[38;5;241m+\u001b[39m \u001b[38;5;124m'\u001b[39m\u001b[38;5;124m.csv\u001b[39m\u001b[38;5;124m'\u001b[39m)\n\u001b[1;32m     63\u001b[0m     dir_name \u001b[38;5;241m=\u001b[39m os\u001b[38;5;241m.\u001b[39mpath\u001b[38;5;241m.\u001b[39msplit(os\u001b[38;5;241m.\u001b[39mpath\u001b[38;5;241m.\u001b[39msplit(iter_dir\u001b[38;5;241m.\u001b[39mabsolute())[\u001b[38;5;241m0\u001b[39m])[\u001b[38;5;241m1\u001b[39m]\n\u001b[1;32m     64\u001b[0m     helper_item \u001b[38;5;241m=\u001b[39m item\u001b[38;5;241m+\u001b[39m\u001b[38;5;124m'\u001b[39m\u001b[38;5;124m_\u001b[39m\u001b[38;5;124m'\u001b[39m\u001b[38;5;241m+\u001b[39mdir_name\n",
      "\u001b[0;31mAttributeError\u001b[0m: 'NoneType' object has no attribute 'as_posix'"
     ]
    }
   ],
   "source": [
    "prerun.pre_run_checks(config_wtp)\n"
   ]
  },
  {
   "cell_type": "code",
   "execution_count": null,
   "metadata": {},
   "outputs": [],
   "source": []
  },
  {
   "cell_type": "markdown",
   "metadata": {},
   "source": [
    "### Show output of prerun"
   ]
  },
  {
   "cell_type": "code",
   "execution_count": 11,
   "metadata": {},
   "outputs": [
    {
     "data": {
      "text/html": [
       "<div>\n",
       "<style scoped>\n",
       "    .dataframe tbody tr th:only-of-type {\n",
       "        vertical-align: middle;\n",
       "    }\n",
       "\n",
       "    .dataframe tbody tr th {\n",
       "        vertical-align: top;\n",
       "    }\n",
       "\n",
       "    .dataframe thead th {\n",
       "        text-align: right;\n",
       "    }\n",
       "</style>\n",
       "<table border=\"1\" class=\"dataframe\">\n",
       "  <thead>\n",
       "    <tr style=\"text-align: right;\">\n",
       "      <th></th>\n",
       "      <th>Key</th>\n",
       "      <th>Type</th>\n",
       "      <th>Exists</th>\n",
       "      <th>Location</th>\n",
       "    </tr>\n",
       "  </thead>\n",
       "  <tbody>\n",
       "    <tr>\n",
       "      <th>0</th>\n",
       "      <td>transit_trip_max_load_helper</td>\n",
       "      <td>sql</td>\n",
       "      <td>False</td>\n",
       "      <td>/scratch/jpaul4/mode_choice_study/transit_trip...</td>\n",
       "    </tr>\n",
       "    <tr>\n",
       "      <th>1</th>\n",
       "      <td>transit_trip_max_load</td>\n",
       "      <td>sql</td>\n",
       "      <td>False</td>\n",
       "      <td>/scratch/jpaul4/mode_choice_study/transit_trip...</td>\n",
       "    </tr>\n",
       "    <tr>\n",
       "      <th>2</th>\n",
       "      <td>mode_Distribution_ADULT_Counts</td>\n",
       "      <td>sql</td>\n",
       "      <td>False</td>\n",
       "      <td>/scratch/jpaul4/mode_choice_study/mode_Distrib...</td>\n",
       "    </tr>\n",
       "    <tr>\n",
       "      <th>3</th>\n",
       "      <td>mode_Distribution_ADULT_Distance</td>\n",
       "      <td>sql</td>\n",
       "      <td>False</td>\n",
       "      <td>/scratch/jpaul4/mode_choice_study/mode_Distrib...</td>\n",
       "    </tr>\n",
       "    <tr>\n",
       "      <th>4</th>\n",
       "      <td>bus_avo</td>\n",
       "      <td>sql</td>\n",
       "      <td>False</td>\n",
       "      <td>/scratch/jpaul4/mode_choice_study/bus_avo.csv</td>\n",
       "    </tr>\n",
       "    <tr>\n",
       "      <th>5</th>\n",
       "      <td>pr_avo</td>\n",
       "      <td>sql</td>\n",
       "      <td>False</td>\n",
       "      <td>/scratch/jpaul4/mode_choice_study/pr_avo.csv</td>\n",
       "    </tr>\n",
       "    <tr>\n",
       "      <th>6</th>\n",
       "      <td>fare_sensitivity_results</td>\n",
       "      <td>sql</td>\n",
       "      <td>False</td>\n",
       "      <td>/scratch/jpaul4/mode_choice_study/fare_sensiti...</td>\n",
       "    </tr>\n",
       "    <tr>\n",
       "      <th>7</th>\n",
       "      <td>mode_Distribution_ADULT</td>\n",
       "      <td>sql</td>\n",
       "      <td>False</td>\n",
       "      <td>/scratch/jpaul4/mode_choice_study/mode_Distrib...</td>\n",
       "    </tr>\n",
       "    <tr>\n",
       "      <th>8</th>\n",
       "      <td>distance_tnc_dist</td>\n",
       "      <td>sql</td>\n",
       "      <td>False</td>\n",
       "      <td>/scratch/jpaul4/mode_choice_study/distance_tnc...</td>\n",
       "    </tr>\n",
       "    <tr>\n",
       "      <th>9</th>\n",
       "      <td>fare_sensitivity_results_zonal</td>\n",
       "      <td>sql</td>\n",
       "      <td>False</td>\n",
       "      <td>/scratch/jpaul4/mode_choice_study/fare_sensiti...</td>\n",
       "    </tr>\n",
       "    <tr>\n",
       "      <th>10</th>\n",
       "      <td>fare_sensitivity_demograpic_tnc_stats</td>\n",
       "      <td>sql</td>\n",
       "      <td>False</td>\n",
       "      <td>/scratch/jpaul4/mode_choice_study/fare_sensiti...</td>\n",
       "    </tr>\n",
       "    <tr>\n",
       "      <th>11</th>\n",
       "      <td>fare_sensitivity_results_vo</td>\n",
       "      <td>sql</td>\n",
       "      <td>False</td>\n",
       "      <td>/scratch/jpaul4/mode_choice_study/fare_sensiti...</td>\n",
       "    </tr>\n",
       "    <tr>\n",
       "      <th>12</th>\n",
       "      <td>tnc_results_discount</td>\n",
       "      <td>sql</td>\n",
       "      <td>False</td>\n",
       "      <td>/scratch/jpaul4/mode_choice_study/tnc_results_...</td>\n",
       "    </tr>\n",
       "    <tr>\n",
       "      <th>13</th>\n",
       "      <td>elder_demo</td>\n",
       "      <td>sql</td>\n",
       "      <td>False</td>\n",
       "      <td>/scratch/jpaul4/mode_choice_study/elder_demo.csv</td>\n",
       "    </tr>\n",
       "    <tr>\n",
       "      <th>14</th>\n",
       "      <td>activity_times</td>\n",
       "      <td>sql</td>\n",
       "      <td>False</td>\n",
       "      <td>/scratch/jpaul4/mode_choice_study/activity_tim...</td>\n",
       "    </tr>\n",
       "    <tr>\n",
       "      <th>15</th>\n",
       "      <td>requests_sum</td>\n",
       "      <td>postprocessing</td>\n",
       "      <td>False</td>\n",
       "      <td>/scratch/jpaul4/mode_choice_study/requests_sum...</td>\n",
       "    </tr>\n",
       "    <tr>\n",
       "      <th>16</th>\n",
       "      <td>closest_stops</td>\n",
       "      <td>postprocessing</td>\n",
       "      <td>False</td>\n",
       "      <td>/scratch/jpaul4/mode_choice_study/closest_stop...</td>\n",
       "    </tr>\n",
       "    <tr>\n",
       "      <th>17</th>\n",
       "      <td>tnc_stat_summary</td>\n",
       "      <td>postprocessing</td>\n",
       "      <td>False</td>\n",
       "      <td>/scratch/jpaul4/mode_choice_study/tnc_stat_sum...</td>\n",
       "    </tr>\n",
       "    <tr>\n",
       "      <th>18</th>\n",
       "      <td>tnc_skim_demo</td>\n",
       "      <td>postprocessing</td>\n",
       "      <td>False</td>\n",
       "      <td>/scratch/jpaul4/mode_choice_study/tnc_skim_dem...</td>\n",
       "    </tr>\n",
       "  </tbody>\n",
       "</table>\n",
       "</div>"
      ],
      "text/plain": [
       "                                      Key            Type  Exists  \\\n",
       "0            transit_trip_max_load_helper             sql   False   \n",
       "1                   transit_trip_max_load             sql   False   \n",
       "2          mode_Distribution_ADULT_Counts             sql   False   \n",
       "3        mode_Distribution_ADULT_Distance             sql   False   \n",
       "4                                 bus_avo             sql   False   \n",
       "5                                  pr_avo             sql   False   \n",
       "6                fare_sensitivity_results             sql   False   \n",
       "7                 mode_Distribution_ADULT             sql   False   \n",
       "8                       distance_tnc_dist             sql   False   \n",
       "9          fare_sensitivity_results_zonal             sql   False   \n",
       "10  fare_sensitivity_demograpic_tnc_stats             sql   False   \n",
       "11            fare_sensitivity_results_vo             sql   False   \n",
       "12                   tnc_results_discount             sql   False   \n",
       "13                             elder_demo             sql   False   \n",
       "14                         activity_times             sql   False   \n",
       "15                           requests_sum  postprocessing   False   \n",
       "16                          closest_stops  postprocessing   False   \n",
       "17                       tnc_stat_summary  postprocessing   False   \n",
       "18                          tnc_skim_demo  postprocessing   False   \n",
       "\n",
       "                                             Location  \n",
       "0   /scratch/jpaul4/mode_choice_study/transit_trip...  \n",
       "1   /scratch/jpaul4/mode_choice_study/transit_trip...  \n",
       "2   /scratch/jpaul4/mode_choice_study/mode_Distrib...  \n",
       "3   /scratch/jpaul4/mode_choice_study/mode_Distrib...  \n",
       "4       /scratch/jpaul4/mode_choice_study/bus_avo.csv  \n",
       "5        /scratch/jpaul4/mode_choice_study/pr_avo.csv  \n",
       "6   /scratch/jpaul4/mode_choice_study/fare_sensiti...  \n",
       "7   /scratch/jpaul4/mode_choice_study/mode_Distrib...  \n",
       "8   /scratch/jpaul4/mode_choice_study/distance_tnc...  \n",
       "9   /scratch/jpaul4/mode_choice_study/fare_sensiti...  \n",
       "10  /scratch/jpaul4/mode_choice_study/fare_sensiti...  \n",
       "11  /scratch/jpaul4/mode_choice_study/fare_sensiti...  \n",
       "12  /scratch/jpaul4/mode_choice_study/tnc_results_...  \n",
       "13   /scratch/jpaul4/mode_choice_study/elder_demo.csv  \n",
       "14  /scratch/jpaul4/mode_choice_study/activity_tim...  \n",
       "15  /scratch/jpaul4/mode_choice_study/requests_sum...  \n",
       "16  /scratch/jpaul4/mode_choice_study/closest_stop...  \n",
       "17  /scratch/jpaul4/mode_choice_study/tnc_stat_sum...  \n",
       "18  /scratch/jpaul4/mode_choice_study/tnc_skim_dem...  "
      ]
     },
     "execution_count": 11,
     "metadata": {},
     "output_type": "execute_result"
    }
   ],
   "source": [
    "import pandas as pd\n",
    "csvs = config_wtp.csvs\n",
    "demo = []\n",
    "for key, value in csvs.items():\n",
    "        # Extract the values for each column\n",
    "        type_val = value.get('type', None)\n",
    "        exists_val = value.get('exists', None)\n",
    "        location_val = value.get('path', None)\n",
    "        \n",
    "        # Append the row as a tuple\n",
    "        demo.append((key, type_val, exists_val, location_val))\n",
    "\n",
    "    # Create a DataFrame from the rows\n",
    "df = pd.DataFrame(demo, columns=['Key', 'Type', 'Exists', 'Location'])\n",
    "df"
   ]
  },
  {
   "cell_type": "markdown",
   "metadata": {},
   "source": [
    "## Process"
   ]
  },
  {
   "cell_type": "markdown",
   "metadata": {},
   "source": [
    "This takes about 10 minutes for these output folders from scratch, but it builds on existing incomplete processing or pulls results as needed."
   ]
  },
  {
   "cell_type": "code",
   "execution_count": 12,
   "metadata": {},
   "outputs": [
    {
     "ename": "FileNotFoundError",
     "evalue": "[Errno 2] No such file or directory: '/scratch/jpaul4/mode_choice_study'",
     "output_type": "error",
     "traceback": [
      "\u001b[0;31m---------------------------------------------------------------------------\u001b[0m",
      "\u001b[0;31mFileNotFoundError\u001b[0m                         Traceback (most recent call last)",
      "Cell \u001b[0;32mIn[12], line 1\u001b[0m\n\u001b[0;32m----> 1\u001b[0m \u001b[43mparallel\u001b[49m\u001b[38;5;241;43m.\u001b[39;49m\u001b[43mparallel_process_folders\u001b[49m\u001b[43m(\u001b[49m\u001b[43mconfig_wtp\u001b[49m\u001b[43m)\u001b[49m\n",
      "File \u001b[0;32m~/processing/CU_POLARIS_Postprocessor/CU_POLARIS_Postprocessor/parallel.py:18\u001b[0m, in \u001b[0;36mparallel_process_folders\u001b[0;34m(config)\u001b[0m\n\u001b[1;32m     15\u001b[0m \u001b[38;5;28;01mdef\u001b[39;00m \u001b[38;5;21mparallel_process_folders\u001b[39m(config:PostProcessingConfig):\n\u001b[1;32m     16\u001b[0m     \u001b[38;5;66;03m# Get a list of all subfolders in the parent folder\u001b[39;00m\n\u001b[1;32m     17\u001b[0m     parent_folder \u001b[38;5;241m=\u001b[39m config\u001b[38;5;241m.\u001b[39mbase_dir\n\u001b[0;32m---> 18\u001b[0m     folders \u001b[38;5;241m=\u001b[39m [Path(os\u001b[38;5;241m.\u001b[39mpath\u001b[38;5;241m.\u001b[39mjoin(parent_folder, f)) \u001b[38;5;28;01mfor\u001b[39;00m f \u001b[38;5;129;01min\u001b[39;00m \u001b[43mos\u001b[49m\u001b[38;5;241;43m.\u001b[39;49m\u001b[43mlistdir\u001b[49m\u001b[43m(\u001b[49m\u001b[43mparent_folder\u001b[49m\u001b[43m)\u001b[49m \u001b[38;5;28;01mif\u001b[39;00m os\u001b[38;5;241m.\u001b[39mpath\u001b[38;5;241m.\u001b[39misdir(os\u001b[38;5;241m.\u001b[39mpath\u001b[38;5;241m.\u001b[39mjoin(parent_folder, f))]\n\u001b[1;32m     20\u001b[0m     \u001b[38;5;66;03m# Use ThreadPoolExecutor or ProcessPoolExecutor to process folders in parallel\u001b[39;00m\n\u001b[1;32m     21\u001b[0m     \u001b[38;5;28;01mwith\u001b[39;00m concurrent\u001b[38;5;241m.\u001b[39mfutures\u001b[38;5;241m.\u001b[39mThreadPoolExecutor() \u001b[38;5;28;01mas\u001b[39;00m executor:\n",
      "\u001b[0;31mFileNotFoundError\u001b[0m: [Errno 2] No such file or directory: '/scratch/jpaul4/mode_choice_study'"
     ]
    }
   ],
   "source": [
    "parallel.parallel_process_folders(config_wtp)\n"
   ]
  },
  {
   "cell_type": "markdown",
   "metadata": {},
   "source": [
    "### Show Output of processing"
   ]
  },
  {
   "cell_type": "code",
   "execution_count": 6,
   "metadata": {},
   "outputs": [
    {
     "name": "stdout",
     "output_type": "stream",
     "text": [
      "transit_trip_max_load_helper\n",
      "transit_trip_max_load\n",
      "mode_Distribution_ADULT_Counts\n",
      "mode_Distribution_ADULT_Distance\n",
      "bus_avo\n",
      "pr_avo\n",
      "fare_sensitivity_results\n",
      "mode_Distribution_ADULT\n",
      "distance_tnc_dist\n",
      "fare_sensitivity_results_zonal\n",
      "fare_sensitivity_demograpic_tnc_stats\n",
      "fare_sensitivity_results_vo\n",
      "tnc_results_discount\n",
      "elder_demo\n",
      "activity_times\n",
      "requests_sum\n",
      "closest_stops\n",
      "tnc_stat_summary\n",
      "tnc_skim_demo\n"
     ]
    }
   ],
   "source": [
    "for key, value in config_wtp.results.items():\n",
    "    print(key)"
   ]
  },
  {
   "cell_type": "markdown",
   "metadata": {},
   "source": [
    "### Power BI Post Processing"
   ]
  },
  {
   "cell_type": "code",
   "execution_count": null,
   "metadata": {},
   "outputs": [
    {
     "name": "stdout",
     "output_type": "stream",
     "text": [
      "Creating case columns for transit_trip_max_load_helper.\n",
      "Creating case columns for transit_trip_max_load.\n",
      "Creating case columns for mode_Distribution_ADULT_Counts.\n",
      "Creating case columns for mode_Distribution_ADULT_Distance.\n",
      "Creating case columns for bus_avo.\n",
      "Creating case columns for pr_avo.\n",
      "Creating case columns for fare_sensitivity_results.\n",
      "Creating case columns for mode_Distribution_ADULT.\n",
      "Creating case columns for distance_tnc_dist.\n",
      "Creating case columns for fare_sensitivity_results_zonal.\n",
      "Creating case columns for fare_sensitivity_demograpic_tnc_stats.\n",
      "Creating case columns for fare_sensitivity_results_vo.\n",
      "Creating case columns for tnc_results_discount.\n",
      "Creating case columns for elder_demo.\n",
      "Creating case columns for activity_times.\n",
      "Creating case columns for requests_sum.\n",
      "Creating case columns for closest_stops.\n",
      "Creating case columns for tnc_stat_summary.\n",
      "Creating case columns for tnc_skim_demo.\n",
      "Creating case columns for tnc_ttests.\n"
     ]
    },
    {
     "ename": "TypeError",
     "evalue": "'set' object is not callable",
     "output_type": "error",
     "traceback": [
      "\u001b[1;31m---------------------------------------------------------------------------\u001b[0m",
      "\u001b[1;31mTypeError\u001b[0m                                 Traceback (most recent call last)",
      "Cell \u001b[1;32mIn[12], line 18\u001b[0m\n\u001b[0;32m     16\u001b[0m demo_aggregators \u001b[38;5;241m=\u001b[39m[\u001b[38;5;124m\"\u001b[39m\u001b[38;5;124mage_class\u001b[39m\u001b[38;5;124m\"\u001b[39m]\n\u001b[0;32m     17\u001b[0m folder_to_columns \u001b[38;5;241m=\u001b[39m [\u001b[38;5;124m\"\u001b[39m\u001b[38;5;124mCity\u001b[39m\u001b[38;5;124m\"\u001b[39m,\u001b[38;5;124m\"\u001b[39m\u001b[38;5;124mStrategy\u001b[39m\u001b[38;5;124m\"\u001b[39m,\u001b[38;5;124m\"\u001b[39m\u001b[38;5;124mIteration\u001b[39m\u001b[38;5;124m\"\u001b[39m,\u001b[38;5;124m\"\u001b[39m\u001b[38;5;124mFleet Size\u001b[39m\u001b[38;5;124m\"\u001b[39m]\n\u001b[1;32m---> 18\u001b[0m prep_utils\u001b[38;5;241m.\u001b[39mgenerate_pbix_control_csv(config_wtp,case_aggregators,demo_aggregators,folder_to_columns)\n\u001b[0;32m     19\u001b[0m prep_utils\u001b[38;5;241m.\u001b[39mupdate_h5(config_wtp)\n",
      "File \u001b[1;32mc:\\polaris\\CU_POLARIS_Postprocessor\\CU_POLARIS_Postprocessor\\power_bi_processing\\prep_utils.py:177\u001b[0m, in \u001b[0;36mgenerate_pbix_control_csv\u001b[1;34m(config, demo_aggregators, case_aggregators, folder_to_columns)\u001b[0m\n\u001b[0;32m    175\u001b[0m \u001b[38;5;28;01mdef\u001b[39;00m \u001b[38;5;21mgenerate_pbix_control_csv\u001b[39m(config:PostProcessingConfig,demo_aggregators:\u001b[38;5;28mlist\u001b[39m, case_aggregators:\u001b[38;5;28mlist\u001b[39m, folder_to_columns:\u001b[38;5;28mlist\u001b[39m):\n\u001b[0;32m    176\u001b[0m     df \u001b[38;5;241m=\u001b[39m pd\u001b[38;5;241m.\u001b[39mDataFrame(zip_longest(case_aggregators, folder_to_columns, demo_aggregators))\n\u001b[1;32m--> 177\u001b[0m     df \u001b[38;5;241m=\u001b[39mdf\u001b[38;5;241m.\u001b[39mrename(columns\u001b[38;5;241m=\u001b[39m{\u001b[38;5;124m\"\u001b[39m\u001b[38;5;124mTransit Aggregators\u001b[39m\u001b[38;5;124m\"\u001b[39m,\u001b[38;5;124m\"\u001b[39m\u001b[38;5;124mFolder to Columns\u001b[39m\u001b[38;5;124m\"\u001b[39m, \u001b[38;5;124m\"\u001b[39m\u001b[38;5;124mDemographic Aggregators\u001b[39m\u001b[38;5;124m\"\u001b[39m})\n\u001b[0;32m    178\u001b[0m     df\u001b[38;5;241m.\u001b[39mto_csv(config\u001b[38;5;241m.\u001b[39mbase_dir\u001b[38;5;241m.\u001b[39mas_posix() \u001b[38;5;241m+\u001b[39m \u001b[38;5;124m\"\u001b[39m\u001b[38;5;124m/pbix_aggregators.csv\u001b[39m\u001b[38;5;124m\"\u001b[39m)\n\u001b[0;32m    179\u001b[0m     result_hold \u001b[38;5;241m=\u001b[39m config\u001b[38;5;241m.\u001b[39mresults\n",
      "File \u001b[1;32m~\\AppData\\Roaming\\Python\\Python312\\site-packages\\pandas\\core\\frame.py:5767\u001b[0m, in \u001b[0;36mDataFrame.rename\u001b[1;34m(self, mapper, index, columns, axis, copy, inplace, level, errors)\u001b[0m\n\u001b[0;32m   5636\u001b[0m \u001b[38;5;28;01mdef\u001b[39;00m \u001b[38;5;21mrename\u001b[39m(\n\u001b[0;32m   5637\u001b[0m     \u001b[38;5;28mself\u001b[39m,\n\u001b[0;32m   5638\u001b[0m     mapper: Renamer \u001b[38;5;241m|\u001b[39m \u001b[38;5;28;01mNone\u001b[39;00m \u001b[38;5;241m=\u001b[39m \u001b[38;5;28;01mNone\u001b[39;00m,\n\u001b[1;32m   (...)\u001b[0m\n\u001b[0;32m   5646\u001b[0m     errors: IgnoreRaise \u001b[38;5;241m=\u001b[39m \u001b[38;5;124m\"\u001b[39m\u001b[38;5;124mignore\u001b[39m\u001b[38;5;124m\"\u001b[39m,\n\u001b[0;32m   5647\u001b[0m ) \u001b[38;5;241m-\u001b[39m\u001b[38;5;241m>\u001b[39m DataFrame \u001b[38;5;241m|\u001b[39m \u001b[38;5;28;01mNone\u001b[39;00m:\n\u001b[0;32m   5648\u001b[0m \u001b[38;5;250m    \u001b[39m\u001b[38;5;124;03m\"\"\"\u001b[39;00m\n\u001b[0;32m   5649\u001b[0m \u001b[38;5;124;03m    Rename columns or index labels.\u001b[39;00m\n\u001b[0;32m   5650\u001b[0m \n\u001b[1;32m   (...)\u001b[0m\n\u001b[0;32m   5765\u001b[0m \u001b[38;5;124;03m    4  3  6\u001b[39;00m\n\u001b[0;32m   5766\u001b[0m \u001b[38;5;124;03m    \"\"\"\u001b[39;00m\n\u001b[1;32m-> 5767\u001b[0m     \u001b[38;5;28;01mreturn\u001b[39;00m \u001b[38;5;28msuper\u001b[39m()\u001b[38;5;241m.\u001b[39m_rename(\n\u001b[0;32m   5768\u001b[0m         mapper\u001b[38;5;241m=\u001b[39mmapper,\n\u001b[0;32m   5769\u001b[0m         index\u001b[38;5;241m=\u001b[39mindex,\n\u001b[0;32m   5770\u001b[0m         columns\u001b[38;5;241m=\u001b[39mcolumns,\n\u001b[0;32m   5771\u001b[0m         axis\u001b[38;5;241m=\u001b[39maxis,\n\u001b[0;32m   5772\u001b[0m         copy\u001b[38;5;241m=\u001b[39mcopy,\n\u001b[0;32m   5773\u001b[0m         inplace\u001b[38;5;241m=\u001b[39minplace,\n\u001b[0;32m   5774\u001b[0m         level\u001b[38;5;241m=\u001b[39mlevel,\n\u001b[0;32m   5775\u001b[0m         errors\u001b[38;5;241m=\u001b[39merrors,\n\u001b[0;32m   5776\u001b[0m     )\n",
      "File \u001b[1;32m~\\AppData\\Roaming\\Python\\Python312\\site-packages\\pandas\\core\\generic.py:1132\u001b[0m, in \u001b[0;36mNDFrame._rename\u001b[1;34m(self, mapper, index, columns, axis, copy, inplace, level, errors)\u001b[0m\n\u001b[0;32m   1125\u001b[0m         missing_labels \u001b[38;5;241m=\u001b[39m [\n\u001b[0;32m   1126\u001b[0m             label\n\u001b[0;32m   1127\u001b[0m             \u001b[38;5;28;01mfor\u001b[39;00m index, label \u001b[38;5;129;01min\u001b[39;00m \u001b[38;5;28menumerate\u001b[39m(replacements)\n\u001b[0;32m   1128\u001b[0m             \u001b[38;5;28;01mif\u001b[39;00m indexer[index] \u001b[38;5;241m==\u001b[39m \u001b[38;5;241m-\u001b[39m\u001b[38;5;241m1\u001b[39m\n\u001b[0;32m   1129\u001b[0m         ]\n\u001b[0;32m   1130\u001b[0m         \u001b[38;5;28;01mraise\u001b[39;00m \u001b[38;5;167;01mKeyError\u001b[39;00m(\u001b[38;5;124mf\u001b[39m\u001b[38;5;124m\"\u001b[39m\u001b[38;5;132;01m{\u001b[39;00mmissing_labels\u001b[38;5;132;01m}\u001b[39;00m\u001b[38;5;124m not found in axis\u001b[39m\u001b[38;5;124m\"\u001b[39m)\n\u001b[1;32m-> 1132\u001b[0m new_index \u001b[38;5;241m=\u001b[39m ax\u001b[38;5;241m.\u001b[39m_transform_index(f, level\u001b[38;5;241m=\u001b[39mlevel)\n\u001b[0;32m   1133\u001b[0m result\u001b[38;5;241m.\u001b[39m_set_axis_nocheck(new_index, axis\u001b[38;5;241m=\u001b[39maxis_no, inplace\u001b[38;5;241m=\u001b[39m\u001b[38;5;28;01mTrue\u001b[39;00m, copy\u001b[38;5;241m=\u001b[39m\u001b[38;5;28;01mFalse\u001b[39;00m)\n\u001b[0;32m   1134\u001b[0m result\u001b[38;5;241m.\u001b[39m_clear_item_cache()\n",
      "File \u001b[1;32m~\\AppData\\Roaming\\Python\\Python312\\site-packages\\pandas\\core\\indexes\\base.py:6537\u001b[0m, in \u001b[0;36mIndex._transform_index\u001b[1;34m(self, func, level)\u001b[0m\n\u001b[0;32m   6535\u001b[0m     \u001b[38;5;28;01mreturn\u001b[39;00m \u001b[38;5;28mtype\u001b[39m(\u001b[38;5;28mself\u001b[39m)\u001b[38;5;241m.\u001b[39mfrom_arrays(values)\n\u001b[0;32m   6536\u001b[0m \u001b[38;5;28;01melse\u001b[39;00m:\n\u001b[1;32m-> 6537\u001b[0m     items \u001b[38;5;241m=\u001b[39m [func(x) \u001b[38;5;28;01mfor\u001b[39;00m x \u001b[38;5;129;01min\u001b[39;00m \u001b[38;5;28mself\u001b[39m]\n\u001b[0;32m   6538\u001b[0m     \u001b[38;5;28;01mreturn\u001b[39;00m Index(items, name\u001b[38;5;241m=\u001b[39m\u001b[38;5;28mself\u001b[39m\u001b[38;5;241m.\u001b[39mname, tupleize_cols\u001b[38;5;241m=\u001b[39m\u001b[38;5;28;01mFalse\u001b[39;00m)\n",
      "\u001b[1;31mTypeError\u001b[0m: 'set' object is not callable"
     ]
    }
   ],
   "source": [
    "IL.reload(CU_POLARIS_Postprocessor.power_bi_processing.prep_utils)\n",
    "#use this for comparing all cases (within a city model) to a single base case\n",
    "base_case_folders = ['atx_du_7','gvl_du_7']\n",
    "#prep_utils.process_tnc_ttests(config=config_wtp,base_cases=base_case_folders)\n",
    "\n",
    "#Use this for comparing strategy to strategy\n",
    "prep_utils.process_tnc_ttests(config=config_wtp,base_suffix=\"_heur\")\n",
    "\n",
    "#Use this for folder names structured cit_fleet-size_strategy_iteration\n",
    "prep_utils.process_folder_names_cit_fleet_strat(config_wtp)\n",
    "\n",
    "#Use this for folder names structured cit_case_iteration\n",
    "#prep_utils.process_folder_names_wtp(config_wtp)\n",
    "\n",
    "case_aggregators =[\"City\",\"Strategy\"]\n",
    "demo_aggregators =[\"age_class\"]\n",
    "folder_to_columns = [\"City\",\"Strategy\",\"Iteration\",\"Fleet Size\"]\n",
    "prep_utils.generate_pbix_control_csv(config_wtp,case_aggregators,demo_aggregators,folder_to_columns)\n",
    "prep_utils.update_h5(config=config_wtp)"
   ]
  },
  {
   "cell_type": "markdown",
   "metadata": {},
   "source": [
    "### Load in final results"
   ]
  },
  {
   "cell_type": "code",
   "execution_count": 5,
   "metadata": {},
   "outputs": [],
   "source": [
    "import pandas as pd\n",
    "h5_path = config_wtp.base_dir.as_posix()+'/results.h5'\n",
    "\n",
    "mode_Distribution_ADULT_Distance=  pd.read_hdf(h5_path,key='mode_Distribution_ADULT_Distance')\n",
    "mode_Distribution_ADULT_Counts=  pd.read_hdf(h5_path,key='mode_Distribution_ADULT_Counts')\n",
    "bus_avo=  pd.read_hdf(h5_path,key='bus_avo')\n",
    "pr_avo=  pd.read_hdf(h5_path,key='pr_avo')\n",
    "fare_sensitivity_results=  pd.read_hdf(h5_path,key='fare_sensitivity_results')\n",
    "mode_Distribution_ADULT=  pd.read_hdf(h5_path,key='mode_Distribution_ADULT')\n",
    "distance_tnc_dist=  pd.read_hdf(h5_path,key='distance_tnc_dist')\n",
    "fare_sensitivity_results_zonal=  pd.read_hdf(h5_path,key='fare_sensitivity_results_zonal')\n",
    "fare_sensitivity_demograpic_tnc_stats=  pd.read_hdf(h5_path,key='fare_sensitivity_demograpic_tnc_stats')\n",
    "fare_sensitivity_results_vo=  pd.read_hdf(h5_path,key='fare_sensitivity_results_vo')\n",
    "tnc_results_discount=  pd.read_hdf(h5_path,key='tnc_results_discount')\n",
    "elder_demo=  pd.read_hdf(h5_path,key='elder_demo')\n",
    "requests_sum=  pd.read_hdf(h5_path,key='requests_sum')\n",
    "tnc_stat_summary=  pd.read_hdf(h5_path,key='tnc_stat_summary')\n",
    "tnc_skim_demo=  pd.read_hdf(h5_path,key='tnc_skim_demo')\n",
    "tnc_ttests=  pd.read_hdf(h5_path,key='tnc_ttests')\n",
    "transit_trip_max_load_helper=  pd.read_hdf(h5_path,key='transit_trip_max_load_helper')"
   ]
  },
  {
   "cell_type": "markdown",
   "metadata": {},
   "source": [
    "# Scenario Tools"
   ]
  },
  {
   "cell_type": "markdown",
   "metadata": {},
   "source": [
    "## Imports"
   ]
  },
  {
   "cell_type": "code",
   "execution_count": null,
   "metadata": {},
   "outputs": [],
   "source": [
    "from CU_POLARIS_Postprocessor.utils import bulk_update_scenario_files, copy_cases, CaseVariableData, BulkUpdateData\n",
    "from pathlib import Path\n",
    "import os\n",
    "import shutil\n",
    "import subprocess\n",
    "\n"
   ]
  },
  {
   "cell_type": "markdown",
   "metadata": {},
   "source": [
    "## Creating scenarios from a base case, copying files, or updating cases"
   ]
  },
  {
   "cell_type": "markdown",
   "metadata": {},
   "source": [
    "### Creating Scenarios from a base scenario"
   ]
  },
  {
   "cell_type": "code",
   "execution_count": null,
   "metadata": {},
   "outputs": [],
   "source": [
    "\n",
    "case_path = Path('/scratch/jpaul4/gsc/')\n",
    "dest_path = Path(\"/scratch/jpaul4/trb_cases/gsc/\")\n",
    "new_case_path = dest_path\n",
    "\n",
    "\n",
    "fleet_sizes = [i for i in range(100,600,100)]\n",
    "strategies =[\"heur\",\"\"] #for folder names\n",
    "strat_key = {\"heur\":\"default\",\"\":\"DRS_Discount\"} #corresponding keys for folder names (optional)\n",
    "\n",
    "var_1 = CaseVariableData(\"fleet_size\",\"SAEVFleetModel_optimization.json\",[\"Operator_1\", \"Fleet_Base\", \"Operator_1_TNC_FLEET_SIZE\"],fleet_sizes)\n",
    "var_2 = CaseVariableData(\"strategy\",\"SAEVFleetModel_optimization.json\",[\"Operator_1\",\"Fleet Strategy\", \"Operator_1_strategy_name\"],strategies, strat_key)\n",
    "\n",
    "new_cases = [var_1,var_2]\n",
    "\n",
    "args = {\"new_case_path\":new_case_path,\n",
    "        \"case_path\":case_path,\n",
    "        \"new_cases\":new_cases,\n",
    "        \"parallel\":True}\n",
    "\n",
    "copy_cases(**args)"
   ]
  },
  {
   "cell_type": "markdown",
   "metadata": {},
   "source": [
    "### Copying Cases (very quickly)\n",
    "Copies a set of existing cases."
   ]
  },
  {
   "cell_type": "code",
   "execution_count": null,
   "metadata": {},
   "outputs": [],
   "source": [
    "case_path = Path('/scratch/jpaul4/gsc/')\n",
    "dest_path = Path(\"/scratch/jpaul4/trb_cases/gsc/\")\n",
    "\n",
    "#files to leave alone in the target directory if they already exist in the target directories\n",
    "keep_files =['SAEVFleetModel_optimization.json','scenario_abm.json'] \n",
    "move_cases = True\n",
    "\n",
    "keep_suffixes = ['reg'] #end of folder name to move (if you only want to move some cases)\n",
    "\n",
    "\n",
    "args = {\"new_case_path\":dest_path,\n",
    "        \"case_path\":case_path,\n",
    "        \"move_cases\":move_cases,\n",
    "        \"keep_files\":keep_files,\n",
    "        \"keep_suffixes\":keep_suffixes,\n",
    "        \"parallel\":True} #use parallel processing (faster), not necessary for small number of cases or small models\n",
    "\n",
    "copy_cases(**args)\n"
   ]
  },
  {
   "cell_type": "markdown",
   "metadata": {},
   "source": [
    "### Updating Models\n",
    "Update all the files in each case from a single base folder (like a model base folder). Useful for \"resetting\" models when runs have partially completed and diverged from a base case.\n"
   ]
  },
  {
   "cell_type": "code",
   "execution_count": null,
   "metadata": {},
   "outputs": [],
   "source": [
    "\n",
    "case_path = Path('/scratch/jpaul4/gsc/gsc_27500')\n",
    "dest_path = Path(\"/scratch/jpaul4/trb_cases/gsc/\")\n",
    "new_case_path = dest_path\n",
    "keep_files =['SAEVFleetModel_optimization.json','scenario_abm.json']\n",
    "move_cases = False\n",
    "\n",
    "\n",
    "args = {\"new_case_path\":new_case_path,\n",
    "        \"case_path\":case_path,\n",
    "        \"move_cases\":move_cases,\n",
    "        \"keep_files\":keep_files,\n",
    "        \"parallel\":True}\n",
    "\n",
    "copy_cases(**args)"
   ]
  },
  {
   "cell_type": "markdown",
   "metadata": {},
   "source": [
    "## Updating scenario files universally"
   ]
  },
  {
   "cell_type": "code",
   "execution_count": null,
   "metadata": {},
   "outputs": [],
   "source": [
    "\n",
    "\n",
    "bulk1=BulkUpdateData(possible_scenario_names=[\"SAEVFleetModel_optimization.json\"],value=True,target=['Operator_1','Fleet_DRS','Operator_1_pool_choice_enabled'])\n",
    "bulk2=BulkUpdateData(possible_scenario_names=[\"scenario_abm.json\"],value=\"SAEVFleetModel_optimization.json\",target=[\"ABM Controls\",\"tnc_fleet_model_file\"])\n",
    "\n",
    "updates = [bulk1,bulk2]\n",
    "\n",
    "for update in updates:\n",
    "    bulk_update_scenario_files(update.target,update.value,new_case_path,update.scenario_name)"
   ]
  }
 ],
 "metadata": {
  "kernelspec": {
   "display_name": "Python (Processing)",
   "language": "python",
   "name": "processing"
  },
  "language_info": {
   "codemirror_mode": {
    "name": "ipython",
    "version": 3
   },
   "file_extension": ".py",
   "mimetype": "text/x-python",
   "name": "python",
   "nbconvert_exporter": "python",
   "pygments_lexer": "ipython3",
   "version": "3.10.15"
  }
 },
 "nbformat": 4,
 "nbformat_minor": 2
}
