{
 "cells": [
  {
   "cell_type": "markdown",
   "metadata": {},
   "source": [
    "## Imports"
   ]
  },
  {
   "cell_type": "code",
   "execution_count": 1,
   "metadata": {},
   "outputs": [],
   "source": [
    "from CU_POLARIS_Postprocessor.config import PostProcessingConfig\n",
    "from CU_POLARIS_Postprocessor import prerun, parallel\n",
    "from CU_POLARIS_Postprocessor.power_bi_processing import prep_utils\n",
    "from pathlib import Path\n",
    "\n",
    "\n"
   ]
  },
  {
   "cell_type": "markdown",
   "metadata": {},
   "source": [
    "## Config"
   ]
  },
  {
   "cell_type": "code",
   "execution_count": 23,
   "metadata": {},
   "outputs": [],
   "source": [
    "config_wtp = PostProcessingConfig(\n",
    "    fresh_start = False,\n",
    "    reset_sql = False,\n",
    "    reset_csvs= False,\n",
    "    reset_stops = False,\n",
    "    force_skims = False,\n",
    "    base_dir = Path('CU_POLARIS_Postprocessor/demo_files/'),\n",
    "    scenario_file_names = ['scenario_abm.modified.json','scenario_abm_trajectories.modified.json'],\n",
    "    fleet_model_file_names = ['SAEVFleetModel_optimization.json'],\n",
    "    db_names = ['campo', 'greenville'],\n",
    "    pooling_model_file = ['PoolingModel.json'],\n",
    "    postprocessing_definitions = {\n",
    "            'requests_sum':(\"process_solo_equiv_fare\", {'force_skims': False}),\n",
    "            \"closest_stops\":(\"process_nearest_stops\", {}),\n",
    "            \"tnc_skim_demo\":(\"process_elder_request_agg\", {}),\n",
    "            \"tnc_stat_summary\":(\"process_tnc_stat_summary\",{})\n",
    "        },\n",
    "    desired_outputs = {\n",
    "         'transit_trip_max_load_helper':'sql',\n",
    "            'attach':'sql_helper',         \n",
    "            'transit_trip_max_load':'sql',\n",
    "            'mode_Distribution_ADULT_Counts':'sql',\n",
    "            'mode_Distribution_ADULT_Distance':'sql',\n",
    "            'bus_avo':'sql',\n",
    "            'pr_avo':'sql',\n",
    "            'fare_sensitivity_results':'sql',\n",
    "            'mode_Distribution_ADULT':'sql',\n",
    "            'distance_tnc_dist':'sql',\n",
    "            'fare_sensitivity_results_zonal':'sql',\n",
    "            'fare_sensitivity_demograpic_tnc_stats':'sql',\n",
    "            'fare_sensitivity_results_vo':'sql',\n",
    "            'tnc_results_discount':'sql',\n",
    "            'elder_demo':'sql',\n",
    "            'requests': 'postprocessing_helper',\n",
    "            'requests_sum_helper':'postprocessing_helper',\n",
    "            'requests_sum': 'postprocessing',\n",
    "            'closest_stops':'postprocessing_helper',\n",
    "            'tnc_stat_summary_helper':'postprocessing_helper',\n",
    "            'tnc_stat_summary':'postprocessing',\n",
    "            'tnc_skim_demo':'postprocessing'\n",
    "    },\n",
    "    output_h5=True\n",
    ")"
   ]
  },
  {
   "cell_type": "markdown",
   "metadata": {},
   "source": [
    "## Preprocessing"
   ]
  },
  {
   "cell_type": "code",
   "execution_count": 24,
   "metadata": {},
   "outputs": [
    {
     "data": {
      "text/plain": [
       "True"
      ]
     },
     "execution_count": 24,
     "metadata": {},
     "output_type": "execute_result"
    }
   ],
   "source": [
    "prerun.pre_run_checks(config_wtp)\n"
   ]
  },
  {
   "cell_type": "markdown",
   "metadata": {},
   "source": [
    "### Show output of prerun"
   ]
  },
  {
   "cell_type": "code",
   "execution_count": 25,
   "metadata": {},
   "outputs": [
    {
     "data": {
      "text/html": [
       "<div>\n",
       "<style scoped>\n",
       "    .dataframe tbody tr th:only-of-type {\n",
       "        vertical-align: middle;\n",
       "    }\n",
       "\n",
       "    .dataframe tbody tr th {\n",
       "        vertical-align: top;\n",
       "    }\n",
       "\n",
       "    .dataframe thead th {\n",
       "        text-align: right;\n",
       "    }\n",
       "</style>\n",
       "<table border=\"1\" class=\"dataframe\">\n",
       "  <thead>\n",
       "    <tr style=\"text-align: right;\">\n",
       "      <th></th>\n",
       "      <th>Key</th>\n",
       "      <th>Type</th>\n",
       "      <th>Exists</th>\n",
       "      <th>Location</th>\n",
       "    </tr>\n",
       "  </thead>\n",
       "  <tbody>\n",
       "    <tr>\n",
       "      <th>0</th>\n",
       "      <td>transit_trip_max_load_helper</td>\n",
       "      <td>sql</td>\n",
       "      <td>False</td>\n",
       "      <td>C:\\Users\\jpaul4\\Box\\Research\\Papers\\4_WTP Fact...</td>\n",
       "    </tr>\n",
       "    <tr>\n",
       "      <th>1</th>\n",
       "      <td>transit_trip_max_load</td>\n",
       "      <td>sql</td>\n",
       "      <td>False</td>\n",
       "      <td>C:\\Users\\jpaul4\\Box\\Research\\Papers\\4_WTP Fact...</td>\n",
       "    </tr>\n",
       "    <tr>\n",
       "      <th>2</th>\n",
       "      <td>mode_Distribution_ADULT_Counts</td>\n",
       "      <td>sql</td>\n",
       "      <td>False</td>\n",
       "      <td>C:\\Users\\jpaul4\\Box\\Research\\Papers\\4_WTP Fact...</td>\n",
       "    </tr>\n",
       "    <tr>\n",
       "      <th>3</th>\n",
       "      <td>mode_Distribution_ADULT_Distance</td>\n",
       "      <td>sql</td>\n",
       "      <td>False</td>\n",
       "      <td>C:\\Users\\jpaul4\\Box\\Research\\Papers\\4_WTP Fact...</td>\n",
       "    </tr>\n",
       "    <tr>\n",
       "      <th>4</th>\n",
       "      <td>bus_avo</td>\n",
       "      <td>sql</td>\n",
       "      <td>False</td>\n",
       "      <td>C:\\Users\\jpaul4\\Box\\Research\\Papers\\4_WTP Fact...</td>\n",
       "    </tr>\n",
       "    <tr>\n",
       "      <th>5</th>\n",
       "      <td>pr_avo</td>\n",
       "      <td>sql</td>\n",
       "      <td>False</td>\n",
       "      <td>C:\\Users\\jpaul4\\Box\\Research\\Papers\\4_WTP Fact...</td>\n",
       "    </tr>\n",
       "    <tr>\n",
       "      <th>6</th>\n",
       "      <td>fare_sensitivity_results</td>\n",
       "      <td>sql</td>\n",
       "      <td>False</td>\n",
       "      <td>C:\\Users\\jpaul4\\Box\\Research\\Papers\\4_WTP Fact...</td>\n",
       "    </tr>\n",
       "    <tr>\n",
       "      <th>7</th>\n",
       "      <td>mode_Distribution_ADULT</td>\n",
       "      <td>sql</td>\n",
       "      <td>False</td>\n",
       "      <td>C:\\Users\\jpaul4\\Box\\Research\\Papers\\4_WTP Fact...</td>\n",
       "    </tr>\n",
       "    <tr>\n",
       "      <th>8</th>\n",
       "      <td>distance_tnc_dist</td>\n",
       "      <td>sql</td>\n",
       "      <td>False</td>\n",
       "      <td>C:\\Users\\jpaul4\\Box\\Research\\Papers\\4_WTP Fact...</td>\n",
       "    </tr>\n",
       "    <tr>\n",
       "      <th>9</th>\n",
       "      <td>fare_sensitivity_results_zonal</td>\n",
       "      <td>sql</td>\n",
       "      <td>False</td>\n",
       "      <td>C:\\Users\\jpaul4\\Box\\Research\\Papers\\4_WTP Fact...</td>\n",
       "    </tr>\n",
       "    <tr>\n",
       "      <th>10</th>\n",
       "      <td>fare_sensitivity_demograpic_tnc_stats</td>\n",
       "      <td>sql</td>\n",
       "      <td>False</td>\n",
       "      <td>C:\\Users\\jpaul4\\Box\\Research\\Papers\\4_WTP Fact...</td>\n",
       "    </tr>\n",
       "    <tr>\n",
       "      <th>11</th>\n",
       "      <td>fare_sensitivity_results_vo</td>\n",
       "      <td>sql</td>\n",
       "      <td>False</td>\n",
       "      <td>C:\\Users\\jpaul4\\Box\\Research\\Papers\\4_WTP Fact...</td>\n",
       "    </tr>\n",
       "    <tr>\n",
       "      <th>12</th>\n",
       "      <td>tnc_results_discount</td>\n",
       "      <td>sql</td>\n",
       "      <td>False</td>\n",
       "      <td>C:\\Users\\jpaul4\\Box\\Research\\Papers\\4_WTP Fact...</td>\n",
       "    </tr>\n",
       "    <tr>\n",
       "      <th>13</th>\n",
       "      <td>elder_demo</td>\n",
       "      <td>sql</td>\n",
       "      <td>False</td>\n",
       "      <td>C:\\Users\\jpaul4\\Box\\Research\\Papers\\4_WTP Fact...</td>\n",
       "    </tr>\n",
       "    <tr>\n",
       "      <th>14</th>\n",
       "      <td>requests_sum</td>\n",
       "      <td>postprocessing</td>\n",
       "      <td>False</td>\n",
       "      <td>C:\\Users\\jpaul4\\Box\\Research\\Papers\\4_WTP Fact...</td>\n",
       "    </tr>\n",
       "    <tr>\n",
       "      <th>15</th>\n",
       "      <td>tnc_stat_summary</td>\n",
       "      <td>postprocessing</td>\n",
       "      <td>False</td>\n",
       "      <td>C:\\Users\\jpaul4\\Box\\Research\\Papers\\4_WTP Fact...</td>\n",
       "    </tr>\n",
       "    <tr>\n",
       "      <th>16</th>\n",
       "      <td>tnc_skim_demo</td>\n",
       "      <td>postprocessing</td>\n",
       "      <td>False</td>\n",
       "      <td>C:\\Users\\jpaul4\\Box\\Research\\Papers\\4_WTP Fact...</td>\n",
       "    </tr>\n",
       "  </tbody>\n",
       "</table>\n",
       "</div>"
      ],
      "text/plain": [
       "                                      Key            Type  Exists  \\\n",
       "0            transit_trip_max_load_helper             sql   False   \n",
       "1                   transit_trip_max_load             sql   False   \n",
       "2          mode_Distribution_ADULT_Counts             sql   False   \n",
       "3        mode_Distribution_ADULT_Distance             sql   False   \n",
       "4                                 bus_avo             sql   False   \n",
       "5                                  pr_avo             sql   False   \n",
       "6                fare_sensitivity_results             sql   False   \n",
       "7                 mode_Distribution_ADULT             sql   False   \n",
       "8                       distance_tnc_dist             sql   False   \n",
       "9          fare_sensitivity_results_zonal             sql   False   \n",
       "10  fare_sensitivity_demograpic_tnc_stats             sql   False   \n",
       "11            fare_sensitivity_results_vo             sql   False   \n",
       "12                   tnc_results_discount             sql   False   \n",
       "13                             elder_demo             sql   False   \n",
       "14                           requests_sum  postprocessing   False   \n",
       "15                       tnc_stat_summary  postprocessing   False   \n",
       "16                          tnc_skim_demo  postprocessing   False   \n",
       "\n",
       "                                             Location  \n",
       "0   C:\\Users\\jpaul4\\Box\\Research\\Papers\\4_WTP Fact...  \n",
       "1   C:\\Users\\jpaul4\\Box\\Research\\Papers\\4_WTP Fact...  \n",
       "2   C:\\Users\\jpaul4\\Box\\Research\\Papers\\4_WTP Fact...  \n",
       "3   C:\\Users\\jpaul4\\Box\\Research\\Papers\\4_WTP Fact...  \n",
       "4   C:\\Users\\jpaul4\\Box\\Research\\Papers\\4_WTP Fact...  \n",
       "5   C:\\Users\\jpaul4\\Box\\Research\\Papers\\4_WTP Fact...  \n",
       "6   C:\\Users\\jpaul4\\Box\\Research\\Papers\\4_WTP Fact...  \n",
       "7   C:\\Users\\jpaul4\\Box\\Research\\Papers\\4_WTP Fact...  \n",
       "8   C:\\Users\\jpaul4\\Box\\Research\\Papers\\4_WTP Fact...  \n",
       "9   C:\\Users\\jpaul4\\Box\\Research\\Papers\\4_WTP Fact...  \n",
       "10  C:\\Users\\jpaul4\\Box\\Research\\Papers\\4_WTP Fact...  \n",
       "11  C:\\Users\\jpaul4\\Box\\Research\\Papers\\4_WTP Fact...  \n",
       "12  C:\\Users\\jpaul4\\Box\\Research\\Papers\\4_WTP Fact...  \n",
       "13  C:\\Users\\jpaul4\\Box\\Research\\Papers\\4_WTP Fact...  \n",
       "14  C:\\Users\\jpaul4\\Box\\Research\\Papers\\4_WTP Fact...  \n",
       "15  C:\\Users\\jpaul4\\Box\\Research\\Papers\\4_WTP Fact...  \n",
       "16  C:\\Users\\jpaul4\\Box\\Research\\Papers\\4_WTP Fact...  "
      ]
     },
     "execution_count": 25,
     "metadata": {},
     "output_type": "execute_result"
    }
   ],
   "source": [
    "import pandas as pd\n",
    "csvs = config_wtp.csvs\n",
    "demo = []\n",
    "for key, value in csvs.items():\n",
    "        # Extract the values for each column\n",
    "        type_val = value.get('type', None)\n",
    "        exists_val = value.get('exists', None)\n",
    "        location_val = value.get('path', None)\n",
    "        \n",
    "        # Append the row as a tuple\n",
    "        demo.append((key, type_val, exists_val, location_val))\n",
    "\n",
    "    # Create a DataFrame from the rows\n",
    "df = pd.DataFrame(demo, columns=['Key', 'Type', 'Exists', 'Location'])\n",
    "df"
   ]
  },
  {
   "cell_type": "markdown",
   "metadata": {},
   "source": [
    "## Process"
   ]
  },
  {
   "cell_type": "markdown",
   "metadata": {},
   "source": [
    "This takes about 10 minutes for these output folders from scratch, but it builds on existing incomplete processing or pulls results as needed."
   ]
  },
  {
   "cell_type": "code",
   "execution_count": 26,
   "metadata": {},
   "outputs": [
    {
     "ename": "FileNotFoundError",
     "evalue": "[WinError 3] The system cannot find the path specified: 'C:\\\\Users\\\\jpaul4\\\\Box\\\\Research\\\\Papers\\\\4_WTP Factors Paper\\\\cases_only_critical\\\\gvl_heur\\\\greenville_iteration_7\\\\CU_POLARIS_Postprocessor\\\\demo_files'",
     "output_type": "error",
     "traceback": [
      "\u001b[1;31m---------------------------------------------------------------------------\u001b[0m",
      "\u001b[1;31mFileNotFoundError\u001b[0m                         Traceback (most recent call last)",
      "Cell \u001b[1;32mIn[26], line 1\u001b[0m\n\u001b[1;32m----> 1\u001b[0m parallel\u001b[38;5;241m.\u001b[39mparallel_process_folders(config_wtp)\n",
      "File \u001b[1;32mc:\\polaris\\CU_POLARIS_Postprocessor\\CU_POLARIS_Postprocessor\\parallel.py:18\u001b[0m, in \u001b[0;36mparallel_process_folders\u001b[1;34m(config)\u001b[0m\n\u001b[0;32m     15\u001b[0m \u001b[38;5;28;01mdef\u001b[39;00m \u001b[38;5;21mparallel_process_folders\u001b[39m(config:PostProcessingConfig):\n\u001b[0;32m     16\u001b[0m     \u001b[38;5;66;03m# Get a list of all subfolders in the parent folder\u001b[39;00m\n\u001b[0;32m     17\u001b[0m     parent_folder \u001b[38;5;241m=\u001b[39m config\u001b[38;5;241m.\u001b[39mbase_dir\n\u001b[1;32m---> 18\u001b[0m     folders \u001b[38;5;241m=\u001b[39m [Path(os\u001b[38;5;241m.\u001b[39mpath\u001b[38;5;241m.\u001b[39mjoin(parent_folder, f)) \u001b[38;5;28;01mfor\u001b[39;00m f \u001b[38;5;129;01min\u001b[39;00m os\u001b[38;5;241m.\u001b[39mlistdir(parent_folder) \u001b[38;5;28;01mif\u001b[39;00m os\u001b[38;5;241m.\u001b[39mpath\u001b[38;5;241m.\u001b[39misdir(os\u001b[38;5;241m.\u001b[39mpath\u001b[38;5;241m.\u001b[39mjoin(parent_folder, f))]\n\u001b[0;32m     20\u001b[0m     \u001b[38;5;66;03m# Use ThreadPoolExecutor or ProcessPoolExecutor to process folders in parallel\u001b[39;00m\n\u001b[0;32m     21\u001b[0m     \u001b[38;5;28;01mwith\u001b[39;00m concurrent\u001b[38;5;241m.\u001b[39mfutures\u001b[38;5;241m.\u001b[39mThreadPoolExecutor() \u001b[38;5;28;01mas\u001b[39;00m executor:\n",
      "\u001b[1;31mFileNotFoundError\u001b[0m: [WinError 3] The system cannot find the path specified: 'C:\\\\Users\\\\jpaul4\\\\Box\\\\Research\\\\Papers\\\\4_WTP Factors Paper\\\\cases_only_critical\\\\gvl_heur\\\\greenville_iteration_7\\\\CU_POLARIS_Postprocessor\\\\demo_files'"
     ]
    }
   ],
   "source": [
    "parallel.parallel_process_folders(config_wtp)\n"
   ]
  },
  {
   "cell_type": "markdown",
   "metadata": {},
   "source": [
    "### Show Output of processing"
   ]
  },
  {
   "cell_type": "code",
   "execution_count": 6,
   "metadata": {},
   "outputs": [
    {
     "name": "stdout",
     "output_type": "stream",
     "text": [
      "transit_trip_max_load\n",
      "mode_Distribution_ADULT_Counts\n",
      "mode_Distribution_ADULT_Distance\n",
      "bus_avo\n",
      "pr_avo\n",
      "fare_sensitivity_results\n",
      "mode_Distribution_ADULT\n",
      "distance_tnc_dist\n",
      "fare_sensitivity_results_zonal\n",
      "fare_sensitivity_demograpic_tnc_stats\n",
      "fare_sensitivity_results_vo\n",
      "tnc_results_discount\n",
      "elder_demo\n",
      "requests_sum\n",
      "tnc_stat_summary\n",
      "tnc_skim_demo\n"
     ]
    }
   ],
   "source": [
    "for key, value in config_wtp.results.items():\n",
    "    print(key)"
   ]
  },
  {
   "cell_type": "markdown",
   "metadata": {},
   "source": [
    "### Power BI Post Processing"
   ]
  },
  {
   "cell_type": "code",
   "execution_count": 19,
   "metadata": {},
   "outputs": [
    {
     "name": "stderr",
     "output_type": "stream",
     "text": [
      "c:\\polaris\\CU_POLARIS_Postprocessor\\CU_POLARIS_Postprocessor\\power_bi_processing\\prep_utils.py:78: PerformanceWarning: \n",
      "your performance may suffer as PyTables will pickle object types that it cannot\n",
      "map directly to c-types [inferred_type->mixed,key->block2_values] [items->Index(['mode', 'type', 'folder', 'City', 'Iteration', 'Strategy', 'WTP_Type'], dtype='object')]\n",
      "\n",
      "  store[key] = df\n"
     ]
    },
    {
     "data": {
      "text/plain": [
       "True"
      ]
     },
     "execution_count": 19,
     "metadata": {},
     "output_type": "execute_result"
    }
   ],
   "source": [
    "base_cases = ['atx_du_7','gvl_du_7']\n",
    "prep_utils.process_tnc_ttests(config_wtp,base_cases)\n",
    "prep_utils.process_folder_names(config_wtp)\n",
    "prep_utils.update_h5(config_wtp)"
   ]
  },
  {
   "cell_type": "markdown",
   "metadata": {},
   "source": [
    "### Load in final results"
   ]
  },
  {
   "cell_type": "code",
   "execution_count": 1,
   "metadata": {},
   "outputs": [
    {
     "ename": "NameError",
     "evalue": "name 'pd' is not defined",
     "output_type": "error",
     "traceback": [
      "\u001b[1;31m---------------------------------------------------------------------------\u001b[0m",
      "\u001b[1;31mNameError\u001b[0m                                 Traceback (most recent call last)",
      "Cell \u001b[1;32mIn[1], line 2\u001b[0m\n\u001b[0;32m      1\u001b[0m loaded_df_dict \u001b[38;5;241m=\u001b[39m {}\n\u001b[1;32m----> 2\u001b[0m \u001b[38;5;28;01mwith\u001b[39;00m pd\u001b[38;5;241m.\u001b[39mHDFStore(config_wtp\u001b[38;5;241m.\u001b[39mbase_dir\u001b[38;5;241m.\u001b[39mas_posix() \u001b[38;5;241m+\u001b[39m\u001b[38;5;124m'\u001b[39m\u001b[38;5;124m/\u001b[39m\u001b[38;5;124m'\u001b[39m\u001b[38;5;241m+\u001b[39m\u001b[38;5;124m'\u001b[39m\u001b[38;5;124mresults.h5\u001b[39m\u001b[38;5;124m'\u001b[39m) \u001b[38;5;28;01mas\u001b[39;00m store:\n\u001b[0;32m      3\u001b[0m     \u001b[38;5;28;01mfor\u001b[39;00m key \u001b[38;5;129;01min\u001b[39;00m store\u001b[38;5;241m.\u001b[39mkeys():\n\u001b[0;32m      4\u001b[0m         loaded_df_dict[key] \u001b[38;5;241m=\u001b[39m store[key]\n",
      "\u001b[1;31mNameError\u001b[0m: name 'pd' is not defined"
     ]
    }
   ],
   "source": [
    "import pandas as pd\n",
    "h5_path = config_wtp.base_dir.as_posix+'/results.h5'\n",
    "\n",
    "mode_Distribution_ADULT_Distance=  pd.read_hdf(h5_path,key='mode_Distribution_ADULT_Distance')\n",
    "mode_Distribution_ADULT_Counts=  pd.read_hdf(h5_path,key='mode_Distribution_ADULT_Counts')\n",
    "bus_avo=  pd.read_hdf(h5_path,key='bus_avo')\n",
    "pr_avo=  pd.read_hdf(h5_path,key='pr_avo')\n",
    "fare_sensitivity_results=  pd.read_hdf(h5_path,key='fare_sensitivity_results')\n",
    "mode_Distribution_ADULT=  pd.read_hdf(h5_path,key='mode_Distribution_ADULT')\n",
    "distance_tnc_dist=  pd.read_hdf(h5_path,key='distance_tnc_dist')\n",
    "fare_sensitivity_results_zonal=  pd.read_hdf(h5_path,key='fare_sensitivity_results_zonal')\n",
    "fare_sensitivity_demograpic_tnc_stats=  pd.read_hdf(h5_path,key='fare_sensitivity_demograpic_tnc_stats')\n",
    "fare_sensitivity_results_vo=  pd.read_hdf(h5_path,key='fare_sensitivity_results_vo')\n",
    "tnc_results_discount=  pd.read_hdf(h5_path,key='tnc_results_discount')\n",
    "elder_demo=  pd.read_hdf(h5_path,key='elder_demo')\n",
    "requests_sum=  pd.read_hdf(h5_path,key='requests_sum')\n",
    "tnc_stat_summary=  pd.read_hdf(h5_path,key='tnc_stat_summary')\n",
    "tnc_skim_demo=  pd.read_hdf(h5_path,key='tnc_skim_demo')\n",
    "tnc_ttests=  pd.read_hdf(h5_path,key='tnc_ttests')\n",
    "transit_trip_max_load_helper=  pd.read_hdf(h5_path,key='transit_trip_max_load_helper')"
   ]
  }
 ],
 "metadata": {
  "kernelspec": {
   "display_name": "base",
   "language": "python",
   "name": "python3"
  },
  "language_info": {
   "codemirror_mode": {
    "name": "ipython",
    "version": 3
   },
   "file_extension": ".py",
   "mimetype": "text/x-python",
   "name": "python",
   "nbconvert_exporter": "python",
   "pygments_lexer": "ipython3",
   "version": "3.12.3"
  }
 },
 "nbformat": 4,
 "nbformat_minor": 2
}
