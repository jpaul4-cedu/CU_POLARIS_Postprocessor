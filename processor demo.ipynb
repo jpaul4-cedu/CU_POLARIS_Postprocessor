{
 "cells": [
  {
   "cell_type": "markdown",
   "metadata": {},
   "source": [
    "## Imports"
   ]
  },
  {
   "cell_type": "code",
   "execution_count": 1,
   "metadata": {},
   "outputs": [],
   "source": [
    "from CU_POLARIS_Postprocessor.config import PostProcessingConfig\n",
    "from CU_POLARIS_Postprocessor import prerun, parallel\n",
    "from CU_POLARIS_Postprocessor.power_bi_processing import prep_utils\n",
    "from pathlib import Path\n"
   ]
  },
  {
   "cell_type": "markdown",
   "metadata": {},
   "source": [
    "## Config"
   ]
  },
  {
   "cell_type": "code",
   "execution_count": 2,
   "metadata": {},
   "outputs": [],
   "source": [
    "config_wtp = PostProcessingConfig(\n",
    "    fresh_start = False,\n",
    "    reset_sql = False,\n",
    "    reset_csvs= False,\n",
    "    reset_stops = False,\n",
    "    force_skims = False,\n",
    "    base_dir = Path('CU_POLARIS_Postprocessor/demo_files/'),\n",
    "    scenario_file_names = ['scenario_abm.modified.json','scenario_abm_trajectories.modified.json'],\n",
    "    fleet_model_file_names = ['SAEVFleetModel_optimization.json'],\n",
    "    db_names = ['campo', 'greenville'],\n",
    "    pooling_model_file = ['PoolingModel.json'],\n",
    "    postprocessing_definitions = {\n",
    "            'requests_sum':(\"process_solo_equiv_fare\", {'force_skims': False}),\n",
    "            \"closest_stops\":(\"process_nearest_stops\", {}),\n",
    "            \"tnc_skim_demo\":(\"process_elder_request_agg\", {}),\n",
    "            \"tnc_stat_summary\":(\"process_tnc_stat_summary\",{})\n",
    "        },\n",
    "    desired_outputs = {\n",
    "         'transit_trip_max_load_helper':'sql_helper',\n",
    "            'attach':'sql_helper',         \n",
    "            'transit_trip_max_load':'sql',\n",
    "            'mode_Distribution_ADULT_Counts':'sql',\n",
    "            'mode_Distribution_ADULT_Distance':'sql',\n",
    "            'bus_avo':'sql',\n",
    "            'pr_avo':'sql',\n",
    "            'fare_sensitivity_results':'sql',\n",
    "            'mode_Distribution_ADULT':'sql',\n",
    "            'distance_tnc_dist':'sql',\n",
    "            'fare_sensitivity_results_zonal':'sql',\n",
    "            'fare_sensitivity_demograpic_tnc_stats':'sql',\n",
    "            'fare_sensitivity_results_vo':'sql',\n",
    "            'tnc_results_discount':'sql',\n",
    "            'elder_demo':'sql',\n",
    "            'requests': 'postprocessing_helper',\n",
    "            'requests_sum_helper':'postprocessing_helper',\n",
    "            'requests_sum': 'postprocessing',\n",
    "            'closest_stops':'postprocessing_helper',\n",
    "            'tnc_stat_summary_helper':'postprocessing_helper',\n",
    "            'tnc_stat_summary':'postprocessing',\n",
    "            'tnc_skim_demo':'postprocessing'\n",
    "    },\n",
    "    output_h5=True\n",
    ")"
   ]
  },
  {
   "cell_type": "markdown",
   "metadata": {},
   "source": [
    "## Preprocessing"
   ]
  },
  {
   "cell_type": "code",
   "execution_count": 3,
   "metadata": {},
   "outputs": [
    {
     "data": {
      "text/plain": [
       "True"
      ]
     },
     "execution_count": 3,
     "metadata": {},
     "output_type": "execute_result"
    }
   ],
   "source": [
    "prerun.pre_run_checks(config_wtp)\n"
   ]
  },
  {
   "cell_type": "markdown",
   "metadata": {},
   "source": [
    "### Show output of prerun"
   ]
  },
  {
   "cell_type": "code",
   "execution_count": 4,
   "metadata": {},
   "outputs": [
    {
     "data": {
      "text/html": [
       "<div>\n",
       "<style scoped>\n",
       "    .dataframe tbody tr th:only-of-type {\n",
       "        vertical-align: middle;\n",
       "    }\n",
       "\n",
       "    .dataframe tbody tr th {\n",
       "        vertical-align: top;\n",
       "    }\n",
       "\n",
       "    .dataframe thead th {\n",
       "        text-align: right;\n",
       "    }\n",
       "</style>\n",
       "<table border=\"1\" class=\"dataframe\">\n",
       "  <thead>\n",
       "    <tr style=\"text-align: right;\">\n",
       "      <th></th>\n",
       "      <th>Key</th>\n",
       "      <th>Type</th>\n",
       "      <th>Exists</th>\n",
       "      <th>Location</th>\n",
       "    </tr>\n",
       "  </thead>\n",
       "  <tbody>\n",
       "    <tr>\n",
       "      <th>0</th>\n",
       "      <td>transit_trip_max_load</td>\n",
       "      <td>sql</td>\n",
       "      <td>True</td>\n",
       "      <td>C:\\polaris\\CU_POLARIS_Postprocessor\\CU_POLARIS...</td>\n",
       "    </tr>\n",
       "    <tr>\n",
       "      <th>1</th>\n",
       "      <td>mode_Distribution_ADULT_Counts</td>\n",
       "      <td>sql</td>\n",
       "      <td>True</td>\n",
       "      <td>C:\\polaris\\CU_POLARIS_Postprocessor\\CU_POLARIS...</td>\n",
       "    </tr>\n",
       "    <tr>\n",
       "      <th>2</th>\n",
       "      <td>mode_Distribution_ADULT_Distance</td>\n",
       "      <td>sql</td>\n",
       "      <td>True</td>\n",
       "      <td>C:\\polaris\\CU_POLARIS_Postprocessor\\CU_POLARIS...</td>\n",
       "    </tr>\n",
       "    <tr>\n",
       "      <th>3</th>\n",
       "      <td>bus_avo</td>\n",
       "      <td>sql</td>\n",
       "      <td>True</td>\n",
       "      <td>C:\\polaris\\CU_POLARIS_Postprocessor\\CU_POLARIS...</td>\n",
       "    </tr>\n",
       "    <tr>\n",
       "      <th>4</th>\n",
       "      <td>pr_avo</td>\n",
       "      <td>sql</td>\n",
       "      <td>True</td>\n",
       "      <td>C:\\polaris\\CU_POLARIS_Postprocessor\\CU_POLARIS...</td>\n",
       "    </tr>\n",
       "    <tr>\n",
       "      <th>5</th>\n",
       "      <td>fare_sensitivity_results</td>\n",
       "      <td>sql</td>\n",
       "      <td>True</td>\n",
       "      <td>C:\\polaris\\CU_POLARIS_Postprocessor\\CU_POLARIS...</td>\n",
       "    </tr>\n",
       "    <tr>\n",
       "      <th>6</th>\n",
       "      <td>mode_Distribution_ADULT</td>\n",
       "      <td>sql</td>\n",
       "      <td>True</td>\n",
       "      <td>C:\\polaris\\CU_POLARIS_Postprocessor\\CU_POLARIS...</td>\n",
       "    </tr>\n",
       "    <tr>\n",
       "      <th>7</th>\n",
       "      <td>distance_tnc_dist</td>\n",
       "      <td>sql</td>\n",
       "      <td>True</td>\n",
       "      <td>C:\\polaris\\CU_POLARIS_Postprocessor\\CU_POLARIS...</td>\n",
       "    </tr>\n",
       "    <tr>\n",
       "      <th>8</th>\n",
       "      <td>fare_sensitivity_results_zonal</td>\n",
       "      <td>sql</td>\n",
       "      <td>True</td>\n",
       "      <td>C:\\polaris\\CU_POLARIS_Postprocessor\\CU_POLARIS...</td>\n",
       "    </tr>\n",
       "    <tr>\n",
       "      <th>9</th>\n",
       "      <td>fare_sensitivity_demograpic_tnc_stats</td>\n",
       "      <td>sql</td>\n",
       "      <td>True</td>\n",
       "      <td>C:\\polaris\\CU_POLARIS_Postprocessor\\CU_POLARIS...</td>\n",
       "    </tr>\n",
       "    <tr>\n",
       "      <th>10</th>\n",
       "      <td>fare_sensitivity_results_vo</td>\n",
       "      <td>sql</td>\n",
       "      <td>True</td>\n",
       "      <td>C:\\polaris\\CU_POLARIS_Postprocessor\\CU_POLARIS...</td>\n",
       "    </tr>\n",
       "    <tr>\n",
       "      <th>11</th>\n",
       "      <td>tnc_results_discount</td>\n",
       "      <td>sql</td>\n",
       "      <td>True</td>\n",
       "      <td>C:\\polaris\\CU_POLARIS_Postprocessor\\CU_POLARIS...</td>\n",
       "    </tr>\n",
       "    <tr>\n",
       "      <th>12</th>\n",
       "      <td>elder_demo</td>\n",
       "      <td>sql</td>\n",
       "      <td>True</td>\n",
       "      <td>C:\\polaris\\CU_POLARIS_Postprocessor\\CU_POLARIS...</td>\n",
       "    </tr>\n",
       "    <tr>\n",
       "      <th>13</th>\n",
       "      <td>requests_sum</td>\n",
       "      <td>postprocessing</td>\n",
       "      <td>True</td>\n",
       "      <td>C:\\polaris\\CU_POLARIS_Postprocessor\\CU_POLARIS...</td>\n",
       "    </tr>\n",
       "    <tr>\n",
       "      <th>14</th>\n",
       "      <td>tnc_stat_summary</td>\n",
       "      <td>postprocessing</td>\n",
       "      <td>True</td>\n",
       "      <td>C:\\polaris\\CU_POLARIS_Postprocessor\\CU_POLARIS...</td>\n",
       "    </tr>\n",
       "    <tr>\n",
       "      <th>15</th>\n",
       "      <td>tnc_skim_demo</td>\n",
       "      <td>postprocessing</td>\n",
       "      <td>True</td>\n",
       "      <td>C:\\polaris\\CU_POLARIS_Postprocessor\\CU_POLARIS...</td>\n",
       "    </tr>\n",
       "    <tr>\n",
       "      <th>16</th>\n",
       "      <td>requests_gvl_d</td>\n",
       "      <td>postprocessing_helper</td>\n",
       "      <td>True</td>\n",
       "      <td>C:\\polaris\\CU_POLARIS_Postprocessor\\CU_POLARIS...</td>\n",
       "    </tr>\n",
       "    <tr>\n",
       "      <th>17</th>\n",
       "      <td>requests_gvl_du</td>\n",
       "      <td>postprocessing_helper</td>\n",
       "      <td>True</td>\n",
       "      <td>C:\\polaris\\CU_POLARIS_Postprocessor\\CU_POLARIS...</td>\n",
       "    </tr>\n",
       "    <tr>\n",
       "      <th>18</th>\n",
       "      <td>requests_sum_helper_gvl_d</td>\n",
       "      <td>postprocessing_helper</td>\n",
       "      <td>True</td>\n",
       "      <td>C:\\polaris\\CU_POLARIS_Postprocessor\\CU_POLARIS...</td>\n",
       "    </tr>\n",
       "    <tr>\n",
       "      <th>19</th>\n",
       "      <td>requests_sum_helper_gvl_du</td>\n",
       "      <td>postprocessing_helper</td>\n",
       "      <td>True</td>\n",
       "      <td>C:\\polaris\\CU_POLARIS_Postprocessor\\CU_POLARIS...</td>\n",
       "    </tr>\n",
       "    <tr>\n",
       "      <th>20</th>\n",
       "      <td>closest_stops_gvl_d</td>\n",
       "      <td>postprocessing_helper</td>\n",
       "      <td>False</td>\n",
       "      <td>C:\\polaris\\CU_POLARIS_Postprocessor\\CU_POLARIS...</td>\n",
       "    </tr>\n",
       "    <tr>\n",
       "      <th>21</th>\n",
       "      <td>closest_stops_gvl_du</td>\n",
       "      <td>postprocessing_helper</td>\n",
       "      <td>False</td>\n",
       "      <td>C:\\polaris\\CU_POLARIS_Postprocessor\\CU_POLARIS...</td>\n",
       "    </tr>\n",
       "    <tr>\n",
       "      <th>22</th>\n",
       "      <td>tnc_stat_summary_helper_gvl_d</td>\n",
       "      <td>postprocessing_helper</td>\n",
       "      <td>True</td>\n",
       "      <td>C:\\polaris\\CU_POLARIS_Postprocessor\\CU_POLARIS...</td>\n",
       "    </tr>\n",
       "    <tr>\n",
       "      <th>23</th>\n",
       "      <td>tnc_stat_summary_helper_gvl_du</td>\n",
       "      <td>postprocessing_helper</td>\n",
       "      <td>True</td>\n",
       "      <td>C:\\polaris\\CU_POLARIS_Postprocessor\\CU_POLARIS...</td>\n",
       "    </tr>\n",
       "  </tbody>\n",
       "</table>\n",
       "</div>"
      ],
      "text/plain": [
       "                                      Key                   Type  Exists  \\\n",
       "0                   transit_trip_max_load                    sql    True   \n",
       "1          mode_Distribution_ADULT_Counts                    sql    True   \n",
       "2        mode_Distribution_ADULT_Distance                    sql    True   \n",
       "3                                 bus_avo                    sql    True   \n",
       "4                                  pr_avo                    sql    True   \n",
       "5                fare_sensitivity_results                    sql    True   \n",
       "6                 mode_Distribution_ADULT                    sql    True   \n",
       "7                       distance_tnc_dist                    sql    True   \n",
       "8          fare_sensitivity_results_zonal                    sql    True   \n",
       "9   fare_sensitivity_demograpic_tnc_stats                    sql    True   \n",
       "10            fare_sensitivity_results_vo                    sql    True   \n",
       "11                   tnc_results_discount                    sql    True   \n",
       "12                             elder_demo                    sql    True   \n",
       "13                           requests_sum         postprocessing    True   \n",
       "14                       tnc_stat_summary         postprocessing    True   \n",
       "15                          tnc_skim_demo         postprocessing    True   \n",
       "16                         requests_gvl_d  postprocessing_helper    True   \n",
       "17                        requests_gvl_du  postprocessing_helper    True   \n",
       "18              requests_sum_helper_gvl_d  postprocessing_helper    True   \n",
       "19             requests_sum_helper_gvl_du  postprocessing_helper    True   \n",
       "20                    closest_stops_gvl_d  postprocessing_helper   False   \n",
       "21                   closest_stops_gvl_du  postprocessing_helper   False   \n",
       "22          tnc_stat_summary_helper_gvl_d  postprocessing_helper    True   \n",
       "23         tnc_stat_summary_helper_gvl_du  postprocessing_helper    True   \n",
       "\n",
       "                                             Location  \n",
       "0   C:\\polaris\\CU_POLARIS_Postprocessor\\CU_POLARIS...  \n",
       "1   C:\\polaris\\CU_POLARIS_Postprocessor\\CU_POLARIS...  \n",
       "2   C:\\polaris\\CU_POLARIS_Postprocessor\\CU_POLARIS...  \n",
       "3   C:\\polaris\\CU_POLARIS_Postprocessor\\CU_POLARIS...  \n",
       "4   C:\\polaris\\CU_POLARIS_Postprocessor\\CU_POLARIS...  \n",
       "5   C:\\polaris\\CU_POLARIS_Postprocessor\\CU_POLARIS...  \n",
       "6   C:\\polaris\\CU_POLARIS_Postprocessor\\CU_POLARIS...  \n",
       "7   C:\\polaris\\CU_POLARIS_Postprocessor\\CU_POLARIS...  \n",
       "8   C:\\polaris\\CU_POLARIS_Postprocessor\\CU_POLARIS...  \n",
       "9   C:\\polaris\\CU_POLARIS_Postprocessor\\CU_POLARIS...  \n",
       "10  C:\\polaris\\CU_POLARIS_Postprocessor\\CU_POLARIS...  \n",
       "11  C:\\polaris\\CU_POLARIS_Postprocessor\\CU_POLARIS...  \n",
       "12  C:\\polaris\\CU_POLARIS_Postprocessor\\CU_POLARIS...  \n",
       "13  C:\\polaris\\CU_POLARIS_Postprocessor\\CU_POLARIS...  \n",
       "14  C:\\polaris\\CU_POLARIS_Postprocessor\\CU_POLARIS...  \n",
       "15  C:\\polaris\\CU_POLARIS_Postprocessor\\CU_POLARIS...  \n",
       "16  C:\\polaris\\CU_POLARIS_Postprocessor\\CU_POLARIS...  \n",
       "17  C:\\polaris\\CU_POLARIS_Postprocessor\\CU_POLARIS...  \n",
       "18  C:\\polaris\\CU_POLARIS_Postprocessor\\CU_POLARIS...  \n",
       "19  C:\\polaris\\CU_POLARIS_Postprocessor\\CU_POLARIS...  \n",
       "20  C:\\polaris\\CU_POLARIS_Postprocessor\\CU_POLARIS...  \n",
       "21  C:\\polaris\\CU_POLARIS_Postprocessor\\CU_POLARIS...  \n",
       "22  C:\\polaris\\CU_POLARIS_Postprocessor\\CU_POLARIS...  \n",
       "23  C:\\polaris\\CU_POLARIS_Postprocessor\\CU_POLARIS...  "
      ]
     },
     "execution_count": 4,
     "metadata": {},
     "output_type": "execute_result"
    }
   ],
   "source": [
    "import pandas as pd\n",
    "csvs = config_wtp.csvs\n",
    "demo = []\n",
    "for key, value in csvs.items():\n",
    "        # Extract the values for each column\n",
    "        type_val = value.get('type', None)\n",
    "        exists_val = value.get('exists', None)\n",
    "        location_val = value.get('path', None)\n",
    "        \n",
    "        # Append the row as a tuple\n",
    "        demo.append((key, type_val, exists_val, location_val))\n",
    "\n",
    "    # Create a DataFrame from the rows\n",
    "df = pd.DataFrame(demo, columns=['Key', 'Type', 'Exists', 'Location'])\n",
    "df"
   ]
  },
  {
   "cell_type": "markdown",
   "metadata": {},
   "source": [
    "## Process"
   ]
  },
  {
   "cell_type": "markdown",
   "metadata": {},
   "source": [
    "This takes about 10 minutes for these output folders from scratch, but it builds on existing incomplete processing or pulls results as needed."
   ]
  },
  {
   "cell_type": "code",
   "execution_count": 5,
   "metadata": {},
   "outputs": [
    {
     "name": "stdout",
     "output_type": "stream",
     "text": [
      "starting on directory C:\\polaris\\CU_POLARIS_Postprocessor\\CU_POLARIS_Postprocessor\\demo_files\\gvl_d\n",
      "starting on directory C:\\polaris\\CU_POLARIS_Postprocessor\\CU_POLARIS_Postprocessor\\demo_files\\gvl_du\n",
      "Done: gvl_du\n",
      "Done: gvl_d\n"
     ]
    },
    {
     "data": {
      "text/plain": [
       "True"
      ]
     },
     "execution_count": 5,
     "metadata": {},
     "output_type": "execute_result"
    }
   ],
   "source": [
    "parallel.parallel_process_folders(config_wtp)\n"
   ]
  },
  {
   "cell_type": "markdown",
   "metadata": {},
   "source": [
    "### Show Output of processing"
   ]
  },
  {
   "cell_type": "code",
   "execution_count": 6,
   "metadata": {},
   "outputs": [
    {
     "name": "stdout",
     "output_type": "stream",
     "text": [
      "transit_trip_max_load\n",
      "mode_Distribution_ADULT_Counts\n",
      "mode_Distribution_ADULT_Distance\n",
      "bus_avo\n",
      "pr_avo\n",
      "fare_sensitivity_results\n",
      "mode_Distribution_ADULT\n",
      "distance_tnc_dist\n",
      "fare_sensitivity_results_zonal\n",
      "fare_sensitivity_demograpic_tnc_stats\n",
      "fare_sensitivity_results_vo\n",
      "tnc_results_discount\n",
      "elder_demo\n",
      "requests_sum\n",
      "tnc_stat_summary\n",
      "tnc_skim_demo\n"
     ]
    }
   ],
   "source": [
    "for key, value in config_wtp.results.items():\n",
    "    print(key)"
   ]
  },
  {
   "cell_type": "markdown",
   "metadata": {},
   "source": [
    "### Power BI Post Processing"
   ]
  },
  {
   "cell_type": "code",
   "execution_count": 7,
   "metadata": {},
   "outputs": [
    {
     "data": {
      "text/plain": [
       "True"
      ]
     },
     "execution_count": 7,
     "metadata": {},
     "output_type": "execute_result"
    }
   ],
   "source": [
    "base_cases = ['atx_du_7','gvl_du_7']\n",
    "prep_utils.process_tnc_ttests(config_wtp,base_cases)\n",
    "prep_utils.process_folder_names(config_wtp)\n",
    "prep_utils.update_h5(config_wtp)"
   ]
  },
  {
   "cell_type": "markdown",
   "metadata": {},
   "source": [
    "### Load in final results"
   ]
  },
  {
   "cell_type": "code",
   "execution_count": 8,
   "metadata": {},
   "outputs": [],
   "source": [
    "loaded_df_dict = {}\n",
    "with pd.HDFStore(config_wtp.base_dir.as_posix() +'/'+'results.h5') as store:\n",
    "    for key in store.keys():\n",
    "        loaded_df_dict[key] = store[key]\n",
    "for key, value in loaded_df_dict.items():\n",
    "    locals()[key]=pd.DataFrame()\n",
    "    locals()[key]=value"
   ]
  }
 ],
 "metadata": {
  "kernelspec": {
   "display_name": "base",
   "language": "python",
   "name": "python3"
  },
  "language_info": {
   "codemirror_mode": {
    "name": "ipython",
    "version": 3
   },
   "file_extension": ".py",
   "mimetype": "text/x-python",
   "name": "python",
   "nbconvert_exporter": "python",
   "pygments_lexer": "ipython3",
   "version": "3.12.3"
  }
 },
 "nbformat": 4,
 "nbformat_minor": 2
}
