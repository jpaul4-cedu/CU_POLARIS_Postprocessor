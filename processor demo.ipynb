{
 "cells": [
  {
   "cell_type": "markdown",
   "metadata": {},
   "source": [
    "# Processing"
   ]
  },
  {
   "cell_type": "markdown",
   "metadata": {},
   "source": [
    "## Imports"
   ]
  },
  {
   "cell_type": "code",
   "execution_count": 8,
   "metadata": {},
   "outputs": [
    {
     "name": "stdout",
     "output_type": "stream",
     "text": [
      "Requirement already satisfied: scipy in c:\\users\\jep\\appdata\\local\\anaconda3\\lib\\site-packages (1.13.1)\n",
      "Requirement already satisfied: numpy<2.3,>=1.22.4 in c:\\users\\jep\\appdata\\local\\anaconda3\\lib\\site-packages (from scipy) (1.26.4)\n",
      "Note: you may need to restart the kernel to use updated packages.\n"
     ]
    },
    {
     "name": "stderr",
     "output_type": "stream",
     "text": [
      "\n",
      "[notice] A new release of pip is available: 25.0.1 -> 25.1.1\n",
      "[notice] To update, run: python.exe -m pip install --upgrade pip\n"
     ]
    },
    {
     "data": {
      "text/plain": [
       "<module 'CU_POLARIS_Postprocessor.parallel' from 'c:\\\\polaris\\\\CU_POLARIS_Postprocessor\\\\CU_POLARIS_Postprocessor\\\\parallel.py'>"
      ]
     },
     "execution_count": 8,
     "metadata": {},
     "output_type": "execute_result"
    }
   ],
   "source": [
    "%pip install scipy\n",
    "import importlib as IL\n",
    "import CU_POLARIS_Postprocessor\n",
    "from CU_POLARIS_Postprocessor.config import PostProcessingConfig\n",
    "from CU_POLARIS_Postprocessor import prerun, parallel\n",
    "import CU_POLARIS_Postprocessor.parallel\n",
    "import CU_POLARIS_Postprocessor.postprocessing\n",
    "from CU_POLARIS_Postprocessor.power_bi_processing import prep_utils\n",
    "from pathlib import Path\n",
    "import importlib as IL\n",
    "import CU_POLARIS_Postprocessor\n",
    "import CU_POLARIS_Postprocessor.power_bi_processing\n",
    "import CU_POLARIS_Postprocessor.power_bi_processing.prep_utils\n",
    "import CU_POLARIS_Postprocessor.power_bi_processing.charting as pbi_charting\n",
    "IL.reload(CU_POLARIS_Postprocessor.power_bi_processing.prep_utils)\n",
    "IL.reload(CU_POLARIS_Postprocessor.postprocessing)\n",
    "IL.reload(CU_POLARIS_Postprocessor.parallel)\n",
    "\n",
    "\n"
   ]
  },
  {
   "cell_type": "markdown",
   "metadata": {},
   "source": [
    "## Config"
   ]
  },
  {
   "cell_type": "code",
   "execution_count": 4,
   "metadata": {},
   "outputs": [],
   "source": [
    "config_wtp=PostProcessingConfig(base_dir=Path(\"C:\\\\polaris\\\\data\\\\tests_local\\\\initial_tests\"),\n",
    "                                output_h5=True,\n",
    "                                fresh_start=False,\n",
    "                                reset_csvs=True,\n",
    "                                reset_sql=True,\n",
    "                                reset_stops=False, \n",
    "                                db_names=['greenville'],\n",
    "                                scenario_file_names=['scenario_abm_jar.json','scenario_abm_default_repo.json','scenario_abm_no_repo.json'],\n",
    "                                fleet_model_file_names=['config\\\\TNCFleetModel_joint_proactive_repo.json','config\\\\TNCFleetModel_proactive_default_repo.json','config\\\\TNCFleetModel_proactive_no_repo.json'],)"
   ]
  },
  {
   "cell_type": "markdown",
   "metadata": {},
   "source": [
    "## Preprocessing"
   ]
  },
  {
   "cell_type": "code",
   "execution_count": 9,
   "metadata": {},
   "outputs": [
    {
     "data": {
      "text/plain": [
       "True"
      ]
     },
     "execution_count": 9,
     "metadata": {},
     "output_type": "execute_result"
    }
   ],
   "source": [
    "prerun.pre_run_checks(config_wtp)\n"
   ]
  },
  {
   "cell_type": "markdown",
   "metadata": {},
   "source": [
    "### Show output of prerun"
   ]
  },
  {
   "cell_type": "code",
   "execution_count": 10,
   "metadata": {},
   "outputs": [
    {
     "data": {
      "application/vnd.microsoft.datawrangler.viewer.v0+json": {
       "columns": [
        {
         "name": "index",
         "rawType": "int64",
         "type": "integer"
        },
        {
         "name": "Key",
         "rawType": "object",
         "type": "string"
        },
        {
         "name": "Type",
         "rawType": "object",
         "type": "string"
        },
        {
         "name": "Exists",
         "rawType": "bool",
         "type": "boolean"
        },
        {
         "name": "Location",
         "rawType": "object",
         "type": "unknown"
        }
       ],
       "ref": "9b7e4a7d-b6d6-463d-a532-574778abb66f",
       "rows": [
        [
         "0",
         "transit_trip_max_load_helper",
         "sql",
         "False",
         "C:\\polaris\\data\\tests_local\\initial_tests\\transit_trip_max_load_helper.csv"
        ],
        [
         "1",
         "transit_trip_max_load",
         "sql",
         "False",
         "C:\\polaris\\data\\tests_local\\initial_tests\\transit_trip_max_load.csv"
        ],
        [
         "2",
         "mode_Distribution_ADULT_Counts",
         "sql",
         "False",
         "C:\\polaris\\data\\tests_local\\initial_tests\\mode_Distribution_ADULT_Counts.csv"
        ],
        [
         "3",
         "mode_Distribution_ADULT_Distance",
         "sql",
         "False",
         "C:\\polaris\\data\\tests_local\\initial_tests\\mode_Distribution_ADULT_Distance.csv"
        ],
        [
         "4",
         "bus_avo",
         "sql",
         "False",
         "C:\\polaris\\data\\tests_local\\initial_tests\\bus_avo.csv"
        ],
        [
         "5",
         "pr_avo",
         "sql",
         "False",
         "C:\\polaris\\data\\tests_local\\initial_tests\\pr_avo.csv"
        ],
        [
         "6",
         "fare_sensitivity_results",
         "sql",
         "False",
         "C:\\polaris\\data\\tests_local\\initial_tests\\fare_sensitivity_results.csv"
        ],
        [
         "7",
         "mode_Distribution_ADULT",
         "sql",
         "False",
         "C:\\polaris\\data\\tests_local\\initial_tests\\mode_Distribution_ADULT.csv"
        ],
        [
         "8",
         "distance_tnc_dist",
         "sql",
         "False",
         "C:\\polaris\\data\\tests_local\\initial_tests\\distance_tnc_dist.csv"
        ],
        [
         "9",
         "fare_sensitivity_results_zonal",
         "sql",
         "False",
         "C:\\polaris\\data\\tests_local\\initial_tests\\fare_sensitivity_results_zonal.csv"
        ],
        [
         "10",
         "fare_sensitivity_demograpic_tnc_stats",
         "sql",
         "False",
         "C:\\polaris\\data\\tests_local\\initial_tests\\fare_sensitivity_demograpic_tnc_stats.csv"
        ],
        [
         "11",
         "fare_sensitivity_results_vo",
         "sql",
         "False",
         "C:\\polaris\\data\\tests_local\\initial_tests\\fare_sensitivity_results_vo.csv"
        ],
        [
         "12",
         "tnc_results_discount",
         "sql",
         "False",
         "C:\\polaris\\data\\tests_local\\initial_tests\\tnc_results_discount.csv"
        ],
        [
         "13",
         "elder_demo",
         "sql",
         "False",
         "C:\\polaris\\data\\tests_local\\initial_tests\\elder_demo.csv"
        ],
        [
         "14",
         "activity_times",
         "sql",
         "False",
         "C:\\polaris\\data\\tests_local\\initial_tests\\activity_times.csv"
        ],
        [
         "15",
         "requests_sum",
         "postprocessing",
         "False",
         "C:\\polaris\\data\\tests_local\\initial_tests\\requests_sum.csv"
        ],
        [
         "16",
         "closest_stops",
         "postprocessing",
         "False",
         "C:\\polaris\\data\\tests_local\\initial_tests\\closest_stops.csv"
        ],
        [
         "17",
         "tnc_stat_summary",
         "postprocessing",
         "False",
         "C:\\polaris\\data\\tests_local\\initial_tests\\tnc_stat_summary.csv"
        ],
        [
         "18",
         "tnc_skim_demo",
         "postprocessing",
         "False",
         "C:\\polaris\\data\\tests_local\\initial_tests\\tnc_skim_demo.csv"
        ],
        [
         "19",
         "demo_financial_case_data",
         "postprocessing",
         "False",
         "C:\\polaris\\data\\tests_local\\initial_tests\\demo_financial_case_data.csv"
        ],
        [
         "20",
         "requests_gsc_300_dr",
         "postprocessing_helper",
         "False",
         "C:\\polaris\\data\\tests_local\\initial_tests\\gsc_300_dr\\greenville_iteration_0\\requests.csv"
        ],
        [
         "21",
         "requests_gsc_300_jar",
         "postprocessing_helper",
         "False",
         "C:\\polaris\\data\\tests_local\\initial_tests\\gsc_300_jar\\greenville_iteration_0\\requests.csv"
        ],
        [
         "22",
         "requests_gsc_300_nr",
         "postprocessing_helper",
         "False",
         "C:\\polaris\\data\\tests_local\\initial_tests\\gsc_300_nr\\greenville_iteration_0\\requests.csv"
        ],
        [
         "23",
         "requests_sum_helper_gsc_300_dr",
         "postprocessing_helper",
         "False",
         "C:\\polaris\\data\\tests_local\\initial_tests\\gsc_300_dr\\greenville_iteration_0\\requests_sum_helper.csv"
        ],
        [
         "24",
         "requests_sum_helper_gsc_300_jar",
         "postprocessing_helper",
         "False",
         "C:\\polaris\\data\\tests_local\\initial_tests\\gsc_300_jar\\greenville_iteration_0\\requests_sum_helper.csv"
        ],
        [
         "25",
         "requests_sum_helper_gsc_300_nr",
         "postprocessing_helper",
         "False",
         "C:\\polaris\\data\\tests_local\\initial_tests\\gsc_300_nr\\greenville_iteration_0\\requests_sum_helper.csv"
        ],
        [
         "26",
         "closest_stops_helper_gsc_300_dr",
         "postprocessing_helper",
         "False",
         "C:\\polaris\\data\\tests_local\\initial_tests\\gsc_300_dr\\greenville_iteration_0\\closest_stops_helper.csv"
        ],
        [
         "27",
         "closest_stops_helper_gsc_300_jar",
         "postprocessing_helper",
         "False",
         "C:\\polaris\\data\\tests_local\\initial_tests\\gsc_300_jar\\greenville_iteration_0\\closest_stops_helper.csv"
        ],
        [
         "28",
         "closest_stops_helper_gsc_300_nr",
         "postprocessing_helper",
         "False",
         "C:\\polaris\\data\\tests_local\\initial_tests\\gsc_300_nr\\greenville_iteration_0\\closest_stops_helper.csv"
        ]
       ],
       "shape": {
        "columns": 4,
        "rows": 29
       }
      },
      "text/html": [
       "<div>\n",
       "<style scoped>\n",
       "    .dataframe tbody tr th:only-of-type {\n",
       "        vertical-align: middle;\n",
       "    }\n",
       "\n",
       "    .dataframe tbody tr th {\n",
       "        vertical-align: top;\n",
       "    }\n",
       "\n",
       "    .dataframe thead th {\n",
       "        text-align: right;\n",
       "    }\n",
       "</style>\n",
       "<table border=\"1\" class=\"dataframe\">\n",
       "  <thead>\n",
       "    <tr style=\"text-align: right;\">\n",
       "      <th></th>\n",
       "      <th>Key</th>\n",
       "      <th>Type</th>\n",
       "      <th>Exists</th>\n",
       "      <th>Location</th>\n",
       "    </tr>\n",
       "  </thead>\n",
       "  <tbody>\n",
       "    <tr>\n",
       "      <th>0</th>\n",
       "      <td>transit_trip_max_load_helper</td>\n",
       "      <td>sql</td>\n",
       "      <td>False</td>\n",
       "      <td>C:\\polaris\\data\\tests_local\\initial_tests\\tran...</td>\n",
       "    </tr>\n",
       "    <tr>\n",
       "      <th>1</th>\n",
       "      <td>transit_trip_max_load</td>\n",
       "      <td>sql</td>\n",
       "      <td>False</td>\n",
       "      <td>C:\\polaris\\data\\tests_local\\initial_tests\\tran...</td>\n",
       "    </tr>\n",
       "    <tr>\n",
       "      <th>2</th>\n",
       "      <td>mode_Distribution_ADULT_Counts</td>\n",
       "      <td>sql</td>\n",
       "      <td>False</td>\n",
       "      <td>C:\\polaris\\data\\tests_local\\initial_tests\\mode...</td>\n",
       "    </tr>\n",
       "    <tr>\n",
       "      <th>3</th>\n",
       "      <td>mode_Distribution_ADULT_Distance</td>\n",
       "      <td>sql</td>\n",
       "      <td>False</td>\n",
       "      <td>C:\\polaris\\data\\tests_local\\initial_tests\\mode...</td>\n",
       "    </tr>\n",
       "    <tr>\n",
       "      <th>4</th>\n",
       "      <td>bus_avo</td>\n",
       "      <td>sql</td>\n",
       "      <td>False</td>\n",
       "      <td>C:\\polaris\\data\\tests_local\\initial_tests\\bus_...</td>\n",
       "    </tr>\n",
       "    <tr>\n",
       "      <th>5</th>\n",
       "      <td>pr_avo</td>\n",
       "      <td>sql</td>\n",
       "      <td>False</td>\n",
       "      <td>C:\\polaris\\data\\tests_local\\initial_tests\\pr_a...</td>\n",
       "    </tr>\n",
       "    <tr>\n",
       "      <th>6</th>\n",
       "      <td>fare_sensitivity_results</td>\n",
       "      <td>sql</td>\n",
       "      <td>False</td>\n",
       "      <td>C:\\polaris\\data\\tests_local\\initial_tests\\fare...</td>\n",
       "    </tr>\n",
       "    <tr>\n",
       "      <th>7</th>\n",
       "      <td>mode_Distribution_ADULT</td>\n",
       "      <td>sql</td>\n",
       "      <td>False</td>\n",
       "      <td>C:\\polaris\\data\\tests_local\\initial_tests\\mode...</td>\n",
       "    </tr>\n",
       "    <tr>\n",
       "      <th>8</th>\n",
       "      <td>distance_tnc_dist</td>\n",
       "      <td>sql</td>\n",
       "      <td>False</td>\n",
       "      <td>C:\\polaris\\data\\tests_local\\initial_tests\\dist...</td>\n",
       "    </tr>\n",
       "    <tr>\n",
       "      <th>9</th>\n",
       "      <td>fare_sensitivity_results_zonal</td>\n",
       "      <td>sql</td>\n",
       "      <td>False</td>\n",
       "      <td>C:\\polaris\\data\\tests_local\\initial_tests\\fare...</td>\n",
       "    </tr>\n",
       "    <tr>\n",
       "      <th>10</th>\n",
       "      <td>fare_sensitivity_demograpic_tnc_stats</td>\n",
       "      <td>sql</td>\n",
       "      <td>False</td>\n",
       "      <td>C:\\polaris\\data\\tests_local\\initial_tests\\fare...</td>\n",
       "    </tr>\n",
       "    <tr>\n",
       "      <th>11</th>\n",
       "      <td>fare_sensitivity_results_vo</td>\n",
       "      <td>sql</td>\n",
       "      <td>False</td>\n",
       "      <td>C:\\polaris\\data\\tests_local\\initial_tests\\fare...</td>\n",
       "    </tr>\n",
       "    <tr>\n",
       "      <th>12</th>\n",
       "      <td>tnc_results_discount</td>\n",
       "      <td>sql</td>\n",
       "      <td>False</td>\n",
       "      <td>C:\\polaris\\data\\tests_local\\initial_tests\\tnc_...</td>\n",
       "    </tr>\n",
       "    <tr>\n",
       "      <th>13</th>\n",
       "      <td>elder_demo</td>\n",
       "      <td>sql</td>\n",
       "      <td>False</td>\n",
       "      <td>C:\\polaris\\data\\tests_local\\initial_tests\\elde...</td>\n",
       "    </tr>\n",
       "    <tr>\n",
       "      <th>14</th>\n",
       "      <td>activity_times</td>\n",
       "      <td>sql</td>\n",
       "      <td>False</td>\n",
       "      <td>C:\\polaris\\data\\tests_local\\initial_tests\\acti...</td>\n",
       "    </tr>\n",
       "    <tr>\n",
       "      <th>15</th>\n",
       "      <td>requests_sum</td>\n",
       "      <td>postprocessing</td>\n",
       "      <td>False</td>\n",
       "      <td>C:\\polaris\\data\\tests_local\\initial_tests\\requ...</td>\n",
       "    </tr>\n",
       "    <tr>\n",
       "      <th>16</th>\n",
       "      <td>closest_stops</td>\n",
       "      <td>postprocessing</td>\n",
       "      <td>False</td>\n",
       "      <td>C:\\polaris\\data\\tests_local\\initial_tests\\clos...</td>\n",
       "    </tr>\n",
       "    <tr>\n",
       "      <th>17</th>\n",
       "      <td>tnc_stat_summary</td>\n",
       "      <td>postprocessing</td>\n",
       "      <td>False</td>\n",
       "      <td>C:\\polaris\\data\\tests_local\\initial_tests\\tnc_...</td>\n",
       "    </tr>\n",
       "    <tr>\n",
       "      <th>18</th>\n",
       "      <td>tnc_skim_demo</td>\n",
       "      <td>postprocessing</td>\n",
       "      <td>False</td>\n",
       "      <td>C:\\polaris\\data\\tests_local\\initial_tests\\tnc_...</td>\n",
       "    </tr>\n",
       "    <tr>\n",
       "      <th>19</th>\n",
       "      <td>demo_financial_case_data</td>\n",
       "      <td>postprocessing</td>\n",
       "      <td>False</td>\n",
       "      <td>C:\\polaris\\data\\tests_local\\initial_tests\\demo...</td>\n",
       "    </tr>\n",
       "    <tr>\n",
       "      <th>20</th>\n",
       "      <td>requests_gsc_300_dr</td>\n",
       "      <td>postprocessing_helper</td>\n",
       "      <td>False</td>\n",
       "      <td>C:\\polaris\\data\\tests_local\\initial_tests\\gsc_...</td>\n",
       "    </tr>\n",
       "    <tr>\n",
       "      <th>21</th>\n",
       "      <td>requests_gsc_300_jar</td>\n",
       "      <td>postprocessing_helper</td>\n",
       "      <td>False</td>\n",
       "      <td>C:\\polaris\\data\\tests_local\\initial_tests\\gsc_...</td>\n",
       "    </tr>\n",
       "    <tr>\n",
       "      <th>22</th>\n",
       "      <td>requests_gsc_300_nr</td>\n",
       "      <td>postprocessing_helper</td>\n",
       "      <td>False</td>\n",
       "      <td>C:\\polaris\\data\\tests_local\\initial_tests\\gsc_...</td>\n",
       "    </tr>\n",
       "    <tr>\n",
       "      <th>23</th>\n",
       "      <td>requests_sum_helper_gsc_300_dr</td>\n",
       "      <td>postprocessing_helper</td>\n",
       "      <td>False</td>\n",
       "      <td>C:\\polaris\\data\\tests_local\\initial_tests\\gsc_...</td>\n",
       "    </tr>\n",
       "    <tr>\n",
       "      <th>24</th>\n",
       "      <td>requests_sum_helper_gsc_300_jar</td>\n",
       "      <td>postprocessing_helper</td>\n",
       "      <td>False</td>\n",
       "      <td>C:\\polaris\\data\\tests_local\\initial_tests\\gsc_...</td>\n",
       "    </tr>\n",
       "    <tr>\n",
       "      <th>25</th>\n",
       "      <td>requests_sum_helper_gsc_300_nr</td>\n",
       "      <td>postprocessing_helper</td>\n",
       "      <td>False</td>\n",
       "      <td>C:\\polaris\\data\\tests_local\\initial_tests\\gsc_...</td>\n",
       "    </tr>\n",
       "    <tr>\n",
       "      <th>26</th>\n",
       "      <td>closest_stops_helper_gsc_300_dr</td>\n",
       "      <td>postprocessing_helper</td>\n",
       "      <td>False</td>\n",
       "      <td>C:\\polaris\\data\\tests_local\\initial_tests\\gsc_...</td>\n",
       "    </tr>\n",
       "    <tr>\n",
       "      <th>27</th>\n",
       "      <td>closest_stops_helper_gsc_300_jar</td>\n",
       "      <td>postprocessing_helper</td>\n",
       "      <td>False</td>\n",
       "      <td>C:\\polaris\\data\\tests_local\\initial_tests\\gsc_...</td>\n",
       "    </tr>\n",
       "    <tr>\n",
       "      <th>28</th>\n",
       "      <td>closest_stops_helper_gsc_300_nr</td>\n",
       "      <td>postprocessing_helper</td>\n",
       "      <td>False</td>\n",
       "      <td>C:\\polaris\\data\\tests_local\\initial_tests\\gsc_...</td>\n",
       "    </tr>\n",
       "  </tbody>\n",
       "</table>\n",
       "</div>"
      ],
      "text/plain": [
       "                                      Key                   Type  Exists  \\\n",
       "0            transit_trip_max_load_helper                    sql   False   \n",
       "1                   transit_trip_max_load                    sql   False   \n",
       "2          mode_Distribution_ADULT_Counts                    sql   False   \n",
       "3        mode_Distribution_ADULT_Distance                    sql   False   \n",
       "4                                 bus_avo                    sql   False   \n",
       "5                                  pr_avo                    sql   False   \n",
       "6                fare_sensitivity_results                    sql   False   \n",
       "7                 mode_Distribution_ADULT                    sql   False   \n",
       "8                       distance_tnc_dist                    sql   False   \n",
       "9          fare_sensitivity_results_zonal                    sql   False   \n",
       "10  fare_sensitivity_demograpic_tnc_stats                    sql   False   \n",
       "11            fare_sensitivity_results_vo                    sql   False   \n",
       "12                   tnc_results_discount                    sql   False   \n",
       "13                             elder_demo                    sql   False   \n",
       "14                         activity_times                    sql   False   \n",
       "15                           requests_sum         postprocessing   False   \n",
       "16                          closest_stops         postprocessing   False   \n",
       "17                       tnc_stat_summary         postprocessing   False   \n",
       "18                          tnc_skim_demo         postprocessing   False   \n",
       "19               demo_financial_case_data         postprocessing   False   \n",
       "20                    requests_gsc_300_dr  postprocessing_helper   False   \n",
       "21                   requests_gsc_300_jar  postprocessing_helper   False   \n",
       "22                    requests_gsc_300_nr  postprocessing_helper   False   \n",
       "23         requests_sum_helper_gsc_300_dr  postprocessing_helper   False   \n",
       "24        requests_sum_helper_gsc_300_jar  postprocessing_helper   False   \n",
       "25         requests_sum_helper_gsc_300_nr  postprocessing_helper   False   \n",
       "26        closest_stops_helper_gsc_300_dr  postprocessing_helper   False   \n",
       "27       closest_stops_helper_gsc_300_jar  postprocessing_helper   False   \n",
       "28        closest_stops_helper_gsc_300_nr  postprocessing_helper   False   \n",
       "\n",
       "                                             Location  \n",
       "0   C:\\polaris\\data\\tests_local\\initial_tests\\tran...  \n",
       "1   C:\\polaris\\data\\tests_local\\initial_tests\\tran...  \n",
       "2   C:\\polaris\\data\\tests_local\\initial_tests\\mode...  \n",
       "3   C:\\polaris\\data\\tests_local\\initial_tests\\mode...  \n",
       "4   C:\\polaris\\data\\tests_local\\initial_tests\\bus_...  \n",
       "5   C:\\polaris\\data\\tests_local\\initial_tests\\pr_a...  \n",
       "6   C:\\polaris\\data\\tests_local\\initial_tests\\fare...  \n",
       "7   C:\\polaris\\data\\tests_local\\initial_tests\\mode...  \n",
       "8   C:\\polaris\\data\\tests_local\\initial_tests\\dist...  \n",
       "9   C:\\polaris\\data\\tests_local\\initial_tests\\fare...  \n",
       "10  C:\\polaris\\data\\tests_local\\initial_tests\\fare...  \n",
       "11  C:\\polaris\\data\\tests_local\\initial_tests\\fare...  \n",
       "12  C:\\polaris\\data\\tests_local\\initial_tests\\tnc_...  \n",
       "13  C:\\polaris\\data\\tests_local\\initial_tests\\elde...  \n",
       "14  C:\\polaris\\data\\tests_local\\initial_tests\\acti...  \n",
       "15  C:\\polaris\\data\\tests_local\\initial_tests\\requ...  \n",
       "16  C:\\polaris\\data\\tests_local\\initial_tests\\clos...  \n",
       "17  C:\\polaris\\data\\tests_local\\initial_tests\\tnc_...  \n",
       "18  C:\\polaris\\data\\tests_local\\initial_tests\\tnc_...  \n",
       "19  C:\\polaris\\data\\tests_local\\initial_tests\\demo...  \n",
       "20  C:\\polaris\\data\\tests_local\\initial_tests\\gsc_...  \n",
       "21  C:\\polaris\\data\\tests_local\\initial_tests\\gsc_...  \n",
       "22  C:\\polaris\\data\\tests_local\\initial_tests\\gsc_...  \n",
       "23  C:\\polaris\\data\\tests_local\\initial_tests\\gsc_...  \n",
       "24  C:\\polaris\\data\\tests_local\\initial_tests\\gsc_...  \n",
       "25  C:\\polaris\\data\\tests_local\\initial_tests\\gsc_...  \n",
       "26  C:\\polaris\\data\\tests_local\\initial_tests\\gsc_...  \n",
       "27  C:\\polaris\\data\\tests_local\\initial_tests\\gsc_...  \n",
       "28  C:\\polaris\\data\\tests_local\\initial_tests\\gsc_...  "
      ]
     },
     "execution_count": 10,
     "metadata": {},
     "output_type": "execute_result"
    }
   ],
   "source": [
    "import pandas as pd\n",
    "csvs = config_wtp.csvs\n",
    "demo = []\n",
    "for key, value in csvs.items():\n",
    "        # Extract the values for each column\n",
    "        type_val = value.get('type', None)\n",
    "        exists_val = value.get('exists', None)\n",
    "        location_val = value.get('path', None)\n",
    "        \n",
    "        # Append the row as a tuple\n",
    "        demo.append((key, type_val, exists_val, location_val))\n",
    "\n",
    "    # Create a DataFrame from the rows\n",
    "df = pd.DataFrame(demo, columns=['Key', 'Type', 'Exists', 'Location'])\n",
    "df"
   ]
  },
  {
   "cell_type": "markdown",
   "metadata": {},
   "source": [
    "## Process"
   ]
  },
  {
   "cell_type": "markdown",
   "metadata": {},
   "source": [
    "This takes about 10 minutes for these output folders from scratch, but it builds on existing incomplete processing or pulls results as needed."
   ]
  },
  {
   "cell_type": "code",
   "execution_count": 11,
   "metadata": {},
   "outputs": [
    {
     "name": "stdout",
     "output_type": "stream",
     "text": [
      "starting on directory C:\\polaris\\data\\tests_local\\initial_tests\\gsc_300_dr\n",
      "starting on directory C:\\polaris\\data\\tests_local\\initial_tests\\gsc_300_jar\n",
      "starting on directory C:\\polaris\\data\\tests_local\\initial_tests\\gsc_300_nr\n"
     ]
    },
    {
     "ename": "UnboundLocalError",
     "evalue": "cannot access local variable 'db_name' where it is not associated with a value",
     "output_type": "error",
     "traceback": [
      "\u001b[1;31m---------------------------------------------------------------------------\u001b[0m",
      "\u001b[1;31mUnboundLocalError\u001b[0m                         Traceback (most recent call last)",
      "Cell \u001b[1;32mIn[11], line 1\u001b[0m\n\u001b[1;32m----> 1\u001b[0m parallel\u001b[38;5;241m.\u001b[39mparallel_process_folders(config_wtp)\n",
      "File \u001b[1;32mc:\\polaris\\CU_POLARIS_Postprocessor\\CU_POLARIS_Postprocessor\\parallel.py:24\u001b[0m, in \u001b[0;36mparallel_process_folders\u001b[1;34m(config)\u001b[0m\n\u001b[0;32m     22\u001b[0m \u001b[38;5;66;03m#workers = 1\u001b[39;00m\n\u001b[0;32m     23\u001b[0m \u001b[38;5;28;01mwith\u001b[39;00m concurrent\u001b[38;5;241m.\u001b[39mfutures\u001b[38;5;241m.\u001b[39mThreadPoolExecutor(max_workers\u001b[38;5;241m=\u001b[39mworkers) \u001b[38;5;28;01mas\u001b[39;00m executor:\n\u001b[1;32m---> 24\u001b[0m     results \u001b[38;5;241m=\u001b[39m \u001b[38;5;28mlist\u001b[39m(executor\u001b[38;5;241m.\u001b[39mmap(process_folder, folders, itertools\u001b[38;5;241m.\u001b[39mrepeat(config)))\n\u001b[0;32m     26\u001b[0m collected_results\u001b[38;5;241m=\u001b[39m{}\n\u001b[0;32m     28\u001b[0m \u001b[38;5;28;01mfor\u001b[39;00m result \u001b[38;5;129;01min\u001b[39;00m results:\n",
      "File \u001b[1;32mc:\\Users\\jep\\AppData\\Local\\anaconda3\\Lib\\concurrent\\futures\\_base.py:619\u001b[0m, in \u001b[0;36mExecutor.map.<locals>.result_iterator\u001b[1;34m()\u001b[0m\n\u001b[0;32m    616\u001b[0m \u001b[38;5;28;01mwhile\u001b[39;00m fs:\n\u001b[0;32m    617\u001b[0m     \u001b[38;5;66;03m# Careful not to keep a reference to the popped future\u001b[39;00m\n\u001b[0;32m    618\u001b[0m     \u001b[38;5;28;01mif\u001b[39;00m timeout \u001b[38;5;129;01mis\u001b[39;00m \u001b[38;5;28;01mNone\u001b[39;00m:\n\u001b[1;32m--> 619\u001b[0m         \u001b[38;5;28;01myield\u001b[39;00m _result_or_cancel(fs\u001b[38;5;241m.\u001b[39mpop())\n\u001b[0;32m    620\u001b[0m     \u001b[38;5;28;01melse\u001b[39;00m:\n\u001b[0;32m    621\u001b[0m         \u001b[38;5;28;01myield\u001b[39;00m _result_or_cancel(fs\u001b[38;5;241m.\u001b[39mpop(), end_time \u001b[38;5;241m-\u001b[39m time\u001b[38;5;241m.\u001b[39mmonotonic())\n",
      "File \u001b[1;32mc:\\Users\\jep\\AppData\\Local\\anaconda3\\Lib\\concurrent\\futures\\_base.py:317\u001b[0m, in \u001b[0;36m_result_or_cancel\u001b[1;34m(***failed resolving arguments***)\u001b[0m\n\u001b[0;32m    315\u001b[0m \u001b[38;5;28;01mtry\u001b[39;00m:\n\u001b[0;32m    316\u001b[0m     \u001b[38;5;28;01mtry\u001b[39;00m:\n\u001b[1;32m--> 317\u001b[0m         \u001b[38;5;28;01mreturn\u001b[39;00m fut\u001b[38;5;241m.\u001b[39mresult(timeout)\n\u001b[0;32m    318\u001b[0m     \u001b[38;5;28;01mfinally\u001b[39;00m:\n\u001b[0;32m    319\u001b[0m         fut\u001b[38;5;241m.\u001b[39mcancel()\n",
      "File \u001b[1;32mc:\\Users\\jep\\AppData\\Local\\anaconda3\\Lib\\concurrent\\futures\\_base.py:456\u001b[0m, in \u001b[0;36mFuture.result\u001b[1;34m(self, timeout)\u001b[0m\n\u001b[0;32m    454\u001b[0m     \u001b[38;5;28;01mraise\u001b[39;00m CancelledError()\n\u001b[0;32m    455\u001b[0m \u001b[38;5;28;01melif\u001b[39;00m \u001b[38;5;28mself\u001b[39m\u001b[38;5;241m.\u001b[39m_state \u001b[38;5;241m==\u001b[39m FINISHED:\n\u001b[1;32m--> 456\u001b[0m     \u001b[38;5;28;01mreturn\u001b[39;00m \u001b[38;5;28mself\u001b[39m\u001b[38;5;241m.\u001b[39m__get_result()\n\u001b[0;32m    457\u001b[0m \u001b[38;5;28;01melse\u001b[39;00m:\n\u001b[0;32m    458\u001b[0m     \u001b[38;5;28;01mraise\u001b[39;00m \u001b[38;5;167;01mTimeoutError\u001b[39;00m()\n",
      "File \u001b[1;32mc:\\Users\\jep\\AppData\\Local\\anaconda3\\Lib\\concurrent\\futures\\_base.py:401\u001b[0m, in \u001b[0;36mFuture.__get_result\u001b[1;34m(self)\u001b[0m\n\u001b[0;32m    399\u001b[0m \u001b[38;5;28;01mif\u001b[39;00m \u001b[38;5;28mself\u001b[39m\u001b[38;5;241m.\u001b[39m_exception:\n\u001b[0;32m    400\u001b[0m     \u001b[38;5;28;01mtry\u001b[39;00m:\n\u001b[1;32m--> 401\u001b[0m         \u001b[38;5;28;01mraise\u001b[39;00m \u001b[38;5;28mself\u001b[39m\u001b[38;5;241m.\u001b[39m_exception\n\u001b[0;32m    402\u001b[0m     \u001b[38;5;28;01mfinally\u001b[39;00m:\n\u001b[0;32m    403\u001b[0m         \u001b[38;5;66;03m# Break a reference cycle with the exception in self._exception\u001b[39;00m\n\u001b[0;32m    404\u001b[0m         \u001b[38;5;28mself\u001b[39m \u001b[38;5;241m=\u001b[39m \u001b[38;5;28;01mNone\u001b[39;00m\n",
      "File \u001b[1;32mc:\\Users\\jep\\AppData\\Local\\anaconda3\\Lib\\concurrent\\futures\\thread.py:58\u001b[0m, in \u001b[0;36m_WorkItem.run\u001b[1;34m(self)\u001b[0m\n\u001b[0;32m     55\u001b[0m     \u001b[38;5;28;01mreturn\u001b[39;00m\n\u001b[0;32m     57\u001b[0m \u001b[38;5;28;01mtry\u001b[39;00m:\n\u001b[1;32m---> 58\u001b[0m     result \u001b[38;5;241m=\u001b[39m \u001b[38;5;28mself\u001b[39m\u001b[38;5;241m.\u001b[39mfn(\u001b[38;5;241m*\u001b[39m\u001b[38;5;28mself\u001b[39m\u001b[38;5;241m.\u001b[39margs, \u001b[38;5;241m*\u001b[39m\u001b[38;5;241m*\u001b[39m\u001b[38;5;28mself\u001b[39m\u001b[38;5;241m.\u001b[39mkwargs)\n\u001b[0;32m     59\u001b[0m \u001b[38;5;28;01mexcept\u001b[39;00m \u001b[38;5;167;01mBaseException\u001b[39;00m \u001b[38;5;28;01mas\u001b[39;00m exc:\n\u001b[0;32m     60\u001b[0m     \u001b[38;5;28mself\u001b[39m\u001b[38;5;241m.\u001b[39mfuture\u001b[38;5;241m.\u001b[39mset_exception(exc)\n",
      "File \u001b[1;32mc:\\polaris\\CU_POLARIS_Postprocessor\\CU_POLARIS_Postprocessor\\parallel.py:69\u001b[0m, in \u001b[0;36mprocess_folder\u001b[1;34m(dir, config)\u001b[0m\n\u001b[0;32m     65\u001b[0m supply_db \u001b[38;5;241m=\u001b[39m db_name \u001b[38;5;241m+\u001b[39m \u001b[38;5;124m\"\u001b[39m\u001b[38;5;124m-Supply.sqlite\u001b[39m\u001b[38;5;124m\"\u001b[39m\n\u001b[0;32m     66\u001b[0m trip_multiplier \u001b[38;5;241m=\u001b[39m get_scale_factor(\u001b[38;5;28mdir\u001b[39m,config)\n\u001b[1;32m---> 69\u001b[0m \u001b[38;5;28;01mif\u001b[39;00m \u001b[38;5;129;01mnot\u001b[39;00m os\u001b[38;5;241m.\u001b[39mpath\u001b[38;5;241m.\u001b[39mexists(\u001b[38;5;28mdir\u001b[39m\u001b[38;5;241m.\u001b[39mas_posix() \u001b[38;5;241m+\u001b[39m \u001b[38;5;124m'\u001b[39m\u001b[38;5;124m/\u001b[39m\u001b[38;5;124m'\u001b[39m\u001b[38;5;241m+\u001b[39m demand_db):\n\u001b[0;32m     70\u001b[0m     \u001b[38;5;28;01mwith\u001b[39;00m tarfile\u001b[38;5;241m.\u001b[39mopen(\u001b[38;5;28mdir\u001b[39m\u001b[38;5;241m.\u001b[39mas_posix()\u001b[38;5;241m+\u001b[39m\u001b[38;5;124m'\u001b[39m\u001b[38;5;124m/\u001b[39m\u001b[38;5;124m'\u001b[39m \u001b[38;5;241m+\u001b[39m demand_db \u001b[38;5;241m+\u001b[39m \u001b[38;5;124m'\u001b[39m\u001b[38;5;124m.tar.gz\u001b[39m\u001b[38;5;124m'\u001b[39m,\u001b[38;5;124m'\u001b[39m\u001b[38;5;124mr:gz\u001b[39m\u001b[38;5;124m'\u001b[39m) \u001b[38;5;28;01mas\u001b[39;00m tar:\n\u001b[0;32m     71\u001b[0m         tar\u001b[38;5;241m.\u001b[39mextractall(path \u001b[38;5;241m=\u001b[39m \u001b[38;5;28mdir\u001b[39m)     \n",
      "\u001b[1;31mUnboundLocalError\u001b[0m: cannot access local variable 'db_name' where it is not associated with a value"
     ]
    }
   ],
   "source": [
    "parallel.parallel_process_folders(config_wtp)\n"
   ]
  },
  {
   "cell_type": "markdown",
   "metadata": {},
   "source": [
    "### Show Output of processing"
   ]
  },
  {
   "cell_type": "code",
   "execution_count": 6,
   "metadata": {},
   "outputs": [
    {
     "name": "stdout",
     "output_type": "stream",
     "text": [
      "transit_trip_max_load_helper\n",
      "transit_trip_max_load\n",
      "mode_Distribution_ADULT_Counts\n",
      "mode_Distribution_ADULT_Distance\n",
      "bus_avo\n",
      "pr_avo\n",
      "fare_sensitivity_results\n",
      "mode_Distribution_ADULT\n",
      "distance_tnc_dist\n",
      "fare_sensitivity_results_zonal\n",
      "fare_sensitivity_demograpic_tnc_stats\n",
      "fare_sensitivity_results_vo\n",
      "tnc_results_discount\n",
      "elder_demo\n",
      "activity_times\n",
      "requests_sum\n",
      "closest_stops\n",
      "tnc_stat_summary\n",
      "tnc_skim_demo\n",
      "demo_financial_case_data\n"
     ]
    }
   ],
   "source": [
    "for key, value in config_wtp.results.items():\n",
    "    print(key)"
   ]
  },
  {
   "cell_type": "markdown",
   "metadata": {},
   "source": [
    "### Power BI Post Processing"
   ]
  },
  {
   "cell_type": "code",
   "execution_count": 7,
   "metadata": {},
   "outputs": [
    {
     "name": "stdout",
     "output_type": "stream",
     "text": [
      "Creating case columns for transit_trip_max_load_helper.\n",
      "Creating case columns for transit_trip_max_load.\n",
      "Creating case columns for mode_Distribution_ADULT_Counts.\n",
      "Creating case columns for mode_Distribution_ADULT_Distance.\n",
      "Creating case columns for bus_avo.\n",
      "Creating case columns for pr_avo.\n",
      "Creating case columns for fare_sensitivity_results.\n",
      "Creating case columns for mode_Distribution_ADULT.\n",
      "Creating case columns for distance_tnc_dist.\n",
      "Creating case columns for fare_sensitivity_results_zonal.\n",
      "Creating case columns for fare_sensitivity_demograpic_tnc_stats.\n",
      "Creating case columns for fare_sensitivity_results_vo.\n",
      "Creating case columns for tnc_results_discount.\n",
      "Creating case columns for elder_demo.\n",
      "Creating case columns for activity_times.\n",
      "Creating case columns for requests_sum.\n",
      "Creating case columns for closest_stops.\n",
      "Creating case columns for tnc_stat_summary.\n",
      "Creating case columns for tnc_skim_demo.\n",
      "Creating case columns for demo_financial_case_data.\n"
     ]
    },
    {
     "name": "stderr",
     "output_type": "stream",
     "text": [
      "c:\\polaris\\CU_POLARIS_Postprocessor\\CU_POLARIS_Postprocessor\\power_bi_processing\\prep_utils.py:170: PerformanceWarning: \n",
      "your performance may suffer as PyTables will pickle object types that it cannot\n",
      "map directly to c-types [inferred_type->mixed,key->block2_values] [items->Index(['mode', 'type', 'folder', 'City', 'Fleet Size', 'Strategy',\n",
      "       'Iteration'],\n",
      "      dtype='object')]\n",
      "\n",
      "  store[key] = df\n",
      "c:\\polaris\\CU_POLARIS_Postprocessor\\CU_POLARIS_Postprocessor\\power_bi_processing\\prep_utils.py:170: PerformanceWarning: \n",
      "your performance may suffer as PyTables will pickle object types that it cannot\n",
      "map directly to c-types [inferred_type->mixed,key->block0_values] [items->Index(['Case Aggregators', 'Folder to Columns', 'Demographic Aggregators'], dtype='object')]\n",
      "\n",
      "  store[key] = df\n"
     ]
    },
    {
     "data": {
      "text/plain": [
       "True"
      ]
     },
     "execution_count": 7,
     "metadata": {},
     "output_type": "execute_result"
    }
   ],
   "source": [
    "IL.reload(CU_POLARIS_Postprocessor.power_bi_processing.prep_utils)\n",
    "#use this for comparing all cases (within a city model) to a single base case\n",
    "base_case_folders = ['atx_du_7','gvl_du_7']\n",
    "#prep_utils.process_tnc_ttests(config=config_wtp,base_cases=base_case_folders)\n",
    "\n",
    "#Use this for comparing strategy to strategy\n",
    "#prep_utils.process_tnc_ttests(config=config_wtp,base_suffix=\"_heur\")\n",
    "\n",
    "#Use this for folder names structured cit_fleet-size_strategy_iteration\n",
    "prep_utils.process_folder_names_cit_fleet_strat(config_wtp)\n",
    "\n",
    "#Use this for folder names structured cit_case_iteration\n",
    "#prep_utils.process_folder_names_wtp(config_wtp)\n",
    "\n",
    "case_aggregators =[\"City\",\"Strategy\"]\n",
    "demo_aggregators =[\"age_class\"]\n",
    "folder_to_columns = [\"City\",\"Strategy\",\"Iteration\",\"Fleet Size\"]\n",
    "prep_utils.generate_pbix_control_csv(config_wtp,case_aggregators,demo_aggregators,folder_to_columns)\n",
    "prep_utils.update_h5(config=config_wtp)"
   ]
  },
  {
   "cell_type": "markdown",
   "metadata": {},
   "source": [
    "### Table Aggregation and Reformatting"
   ]
  },
  {
   "cell_type": "code",
   "execution_count": 11,
   "metadata": {},
   "outputs": [
    {
     "name": "stderr",
     "output_type": "stream",
     "text": [
      "Processing:  38%|███▊      | 3/8 [00:00<00:00, 25.13step/s] "
     ]
    },
    {
     "name": "stdout",
     "output_type": "stream",
     "text": [
      "Searching for supply databases.\n",
      "Running transit queries.\n",
      "Running mode shift queries.\n",
      "Running demographic queries.\n"
     ]
    },
    {
     "name": "stderr",
     "output_type": "stream",
     "text": [
      "Processing:  88%|████████▊ | 7/8 [00:00<00:00, 15.40step/s]c:\\polaris\\CU_POLARIS_Postprocessor\\CU_POLARIS_Postprocessor\\power_bi_processing\\charting.py:1645: PerformanceWarning: \n",
      "your performance may suffer as PyTables will pickle object types that it cannot\n",
      "map directly to c-types [inferred_type->mixed-integer,key->block2_values] [items->Index(['City', 'Strategy', 'Fleet Size', 'type', 'TNC Time Budget Level',\n",
      "       'Bus Time Budget Level', 'Rail Time Budget Level'],\n",
      "      dtype='object')]\n",
      "\n",
      "  store[key] = df\n",
      "c:\\polaris\\CU_POLARIS_Postprocessor\\CU_POLARIS_Postprocessor\\power_bi_processing\\charting.py:1645: PerformanceWarning: \n",
      "your performance may suffer as PyTables will pickle object types that it cannot\n",
      "map directly to c-types [inferred_type->mixed-integer,key->block2_values] [items->Index(['City', 'city_zone'], dtype='object')]\n",
      "\n",
      "  store[key] = df\n",
      "Processing: 100%|██████████| 8/8 [00:00<00:00, 15.71step/s]"
     ]
    },
    {
     "name": "stdout",
     "output_type": "stream",
     "text": [
      "Running financial queries.\n",
      "Running t-test queries.\n",
      "Copying PBIX into case folder.\n",
      "Creating h5 file.\n"
     ]
    },
    {
     "name": "stderr",
     "output_type": "stream",
     "text": [
      "\n"
     ]
    }
   ],
   "source": [
    "#reload the pbi_charting module to ensure it has the latest changes\n",
    "IL.reload(CU_POLARIS_Postprocessor.power_bi_processing.charting)\n",
    "pbix_aggregators  = {\n",
    "    'Transit Aggregators': ['City', 'Strategy'],\n",
    "    'Folder to Columns': ['City', 'Strategy','Fleet Size'],\n",
    "    'Demographic Aggregators':['City','age_class'],\n",
    "    'Case Aggregators': ['City', 'Fleet Size'],\n",
    "    'Strategy Aggregators': ['City', 'Strategy']\n",
    "}\n",
    "work_path = config_wtp.base_dir\n",
    "#db_name_folder_map = {\n",
    "#    'greenville':'gsc',\n",
    "#    'campo':'atx'\n",
    "#}\n",
    "db_name_folder_map = {\n",
    "    'Bloomington':'bloomington'\n",
    "}\n",
    "study_name = 'TRB_Case_Study'\n",
    "#generates a new h5 file called pbix_tables.h5 which are directly used to generate charts in power bi\n",
    "pbi_charting.run_all(work_path,pbix_aggregators,db_name_folder_map,study_name,db_path={\"Bloomington\":r\"C:\\polaris\\data\\for_processing\\bloomington_1200\\bloomington_iteration_1\\Bloomington-Supply.sqlite\"})\n",
    "#pbi_charting.run_all(work_path,pbix_aggregators,db_name_folder_map,study_name,db_path={\"greenville\":r\"C:\\polaris\\data\\for_processing\\gsc_100\\greenville-Supply.sqlite\"})\n",
    "\n",
    "\n"
   ]
  },
  {
   "cell_type": "markdown",
   "metadata": {},
   "source": [
    "### Open the PBIX"
   ]
  },
  {
   "cell_type": "code",
   "execution_count": 12,
   "metadata": {},
   "outputs": [],
   "source": [
    "pbi_charting.open_pbix_file(config_wtp.base_dir,study_name)"
   ]
  },
  {
   "cell_type": "markdown",
   "metadata": {},
   "source": [
    "### Load in final results"
   ]
  },
  {
   "cell_type": "code",
   "execution_count": 12,
   "metadata": {},
   "outputs": [],
   "source": [
    "import pandas as pd\n",
    "h5_path = config_wtp.base_dir.as_posix()+'/results.h5'\n",
    "\n",
    "mode_Distribution_ADULT_Distance=  pd.read_hdf(h5_path,key='mode_Distribution_ADULT_Distance')\n",
    "mode_Distribution_ADULT_Counts=  pd.read_hdf(h5_path,key='mode_Distribution_ADULT_Counts')\n",
    "bus_avo=  pd.read_hdf(h5_path,key='bus_avo')\n",
    "pr_avo=  pd.read_hdf(h5_path,key='pr_avo')\n",
    "fare_sensitivity_results=  pd.read_hdf(h5_path,key='fare_sensitivity_results')\n",
    "mode_Distribution_ADULT=  pd.read_hdf(h5_path,key='mode_Distribution_ADULT')\n",
    "distance_tnc_dist=  pd.read_hdf(h5_path,key='distance_tnc_dist')\n",
    "fare_sensitivity_results_zonal=  pd.read_hdf(h5_path,key='fare_sensitivity_results_zonal')\n",
    "fare_sensitivity_demograpic_tnc_stats=  pd.read_hdf(h5_path,key='fare_sensitivity_demograpic_tnc_stats')\n",
    "fare_sensitivity_results_vo=  pd.read_hdf(h5_path,key='fare_sensitivity_results_vo')\n",
    "tnc_results_discount=  pd.read_hdf(h5_path,key='tnc_results_discount')\n",
    "elder_demo=  pd.read_hdf(h5_path,key='elder_demo')\n",
    "requests_sum=  pd.read_hdf(h5_path,key='requests_sum')\n",
    "tnc_stat_summary=  pd.read_hdf(h5_path,key='tnc_stat_summary')\n",
    "tnc_skim_demo=  pd.read_hdf(h5_path,key='tnc_skim_demo')\n",
    "tnc_ttests=  pd.read_hdf(h5_path,key='tnc_ttests')\n",
    "transit_trip_max_load_helper=  pd.read_hdf(h5_path,key='transit_trip_max_load_helper')"
   ]
  },
  {
   "cell_type": "markdown",
   "metadata": {},
   "source": [
    "# Scenario Tools"
   ]
  },
  {
   "cell_type": "markdown",
   "metadata": {},
   "source": [
    "## Imports"
   ]
  },
  {
   "cell_type": "code",
   "execution_count": null,
   "metadata": {},
   "outputs": [],
   "source": [
    "from CU_POLARIS_Postprocessor.utils import select_file, bulk_update_scenario_files, copy_cases, CaseVariableData, BulkUpdateData, bulk_check_scenario_files\n",
    "from CU_POLARIS_Postprocessor.utils import create_jobscript, CityKey, PolarisRunConfig, MailType\n",
    "from pathlib import Path\n"
   ]
  },
  {
   "cell_type": "markdown",
   "metadata": {},
   "source": [
    "## Creating scenarios from a base case, copying files, or updating cases"
   ]
  },
  {
   "cell_type": "markdown",
   "metadata": {},
   "source": [
    "### Selecting Files"
   ]
  },
  {
   "cell_type": "code",
   "execution_count": 2,
   "metadata": {},
   "outputs": [],
   "source": [
    "#case_path = select_file()\n",
    "#new_case_path = select_file()\n",
    "case_path = r'C:\\Users\\jpaul4\\Box\\Research\\Papers\\5_Mode Choice Paper\\all_cases\\cases'\n",
    "new_case_path=r'C:\\Globus\\mode_choice_cases'\n"
   ]
  },
  {
   "cell_type": "code",
   "execution_count": 4,
   "metadata": {},
   "outputs": [
    {
     "name": "stdout",
     "output_type": "stream",
     "text": [
      "C:\\Users\\jpaul4\\Box\\Research\\Papers\\5_Mode Choice Paper\\all_cases\\cases\n",
      "C:\\Globus\\mode_choice_cases\n"
     ]
    }
   ],
   "source": [
    "print(case_path)\n",
    "print(new_case_path)"
   ]
  },
  {
   "cell_type": "markdown",
   "metadata": {},
   "source": [
    "### Creating Scenarios from a base scenario"
   ]
  },
  {
   "cell_type": "code",
   "execution_count": null,
   "metadata": {},
   "outputs": [],
   "source": [
    "fleet_sizes = [i for i in range(100,600,100)]\n",
    "strategies =[\"heur\",\"\"] #for folder names\n",
    "strat_key = {\"heur\":\"default\",\"\":\"DRS_Discount\"} #corresponding keys for folder names (optional)\n",
    "\n",
    "var_1 = CaseVariableData(\"fleet_size\",\"SAEVFleetModel_optimization.json\",[\"Operator_1\", \"Fleet_Base\", \"Operator_1_TNC_FLEET_SIZE\"],fleet_sizes)\n",
    "var_2 = CaseVariableData(\"strategy\",\"SAEVFleetModel_optimization.json\",[\"Operator_1\",\"Fleet Strategy\", \"Operator_1_strategy_name\"],strategies, strat_key)\n",
    "\n",
    "new_cases = [var_1,var_2]\n",
    "\n",
    "args = {\"new_case_path\":new_case_path,\n",
    "        \"case_path\":case_path,\n",
    "        \"new_cases\":new_cases,\n",
    "        \"parallel\":True}\n",
    "\n",
    "copy_cases(**args)"
   ]
  },
  {
   "cell_type": "markdown",
   "metadata": {},
   "source": [
    "### Copying Cases (very quickly)\n",
    "Copies a set of existing cases."
   ]
  },
  {
   "cell_type": "code",
   "execution_count": null,
   "metadata": {},
   "outputs": [
    {
     "name": "stderr",
     "output_type": "stream",
     "text": [
      "Moving/Copying Folders:   0%|          | 0/17 [00:00<?, ?it/s]\n",
      "\u001b[A\n",
      "\n",
      "\n",
      "\u001b[A\u001b[A\u001b[A\n",
      "\n",
      "\u001b[A\u001b[A\n",
      "\n",
      "\n",
      "\n",
      "\u001b[A\u001b[A\u001b[A\u001b[A\n",
      "\n",
      "\n",
      "\n",
      "\n",
      "\u001b[A\u001b[A\u001b[A\u001b[A\u001b[A\n",
      "\n",
      "\n",
      "\n",
      "\n",
      "\n",
      "\n",
      "\n",
      "\u001b[A\u001b[A\u001b[A\u001b[A\u001b[A\u001b[A\u001b[A\u001b[A\n",
      "\n",
      "\n",
      "\n",
      "\n",
      "\n",
      "\n",
      "\u001b[A\u001b[A\u001b[A\u001b[A\u001b[A\u001b[A\u001b[A\n",
      "\n",
      "\n",
      "\n",
      "\n",
      "\n",
      "\n",
      "\n",
      "\n",
      "\n",
      "\u001b[A\u001b[A\u001b[A\u001b[A\u001b[A\u001b[A\u001b[A\u001b[A\u001b[A\u001b[A\n",
      "\n",
      "\n",
      "\n",
      "\n",
      "\n",
      "\u001b[A\u001b[A\u001b[A\u001b[A\u001b[A\u001b[A\n",
      "\n",
      "\n",
      "\n",
      "\n",
      "\n",
      "\n",
      "\n",
      "\n",
      "\u001b[A\u001b[A\u001b[A\u001b[A\u001b[A\u001b[A\u001b[A\u001b[A\u001b[A\n",
      "\n",
      "\n",
      "\n",
      "\n",
      "\n",
      "\n",
      "\n",
      "\n",
      "\n",
      "\n",
      "\n",
      "\u001b[A\u001b[A\u001b[A\u001b[A\u001b[A\u001b[A\u001b[A\u001b[A\u001b[A\u001b[A\u001b[A\u001b[A\n",
      "\n",
      "\n",
      "\n",
      "\n",
      "\n",
      "\n",
      "\n",
      "\n",
      "\n",
      "\n",
      "\n",
      "\n",
      "\n",
      "\n",
      "\u001b[A\u001b[A\u001b[A\u001b[A\u001b[A\u001b[A\u001b[A\u001b[A\u001b[A\u001b[A\u001b[A\u001b[A\u001b[A\u001b[A\u001b[A\n",
      "\n",
      "\n",
      "\n",
      "\n",
      "\n",
      "\n",
      "\n",
      "\n",
      "\n",
      "\n",
      "\n",
      "\n",
      "\u001b[A\u001b[A\u001b[A\u001b[A\u001b[A\u001b[A\u001b[A\u001b[A\u001b[A\u001b[A\u001b[A\u001b[A\u001b[A\n",
      "\n",
      "\n",
      "\n",
      "\n",
      "\n",
      "\n",
      "\n",
      "\n",
      "\n",
      "\n",
      "\n",
      "\n",
      "\n",
      "\n",
      "\n",
      "\u001b[A\u001b[A\u001b[A\u001b[A\u001b[A\u001b[A\u001b[A\u001b[A\u001b[A\u001b[A\u001b[A\u001b[A\u001b[A\u001b[A\u001b[A\u001b[A\n",
      "\n",
      "\n",
      "\n",
      "\n",
      "\n",
      "\n",
      "\n",
      "\n",
      "\n",
      "\n",
      "\u001b[A\u001b[A\u001b[A\u001b[A\u001b[A\u001b[A\u001b[A\u001b[A\u001b[A\u001b[A\u001b[A\n",
      "\n",
      "\n",
      "\n",
      "\n",
      "\n",
      "\n",
      "\n",
      "\n",
      "\n",
      "\n",
      "\n",
      "\n",
      "\n",
      "\u001b[A\u001b[A\u001b[A\u001b[A\u001b[A\u001b[A\u001b[A\u001b[A\u001b[A\u001b[A\u001b[A\u001b[A\u001b[A\u001b[A\n",
      "\n",
      "\n",
      "\n",
      "\u001b[A\u001b[A\u001b[A\u001b[A\n",
      "\n",
      "\n",
      "\n",
      "\n",
      "\u001b[A\u001b[A\u001b[A\u001b[A\u001b[A\n",
      "\n",
      "\n",
      "\n",
      "\n",
      "\n",
      "\n",
      "\n",
      "\n",
      "\n",
      "\u001b[A\u001b[A\u001b[A\u001b[A\u001b[A\u001b[A\u001b[A\u001b[A\u001b[A\u001b[A\n",
      "\n",
      "\n",
      "\n",
      "\n",
      "\n",
      "\n",
      "\u001b[A\u001b[A\u001b[A\u001b[A\u001b[A\u001b[A\u001b[A\n",
      "\u001b[A\n",
      "\n",
      "\n",
      "\u001b[A\u001b[A\u001b[A\n",
      "\n",
      "\n",
      "\n",
      "\n",
      "\n",
      "\n",
      "\n",
      "\n",
      "\n",
      "\n",
      "\n",
      "\u001b[A\u001b[A\u001b[A\u001b[A\u001b[A\u001b[A\u001b[A\u001b[A\u001b[A\u001b[A\u001b[A\u001b[A\n",
      "\n",
      "\n",
      "\n",
      "\n",
      "\n",
      "\n",
      "\n",
      "\u001b[A\u001b[A\u001b[A\u001b[A\u001b[A\u001b[A\u001b[A\u001b[A\n",
      "\n",
      "\n",
      "\n",
      "\n",
      "\n",
      "\n",
      "\n",
      "\n",
      "\n",
      "\n",
      "\n",
      "\n",
      "\n",
      "\n",
      "\u001b[A\u001b[A\u001b[A\u001b[A\u001b[A\u001b[A\u001b[A\u001b[A\u001b[A\u001b[A\u001b[A\u001b[A\u001b[A\u001b[A\u001b[A\n",
      "\n",
      "\n",
      "\n",
      "\n",
      "\n",
      "\n",
      "\n",
      "\n",
      "\u001b[A\u001b[A\u001b[A\u001b[A\u001b[A\u001b[A\u001b[A\u001b[A\u001b[A\n",
      "\n",
      "\n",
      "\n",
      "\n",
      "\n",
      "\u001b[A\u001b[A\u001b[A\u001b[A\u001b[A\u001b[A\n",
      "\n",
      "\n",
      "\n",
      "\n",
      "\n",
      "\n",
      "\n",
      "\n",
      "\n",
      "\n",
      "\n",
      "\n",
      "\u001b[A\u001b[A\u001b[A\u001b[A\u001b[A\u001b[A\u001b[A\u001b[A\u001b[A\u001b[A\u001b[A\u001b[A\u001b[A\n",
      "\n",
      "\n",
      "\n",
      "\n",
      "\n",
      "\n",
      "\n",
      "\n",
      "\n",
      "\n",
      "\u001b[A\u001b[A\u001b[A\u001b[A\u001b[A\u001b[A\u001b[A\u001b[A\u001b[A\u001b[A\u001b[A\n",
      "\n",
      "\n",
      "\n",
      "\n",
      "\n",
      "\n",
      "\n",
      "\n",
      "\n",
      "\n",
      "\n",
      "\n",
      "\n",
      "\n",
      "\n",
      "\u001b[A\u001b[A\u001b[A\u001b[A\u001b[A\u001b[A\u001b[A\u001b[A\u001b[A\u001b[A\u001b[A\u001b[A\u001b[A\u001b[A\u001b[A\u001b[A\n",
      "\n",
      "\n",
      "\n",
      "\n",
      "\n",
      "\n",
      "\n",
      "\n",
      "\n",
      "\n",
      "\n",
      "\n",
      "\n",
      "\u001b[A\u001b[A\u001b[A\u001b[A\u001b[A\u001b[A\u001b[A\u001b[A\u001b[A\u001b[A\u001b[A\u001b[A\u001b[A\u001b[A"
     ]
    }
   ],
   "source": [
    "#files to leave alone in the target directory if they already exist in the target directories\n",
    "\n",
    "move_cases = True\n",
    "\n",
    "#keep_suffixes = ['reg'] #end of folder name to move (if you only want to move some cases)\n",
    "keep_suffixes = None #move all cases\n",
    "\n",
    "args = {\"new_case_path\":new_case_path,\n",
    "        \"case_path\":case_path,\n",
    "        \"move_cases\":move_cases,\n",
    "        \"keep_suffixes\":keep_suffixes,\n",
    "        \"parallel\":True} #use parallel processing (faster), not necessary for small number of cases or small models\n",
    "\n",
    "copy_cases(**args)\n"
   ]
  },
  {
   "cell_type": "markdown",
   "metadata": {},
   "source": [
    "### Updating Models\n",
    "Update all the files in each case from a single base folder (like a model base folder). Useful for \"resetting\" models when runs have partially completed and diverged from a base case.\n"
   ]
  },
  {
   "cell_type": "code",
   "execution_count": null,
   "metadata": {},
   "outputs": [
    {
     "name": "stderr",
     "output_type": "stream",
     "text": [
      "Deleting Items:  91%|█████████ | 456/500 [00:01<00:00, 406.05it/s]\n",
      "Moving/Copying Items: 100%|██████████| 500/500 [00:28<00:00, 17.78it/s]\n"
     ]
    }
   ],
   "source": [
    "\n",
    "keep_files =['SAEVFleetModel_optimization.json','scenario_abm.json']\n",
    "move_cases = False\n",
    "\n",
    "\n",
    "args = {\"new_case_path\":new_case_path,\n",
    "        \"case_path\":case_path,\n",
    "        \"move_cases\":move_cases,\n",
    "        \"keep_files\":keep_files,\n",
    "        \"parallel\":True}\n",
    "\n",
    "copy_cases(**args)"
   ]
  },
  {
   "cell_type": "markdown",
   "metadata": {},
   "source": [
    "## Updating scenario files universally"
   ]
  },
  {
   "cell_type": "code",
   "execution_count": null,
   "metadata": {},
   "outputs": [
    {
     "name": "stderr",
     "output_type": "stream",
     "text": [
      "Updating Scenario Files: 100%|██████████| 10/10 [00:00<00:00, 104.20it/s]\n"
     ]
    }
   ],
   "source": [
    "\n",
    "bulk=BulkUpdateData(possible_scenario_names=[\"SAEVFleetModel_optimization.json\"],value=10.0,target=['Operator_1','Fleet_Base','Operator_1_TNC_MAX_WAIT_TIME'])\n",
    "\n",
    "bulk1=BulkUpdateData(possible_scenario_names=[\"SAEVFleetModel_optimization.json\"],value=True,target=['Operator_1','Fleet_DRS','Operator_1_pool_choice_enabled'])\n",
    "bulk2=BulkUpdateData(possible_scenario_names=[\"scenario_abm.json\"],value=\"SAEVFleetModel_optimization.json\",target=[\"ABM Controls\",\"tnc_fleet_model_file\"])\n",
    "\n",
    "#updates = [bulk1,bulk2]\n",
    "updates = [bulk]\n",
    "\n",
    "for update in updates:\n",
    "    bulk_update_scenario_files(update.target,update.value,new_case_path,update.scenario_name)"
   ]
  },
  {
   "cell_type": "markdown",
   "metadata": {},
   "source": [
    "### Check Scenario Files"
   ]
  },
  {
   "cell_type": "code",
   "execution_count": null,
   "metadata": {},
   "outputs": [
    {
     "ename": "SyntaxError",
     "evalue": "invalid syntax (3952368906.py, line 16)",
     "output_type": "error",
     "traceback": [
      "\u001b[1;36m  Cell \u001b[1;32mIn[3], line 16\u001b[1;36m\u001b[0m\n\u001b[1;33m    bulk_check_scenario_files(target, folder_path:Path = os.getcwd(), [scenario_names])\u001b[0m\n\u001b[1;37m                                                 ^\u001b[0m\n\u001b[1;31mSyntaxError\u001b[0m\u001b[1;31m:\u001b[0m invalid syntax\n"
     ]
    }
   ],
   "source": [
    "\n",
    "'''\n",
    "checks ={\"SAEVFleetModel_optimization.json\":['Operator_1','Fleet_DRS','Operator_1_pool_choice_enabled'],\n",
    "\"scenario_abm.json\":[\"ABM Controls\",\"tnc_fleet_model_file\"],\n",
    "\"SAEVFleetModel_optimization.json\":[\"Operator_1\", \"Fleet_Base\", \"Operator_1_TNC_FLEET_SIZE\"],\n",
    "\"SAEVFleetModel_optimization.json\":[\"Operator_1\",\"Fleet Strategy\", \"Operator_1_strategy_name\"]}\n",
    "'''\n",
    "checks = {\"SAEVFleetModel_optimization.json\":['Operator_1','Fleet_Base','Operator_1_TNC_MAX_WAIT_TIME']}\n",
    "\n",
    "folder_paths = [Path(\"C:/Globus/trb_cases/gsc\"),Path(\"C:/Globus/trb_cases/atx\")]\n",
    "\n",
    "\n",
    "\n",
    "for folder_path in folder_paths:\n",
    "    for scenario_names, target in checks.items():\n",
    "        bulk_check_scenario_files(target, folder_path, [scenario_names])\n"
   ]
  },
  {
   "cell_type": "markdown",
   "metadata": {},
   "source": [
    "### Creating a jobscript"
   ]
  },
  {
   "cell_type": "code",
   "execution_count": null,
   "metadata": {},
   "outputs": [],
   "source": [
    "#Citykey(model_database_name(<model_name>-Suppy.sqlite),folder prefix, traffic scale factor, memory per run(gb), time per run(hours))\n",
    "case_dir = r\"/scratch/jpaul4/mode_choice_cases\"\n",
    "gsc = CityKey(\"greenville\",\"gsc\",1.0,16,1.5)\n",
    "atx = CityKey(\"Austin\",\"atx\",0.25,80,3.5)\n",
    "\n",
    "#PolarisRunConfig(container_path, run script (internal to container), threads, do abm init run, do skim run, number of abm runs, cities (CityKey objects))\n",
    "run_config = PolarisRunConfig(\"/home/jpaul4/container/polaris_old_working.sif\",\"run_old_polaris.py\",32,False,False,7,[gsc,atx])\n",
    "create_jobscript(job_name=\"polaris_trb_cases\",mail_user=\"jpaul4@clemson.edu\",mail_type=MailType.ALL,case_dir=case_dir,config=run_config) "
   ]
  }
 ],
 "metadata": {
  "kernelspec": {
   "display_name": "base",
   "language": "python",
   "name": "python3"
  },
  "language_info": {
   "codemirror_mode": {
    "name": "ipython",
    "version": 3
   },
   "file_extension": ".py",
   "mimetype": "text/x-python",
   "name": "python",
   "nbconvert_exporter": "python",
   "pygments_lexer": "ipython3",
   "version": "3.12.7"
  }
 },
 "nbformat": 4,
 "nbformat_minor": 2
}
